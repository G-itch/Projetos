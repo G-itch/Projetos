{
 "metadata": {
  "language_info": {
   "codemirror_mode": {
    "name": "ipython",
    "version": 3
   },
   "file_extension": ".py",
   "mimetype": "text/x-python",
   "name": "python",
   "nbconvert_exporter": "python",
   "pygments_lexer": "ipython3",
   "version": "3.8.1-final"
  },
  "orig_nbformat": 2,
  "kernelspec": {
   "name": "python3",
   "display_name": "Python 3"
  }
 },
 "nbformat": 4,
 "nbformat_minor": 2,
 "cells": [
  {
   "cell_type": "code",
   "execution_count": 1,
   "metadata": {},
   "outputs": [],
   "source": [
    "import gym \n",
    "import random\n",
    "import numpy as np \n",
    "from keras.models import Sequential\n",
    "from keras.layers import Dense\n",
    "from keras.optimizers import Adam"
   ]
  },
  {
   "cell_type": "code",
   "execution_count": 2,
   "metadata": {},
   "outputs": [],
   "source": [
    "env = gym.make('CartPole-v1')\n",
    "env.reset()\n",
    "goal_steps= 500\n",
    "score_requirement = 60\n",
    "initial_games = 10000"
   ]
  },
  {
   "cell_type": "code",
   "execution_count": 3,
   "metadata": {},
   "outputs": [],
   "source": [
    "def model_data_preparation():\n",
    "    training_data = []\n",
    "    accepted_scores = []\n",
    "    for game_index in range(initial_games):\n",
    "        score = 0\n",
    "        game_memory = []\n",
    "        previous_observation = []\n",
    "        for step_index in range(goal_steps):\n",
    "            action = random.randrange(0, 2)\n",
    "            observation, reward, done, info = env.step(action)\n",
    "\n",
    "            if len(previous_observation) > 0:\n",
    "                game_memory.append([previous_observation,action])\n",
    "\n",
    "            previous_observation = observation\n",
    "\n",
    "            score += reward\n",
    "            if done: \n",
    "                break\n",
    "\n",
    "        if score >= score_requirement:\n",
    "            accepted_scores.append(score)\n",
    "            for data in game_memory:\n",
    "                if data[1] == 1:\n",
    "                    output = [0, 1]\n",
    "                elif data[1] == 0:\n",
    "                    output = [1, 0]\n",
    "                training_data.append([data[0],output])\n",
    "        \n",
    "        env.reset()\n",
    "\n",
    "    print(accepted_scores)\n",
    "    \n",
    "    return training_data"
   ]
  },
  {
   "cell_type": "code",
   "execution_count": 4,
   "metadata": {},
   "outputs": [],
   "source": [
    "def build_model(input_size,output_size):\n",
    "    model = Sequential()\n",
    "    model.add(Dense(128,input_dim= input_size, activation = \"relu\"))\n",
    "    model.add(Dense(52,activation=\"relu\"))\n",
    "    model.add(Dense(output_size,activation=\"linear\"))\n",
    "    model.compile(loss=\"mse\",optimizer=Adam())\n",
    "    return model"
   ]
  },
  {
   "cell_type": "code",
   "execution_count": 5,
   "metadata": {},
   "outputs": [],
   "source": [
    "def train_model(training_data):\n",
    "    x = np.array([i[0] for i in training_data]).reshape(-1,len(training_data[0][0]))\n",
    "    y = np.array([i[1] for i in training_data]).reshape(-1,len(training_data[0][1]))\n",
    "    model = build_model(input_size=len(x[0]), output_size=len(y[0]))\n",
    "    model.fit(x,y, epochs= 10)\n",
    "    return model"
   ]
  },
  {
   "cell_type": "code",
   "execution_count": 6,
   "metadata": {},
   "outputs": [
    {
     "output_type": "stream",
     "name": "stdout",
     "text": [
      "[64.0, 65.0, 68.0, 62.0, 65.0, 80.0, 88.0, 66.0, 82.0, 131.0, 65.0, 64.0, 62.0, 62.0, 111.0, 71.0, 65.0, 67.0, 84.0, 60.0, 74.0, 67.0, 77.0, 78.0, 63.0, 84.0, 67.0, 60.0, 69.0, 60.0, 74.0, 63.0, 60.0, 61.0, 67.0, 64.0, 96.0, 60.0, 69.0, 60.0, 60.0, 68.0, 68.0, 68.0, 76.0, 69.0, 79.0, 67.0, 70.0, 78.0, 74.0, 78.0, 73.0, 80.0, 107.0, 74.0, 62.0, 61.0, 64.0, 114.0, 65.0, 81.0, 93.0, 68.0, 81.0, 65.0, 70.0, 71.0, 67.0, 84.0, 72.0, 74.0, 70.0, 91.0, 73.0, 86.0, 84.0, 61.0, 80.0, 71.0, 85.0, 83.0, 92.0, 72.0, 62.0, 72.0, 74.0, 67.0, 67.0, 76.0, 77.0, 72.0, 70.0, 60.0, 61.0, 120.0, 67.0, 73.0, 60.0, 65.0, 60.0, 60.0, 75.0, 83.0, 76.0, 63.0, 65.0, 109.0, 68.0, 60.0, 90.0, 65.0, 73.0, 69.0, 65.0, 64.0, 77.0, 75.0, 80.0, 67.0, 103.0, 64.0, 66.0, 87.0, 71.0, 87.0, 65.0, 63.0, 75.0, 67.0, 79.0, 79.0, 61.0, 75.0, 76.0, 67.0, 62.0, 60.0, 70.0, 67.0, 60.0, 63.0, 60.0, 76.0, 82.0, 68.0, 66.0, 77.0, 77.0, 99.0, 68.0, 60.0, 103.0, 62.0, 71.0]\n"
     ]
    }
   ],
   "source": [
    "training_data = model_data_preparation()"
   ]
  },
  {
   "cell_type": "code",
   "execution_count": 7,
   "metadata": {},
   "outputs": [
    {
     "output_type": "stream",
     "name": "stdout",
     "text": [
      "Epoch 1/10\n",
      "349/349 [==============================] - 0s 1ms/step - loss: 0.2477\n",
      "Epoch 2/10\n",
      "349/349 [==============================] - 1s 1ms/step - loss: 0.2346\n",
      "Epoch 3/10\n",
      "349/349 [==============================] - 0s 1ms/step - loss: 0.2336\n",
      "Epoch 4/10\n",
      "349/349 [==============================] - 0s 1ms/step - loss: 0.2324\n",
      "Epoch 5/10\n",
      "349/349 [==============================] - 0s 1ms/step - loss: 0.2324\n",
      "Epoch 6/10\n",
      "349/349 [==============================] - 0s 1ms/step - loss: 0.2321\n",
      "Epoch 7/10\n",
      "349/349 [==============================] - 1s 1ms/step - loss: 0.2317\n",
      "Epoch 8/10\n",
      "349/349 [==============================] - 0s 1ms/step - loss: 0.2318\n",
      "Epoch 9/10\n",
      "349/349 [==============================] - 1s 2ms/step - loss: 0.2314\n",
      "Epoch 10/10\n",
      "349/349 [==============================] - 0s 1ms/step - loss: 0.2310\n"
     ]
    }
   ],
   "source": [
    "\n",
    "trained_model = train_model(training_data)"
   ]
  },
  {
   "cell_type": "code",
   "execution_count": 11,
   "metadata": {},
   "outputs": [],
   "source": [
    "def model_data_preparation():\n",
    "    training_data = []\n",
    "    accepted_scores = []\n",
    "    for game_index in range(intial_games):\n",
    "        score = 0\n",
    "        game_memory = []\n",
    "        previous_observation = []\n",
    "        for step_index in range(goal_steps):\n",
    "            action = random.randrange(0, 2)\n",
    "            observation, reward, done, info = env.step(action)\n",
    "            \n",
    "            if len(previous_observation) > 0:\n",
    "                game_memory.append([previous_observation, action])\n",
    "                \n",
    "            previous_observation = observation\n",
    "            score += reward\n",
    "            if done:\n",
    "                break\n",
    "            \n",
    "        if score >= score_requirement:\n",
    "            accepted_scores.append(score)\n",
    "            for data in game_memory:\n",
    "                if data[1] == 1:\n",
    "                    output = [0, 1]\n",
    "                elif data[1] == 0:\n",
    "                    output = [1, 0]\n",
    "                training_data.append([data[0], output])\n",
    "        \n",
    "        env.reset()\n",
    "\n",
    "    print(accepted_scores)\n",
    "    \n",
    "    return training_data"
   ]
  },
  {
   "cell_type": "code",
   "execution_count": null,
   "metadata": {},
   "outputs": [],
   "source": [
    "training_data = model_data_preparation"
   ]
  },
  {
   "cell_type": "code",
   "execution_count": null,
   "metadata": {},
   "outputs": [],
   "source": []
  }
 ]
}