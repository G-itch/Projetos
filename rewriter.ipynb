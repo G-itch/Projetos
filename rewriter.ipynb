{
 "metadata": {
  "language_info": {
   "codemirror_mode": {
    "name": "ipython",
    "version": 3
   },
   "file_extension": ".py",
   "mimetype": "text/x-python",
   "name": "python",
   "nbconvert_exporter": "python",
   "pygments_lexer": "ipython3",
   "version": "3.8.1-final"
  },
  "orig_nbformat": 2,
  "kernelspec": {
   "name": "python38164bit54c1bc44a85c499ea48408c705f076c8",
   "display_name": "Python 3.8.1 64-bit"
  }
 },
 "nbformat": 4,
 "nbformat_minor": 2,
 "cells": [
  {
   "cell_type": "code",
   "execution_count": 3,
   "metadata": {},
   "outputs": [
    {
     "output_type": "stream",
     "name": "stdout",
     "text": [
      "{\"message\":\"You are not subscribed to this API.\"}\n"
     ]
    }
   ],
   "source": [
    "import requests\n",
    "\n",
    "url = \"https://rewriter-paraphraser-text-changer-multi-language.p.rapidapi.com/rewrite\"\n",
    "\n",
    "payload = {\"language\":\"en\",\"strength\":\"2\",\"text\":\"Rewriting text is fun!\"}\n",
    "headers = {\n",
    "    'content-type': \"application/json\",\n",
    "    'x-rapidapi-key': \"eb445f2bc2msha4d2cb936b5d60ap128652jsn057a0749e924\",\n",
    "    'x-rapidapi-host': \"rewriter-paraphraser-text-changer-multi-language.p.rapidapi.com\"\n",
    "    }\n",
    "\n",
    "response = requests.request(\"POST\", url, data=payload, headers=headers)\n",
    "\n",
    "print(response.text)"
   ]
  },
  {
   "cell_type": "code",
   "execution_count": 4,
   "metadata": {},
   "outputs": [
    {
     "output_type": "stream",
     "name": "stdout",
     "text": [
      "{\"message\":\"You are not subscribed to this API.\"}\n"
     ]
    }
   ],
   "source": [
    "import requests\n",
    "\n",
    "url = \"https://rewriter-paraphraser-text-changer-multi-language.p.rapidapi.com/rewrite\"\n",
    "\n",
    "payload = \"{\\r\\n    \\\"language\\\": \\\"en\\\",\\r\\n    \\\"strength\\\": 3,\\r\\n    \\\"text\\\": \\\"Rewriting text is fun!\\\"\\r\\n}\"\n",
    "headers = {\n",
    "    'content-type': \"application/json\",\n",
    "    'x-rapidapi-key': \"eb445f2bc2msha4d2cb936b5d60ap128652jsn057a0749e924\",\n",
    "    'x-rapidapi-host': \"rewriter-paraphraser-text-changer-multi-language.p.rapidapi.com\"\n",
    "    }\n",
    "\n",
    "response = requests.request(\"POST\", url, data=payload, headers=headers)\n",
    "\n",
    "print(response.text)"
   ]
  },
  {
   "cell_type": "code",
   "execution_count": 1,
   "metadata": {},
   "outputs": [],
   "source": [
    "from selenium import webdriver"
   ]
  },
  {
   "cell_type": "code",
   "execution_count": 34,
   "metadata": {},
   "outputs": [
    {
     "output_type": "error",
     "ename": "SyntaxError",
     "evalue": "invalid syntax (<ipython-input-34-caf96ac6ee67>, line 3)",
     "traceback": [
      "\u001b[1;36m  File \u001b[1;32m\"<ipython-input-34-caf96ac6ee67>\"\u001b[1;36m, line \u001b[1;32m3\u001b[0m\n\u001b[1;33m    \"\"\"driver = webdriver.Chrome(\"C:/Users/Enzo/Downloads/Programação Python-backup/Programação Python-backup/.vscode/chromedriver.exe\")\u001b[0m\n\u001b[1;37m     ^\u001b[0m\n\u001b[1;31mSyntaxError\u001b[0m\u001b[1;31m:\u001b[0m invalid syntax\n"
     ]
    }
   ],
   "source": [
    "chromeoptions = Options()\n",
    "c\"\"\"hrome_ptions.add_argument('--headless')\n",
    "\"\"\"driver = webdriver.Chrome(\"C:/Users/Enzo/Downloads/Programação Python-backup/Programação Python-backup/.vscode/chromedriver.exe\")\n",
    ",chrome_options=chromeoptionsdriver.get(\"https://www.google.com/search?q=tradutor&oq=tradutor&aqs=chrome.0.69i59l2j0j0i433l3j0l2.2591j0j7&sourceid=chrome&ie=UTF-8\")\n",
    "\n"
   ]
  },
  {
   "cell_type": "code",
   "execution_count": 32,
   "metadata": {},
   "outputs": [],
   "source": [
    "x = input(\":\")"
   ]
  },
  {
   "cell_type": "code",
   "execution_count": null,
   "metadata": {},
   "outputs": [],
   "source": []
  },
  {
   "cell_type": "code",
   "execution_count": 36,
   "metadata": {},
   "outputs": [],
   "source": [
    "\n",
    "driver.find_element_by_xpath('//*[@id=\"tw-source-text-ta\"]').send_keys(\"Aesthetics may be defined narrowly as the theory of beauty, or more broadly as that together with the philosophy of art. The traditional interest in beauty itself broadened, in the eighteenth century, to include the sublime, and since 1950 or so the number of pure aesthetic concepts discussed in the literature has expanded even more. Traditionally, the philosophy of art concentrated on its definition, but recently this has not been the focus, with careful analyses of aspects of art largely replacing it. Philosophical aesthetics is here considered to center on these latter-day developments. Thus, after a survey of ideas about beauty and related concepts, questions about the value of aesthetic experience and the variety of aesthetic attitudes will be addressed, before turning to matters which separate art from pure aesthetics, notably the presence of intention. That will lead to a survey of some of the main definitions of art which have been proposed, together with an account of the recent “de-definition” period. The concepts of expression, representation, and the nature of art objects will then be covered.\")\n",
    "sleep(0.2)\n",
    "driver.find_element_by_xpath('//*[@id=\"tw-cpy-btn\"]').click()"
   ]
  },
  {
   "cell_type": "code",
   "execution_count": 13,
   "metadata": {},
   "outputs": [],
   "source": [
    "from time import sleep"
   ]
  },
  {
   "cell_type": "code",
   "execution_count": 22,
   "metadata": {},
   "outputs": [],
   "source": [
    "sleep(0.5)"
   ]
  },
  {
   "cell_type": "code",
   "execution_count": 28,
   "metadata": {},
   "outputs": [],
   "source": [
    "from selenium.webdriver.chrome.options import Options"
   ]
  },
  {
   "cell_type": "code",
   "execution_count": 40,
   "metadata": {},
   "outputs": [],
   "source": []
  },
  {
   "cell_type": "code",
   "execution_count": null,
   "metadata": {},
   "outputs": [],
   "source": [
    "A estética pode ser definida estritamente como a teoria da beleza ou, mais amplamente, como aquela em conjunto com a filosofia da arte. O interesse tradicional pela própria beleza se ampliou, no século XVIII, para incluir o sublime e, a partir de 1950, o número de conceitos estéticos puros discutidos na literatura se expandiu ainda mais. Tradicionalmente, a filosofia da arte concentrava-se em sua definição, mas recentemente esse não tem sido o foco, com análises cuidadosas de aspectos da arte em grande parte substituindo-o. A estética filosófica é aqui considerada centrada nesses desenvolvimentos modernos. Assim, após um levantamento de ideias sobre beleza e conceitos relacionados, serão abordadas questões sobre o valor da experiência estética e a variedade de atitudes estéticas, antes de nos voltarmos para questões que separam a arte da estética pura, notadamente a presença de intenção. Isso levará a um levantamento de algumas das principais definições de arte que foram propostas, juntamente com um relato do recente período de “de-definição”. Os conceitos de expressão, representação e a natureza dos objetos de arte serão então abordados."
   ]
  },
  {
   "cell_type": "code",
   "execution_count": null,
   "metadata": {},
   "outputs": [],
   "source": [
    "A estética pode ser autêntica cuidadosamente como a abordagem da adorabilidade ou, de maneira geral, como aquela em afiliação com a estética da arte. A absorção aceitável na própria adorabilidade expandiu-se, no século 18, para acomodar o abstrato e, a partir de 1950, o cardeal dos conceitos artísticos autênticos discutidos no abstrato transmitido da mesma forma. Tradicionalmente, a estética da arte tem se concentrado em sua definição, mas, de novo, esse não tem sido o foco, com o ensaio preciso de aspectos da arte substituindo-o abundantemente. A estética filosófica é, na verdade, aconselhada a ser centrada nesses desenvolvimentos de vanguarda. Assim, depois de uma análise anual sobre adorabilidade e conceitos que os acompanham, questões sobre a quantidade de conhecimento artístico e a gama de atitudes artísticas serão abordadas, antes eixo de questões que abstraíram a arte da estética autêntica, visivelmente o atendimento da intenção. Isso levará a uma análise de algumas das definições importantes da arte que"
   ]
  },
  {
   "cell_type": "code",
   "execution_count": null,
   "metadata": {},
   "outputs": [],
   "source": []
  },
  {
   "cell_type": "code",
   "execution_count": 76,
   "metadata": {},
   "outputs": [
    {
     "output_type": "stream",
     "name": "stdout",
     "text": [
      "De longe, o mais completo e afetuoso dos teóricos aborígenes foi Immanuel Kant, aparentemente no final do século XVIII. Portanto, é importante, aborígene de todos, aceitar alguma faculdade de como Kant abordou o assunto. Críticas a suas idéias e alternativas a elas serão apresentadas posteriormente nesta entrada, mas por meio dele podemos acomodar alguns dos conceitos-chave do accountable por meio de introdução.\n"
     ]
    }
   ],
   "source": [
    "chromeoptions = Options()\n",
    "chromeoptions.add_argument('--headless')\n",
    "driver = webdriver.Chrome(\"C:/Users/Enzo/Downloads/Programação Python-backup/Programação Python-backup/.vscode/chromedriver.exe\",chrome_options=chromeoptions)\n",
    "driver.get(\"https://small-seo-tools.zuumsoft.com/tool/article-rewriter-tool/\")\n",
    "driver.find_element_by_xpath('//*[@id=\"formSubmit\"]/textarea').send_keys(\"By far the most thoroughgoing and influential of the early theorists was Immanuel Kant, towards the end of the eighteenth century. Therefore it is important, first of all, to have some sense of how Kant approached the subject. Criticisms of his ideas, and alternatives to them, will be presented later in this entry, but through him we can meet some of the key concepts in the subject by way of introduction.\")\n",
    "driver.find_element_by_xpath('//*[@id=\"submit\"]').click()\n",
    "sleep(0.4)\n",
    "x2 = driver.find_element_by_xpath('//*[@id=\"textarea\"]').text\n",
    "chromeoptions = Options()\n",
    "chromeoptions.add_argument('--headless')\n",
    "driver = webdriver.Chrome(\"C:/Users/Enzo/Downloads/Programação Python-backup/Programação Python-backup/.vscode/chromedriver.exe\",chrome_options=chromeoptions)\n",
    "driver.get(\"https://www.google.com/search?q=tradutor&oq=tradutor&aqs=chrome.0.69i59l2j0j0i433l3j0l2.2591j0j7&sourceid=chrome&ie=UTF-8\")\n",
    "driver.find_element_by_xpath('//*[@id=\"tw-source-text-ta\"]').send_keys(x2)\n",
    "sleep(1)\n",
    "x3 = driver.find_element_by_xpath('//*[@id=\"tw-target-text\"]/span').text\n",
    "\"\"\"driver.find_element_by_id('tw-cpy-btn').click()\"\"\"\n",
    "print(x3)"
   ]
  },
  {
   "cell_type": "code",
   "execution_count": 110,
   "metadata": {},
   "outputs": [
    {
     "output_type": "stream",
     "name": "stdout",
     "text": [
      "A programação de laptop é o processo de projetar e construir um aplicativo executável de laptop para obter um resultado de computação específico ou realizar um empreendimento selecionado. A programação envolve funções que incluem: avaliação, geração de algoritmos, precisão dos algoritmos de criação de perfil e entrada de ajuda, e a implementação de algoritmos em uma linguagem de programação delegada (normalmente chamada de codificação). O código-fonte de um software é escrito em uma ou mais linguagens que podem ser inteligíveis para os programadores, ao invés de código de sistema, que é executado sem demora por meio da importante unidade de processamento. O objetivo da programação é encontrar uma série de comandos uma boa maneira de automatizar o desempenho geral de uma tarefa (que pode ser tão complexa quanto um sistema operacional) em um computador, frequentemente para resolver um determinado incômodo. Assim, a programação talentosa geralmente requer informações em vários assuntos únicos, que incluem experiência no domínio do software, algoritmos especializados e bom senso formal. responsabilidades que acompanham e associadas com a programação consistem em: verificação, depuração, proteção do código-fonte, implementação de estruturas de construção e gerenciamento de artefatos derivados, que inclui o código de máquina de aplicativos de PC. eles provavelmente são levados em consideração como parte da maneira de programação; no entanto, freqüentemente o termo melhoria do programa de software é usado para essa grande técnica com o termo programação, implementação ou codificação reservada para a escrita real do código. a engenharia do programa de software combina estratégias de engenharia com práticas de melhoria do programa de software. A engenharia oposta é uma técnica relacionada utilizada por designers, analistas e programadores para entender e recriar / colocar em prática.\n"
     ]
    }
   ],
   "source": [
    "chromeoptions = Options()\n",
    "chromeoptions.add_argument('--headless')\n",
    "chromeoptions.add_argument('--no-sandbox')\n",
    "chromeoptions.add_argument('--disable-dev-shm-usage')\n",
    "driver = webdriver.Chrome(\"C:/Users/Enzo/Downloads/Programação Python-backup/Programação Python-backup/.vscode/chromedriver.exe\",chrome_options=chromeoptions)\n",
    "driver.get(\"https://seotoolscentre.com/article-rewriter-tool\")\n",
    "sleep(0.5)\n",
    "driver.find_element_by_id(\"data\").send_keys(\"Computer programming is the process of designing and building an executable computer program to accomplish a specific computing result or to perform a specific task. Programming involves tasks such as: analysis, generating algorithms, profiling algorithms' accuracy and resource consumption, and the implementation of algorithms in a chosen programming language (commonly referred to as coding). The source code of a program is written in one or more languages that are intelligible to programmers, rather than machine code, which is directly executed by the central processing unit. The purpose of programming is to find a sequence of instructions that will automate the performance of a task (which can be as complex as an operating system) on a computer, often for solving a given problem. Proficient programming thus often requires expertise in several different subjects, including knowledge of the application domain, specialized algorithms, and formal logic.                  Tasks accompanying and related to programming include: testing, debugging, source code maintenance, implementation of build systems, and management of derived artifacts, such as the machine code of computer programs. These might be considered part of the programming process, but often the term software development is used for this larger process with the term programming, implementation, or coding reserved for the actual writing of code. Software engineering combines engineering techniques with software development practices. Reverse engineering is a related process used by designers, analysts and programmers to understand and re-create/re-implement.\")\n",
    "sleep(0.4)\n",
    "driver.find_element_by_id(\"checkButton\").click()\n",
    "sleep(2)\n",
    "driver.find_element_by_id(\"finishButton\").click()\n",
    "sleep(0.7)\n",
    "x2 = driver.find_element_by_id(\"textArea\").get_attribute(\"value\")\n",
    "chromeoptions = Options()\n",
    "chromeoptions.add_argument('--headless')\n",
    "driver = webdriver.Chrome(\"C:/Users/Enzo/Downloads/Programação Python-backup/Programação Python-backup/.vscode/chromedriver.exe\",chrome_options=chromeoptions)\n",
    "driver.get(\"https://www.google.com/search?q=tradutor&oq=tradutor&aqs=chrome.0.69i59l2j0j0i433l3j0l2.2591j0j7&sourceid=chrome&ie=UTF-8\")\n",
    "driver.find_element_by_xpath('//*[@id=\"tw-source-text-ta\"]').send_keys(x2)\n",
    "sleep(1)\n",
    "x3 = driver.find_element_by_xpath('//*[@id=\"tw-target-text\"]/span').text\n",
    "\"\"\"driver.find_element_by_id('tw-cpy-btn').click()\"\"\"\n",
    "print(x3)                                          "
   ]
  },
  {
   "cell_type": "code",
   "execution_count": null,
   "metadata": {},
   "outputs": [],
   "source": [
    "Programação de computador é o processo de projetar e construir um programa de computador executável para realizar um resultado de computação específico ou para realizar uma tarefa específica. A programação envolve tarefas como: análise, geração de algoritmos, precisão dos algoritmos de criação de perfil e consumo de recursos, e a implementação de algoritmos em uma linguagem de programação escolhida (comumente referida como codificação). O código-fonte de um programa é escrito em uma ou mais linguagens inteligíveis para os programadores, ao invés do código de máquina, que é executado diretamente pela unidade central de processamento. O objetivo da programação é encontrar uma sequência de instruções que automatizará o desempenho de uma tarefa (que pode ser tão complexa quanto um sistema operacional) em um computador, geralmente para resolver um determinado problema. A programação proficiente, portanto, muitas vezes requer experiência em vários assuntos diferentes, incluindo conhecimento do domínio do aplicativo, algoritmos especializados e lógica formal.\n",
    "\n",
    "As tarefas que acompanham e estão relacionadas à programação incluem: teste, depuração, manutenção do código-fonte, implementação de sistemas de construção e gerenciamento de artefatos derivados, como o código de máquina de programas de computador. Isso pode ser considerado parte do processo de programação, mas geralmente o termo desenvolvimento de software é usado para esse processo mais amplo, com o termo programação, implementação ou codificação reservada para a escrita real do código. A engenharia de software combina técnicas de engenharia com práticas de desenvolvimento de software. A engenharia reversa é um processo relacionado usado por designers, analistas e programadores para entender e recriar / reimplementar."
   ]
  },
  {
   "cell_type": "code",
   "execution_count": null,
   "metadata": {},
   "outputs": [],
   "source": [
    "\n",
    "A estética pode ser definida estritamente como a teoria da beleza ou, mais amplamente, como aquela em conjunto com a filosofia da arte. O interesse tradicional pela própria beleza se ampliou, no século XVIII, para incluir o sublime e, desde 1950, o número de conceitos estéticos puros discutidos na literatura se expandiu ainda mais. Tradicionalmente, a filosofia da arte concentrava-se em sua definição, mas recentemente esse não tem sido o foco, com análises cuidadosas de aspectos da arte em grande parte substituindo-o. A estética filosófica é considerada aqui como centrada nesses desenvolvimentos modernos. Assim, após um levantamento de ideias sobre beleza e conceitos relacionados, serão abordadas questões sobre o valor da experiência estética e a variedade de atitudes estéticas, antes de nos voltarmos para questões que separam a arte da estética pura, notadamente a presença de intenção. Isso levará a um levantamento de algumas das principais definições de arte que foram propostas, juntamente com um relato do recente período de “de-definição”. Os conceitos de expressão, representação e a natureza dos objetos de arte serão então abordados."
   ]
  },
  {
   "cell_type": "code",
   "execution_count": null,
   "metadata": {},
   "outputs": [],
   "source": [
    "A estética pode ser definida estritamente como o princípio da beleza, ou mais extensivamente como aquele coletivamente com a filosofia da arte. O interesse convencional pelo próprio esplendor se ampliou, no século XVIII, para consistir no sublime, e porque 1950 ou mais a quantidade de idéias estéticas puras discutidas na literatura se expandiu ainda mais. historicamente, a filosofia da arte visava sua definição, mas ultimamente esse não tem sido mais o foco, com análises cautelosas de aspectos da arte em grande parte mudando-o. A estética filosófica é aqui levada em consideração como meio nesses desenvolvimentos modernos. conseqüentemente, após um levantamento de idéias sobre esplendor e padrões relacionados, questões sobre o preço do gozo estético e a forma das atitudes estéticas poderiam ser abordadas, antes de nos voltarmos para tópicos que separam a arte da estética natural, extensivamente a presença de um objetivo. uma boa maneira de resultar em um levantamento de uma série de definições primárias de obra de arte que foram propostas, coletivamente com um relato do atual período de “de-definição”. Os conceitos de expressão, representação e a natureza dos itens de arte serão então abordados."
   ]
  }
 ]
}