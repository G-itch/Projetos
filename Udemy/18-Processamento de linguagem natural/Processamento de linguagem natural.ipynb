{
 "metadata": {
  "language_info": {
   "codemirror_mode": {
    "name": "ipython",
    "version": 3
   },
   "file_extension": ".py",
   "mimetype": "text/x-python",
   "name": "python",
   "nbconvert_exporter": "python",
   "pygments_lexer": "ipython3",
   "version": 3
  },
  "orig_nbformat": 2,
  "kernelspec": {
   "name": "python_defaultSpec_1595941068939",
   "display_name": "Python 3.8.1 64-bit"
  }
 },
 "nbformat": 4,
 "nbformat_minor": 2,
 "cells": [
  {
   "cell_type": "code",
   "execution_count": 4,
   "metadata": {},
   "outputs": [],
   "source": [
    "import nltk"
   ]
  },
  {
   "cell_type": "code",
   "execution_count": 2,
   "metadata": {
    "tags": []
   },
   "outputs": [
    {
     "output_type": "stream",
     "name": "stdout",
     "text": "showing info https://raw.githubusercontent.com/nltk/nltk_data/gh-pages/index.xml\n"
    },
    {
     "output_type": "execute_result",
     "data": {
      "text/plain": "True"
     },
     "metadata": {},
     "execution_count": 2
    }
   ],
   "source": [
    "nltk.download()"
   ]
  },
  {
   "cell_type": "code",
   "execution_count": 5,
   "metadata": {},
   "outputs": [],
   "source": [
    "messages = [line.strip for line in open(\"SMSSpamCollectionf\")]"
   ]
  },
  {
   "cell_type": "code",
   "execution_count": 6,
   "metadata": {},
   "outputs": [
    {
     "output_type": "execute_result",
     "data": {
      "text/plain": "5574"
     },
     "metadata": {},
     "execution_count": 6
    }
   ],
   "source": [
    "len(messages)"
   ]
  },
  {
   "cell_type": "code",
   "execution_count": 1,
   "metadata": {},
   "outputs": [],
   "source": [
    "import pandas as pd \n",
    "import numpy as np "
   ]
  },
  {
   "cell_type": "code",
   "execution_count": 15,
   "metadata": {},
   "outputs": [],
   "source": [
    "df = pd.read_csv(\"SMSSpamCollectionf\",sep=\"\\t\",names=[\"Type of the message\",\"Message\"])"
   ]
  },
  {
   "cell_type": "code",
   "execution_count": 17,
   "metadata": {},
   "outputs": [
    {
     "output_type": "execute_result",
     "data": {
      "text/plain": "  Type of the message                                            Message\n0                 ham  Go until jurong point, crazy.. Available only ...\n1                 ham                      Ok lar... Joking wif u oni...\n2                spam  Free entry in 2 a wkly comp to win FA Cup fina...\n3                 ham  U dun say so early hor... U c already then say...\n4                 ham  Nah I don't think he goes to usf, he lives aro...",
      "text/html": "<div>\n<style scoped>\n    .dataframe tbody tr th:only-of-type {\n        vertical-align: middle;\n    }\n\n    .dataframe tbody tr th {\n        vertical-align: top;\n    }\n\n    .dataframe thead th {\n        text-align: right;\n    }\n</style>\n<table border=\"1\" class=\"dataframe\">\n  <thead>\n    <tr style=\"text-align: right;\">\n      <th></th>\n      <th>Type of the message</th>\n      <th>Message</th>\n    </tr>\n  </thead>\n  <tbody>\n    <tr>\n      <th>0</th>\n      <td>ham</td>\n      <td>Go until jurong point, crazy.. Available only ...</td>\n    </tr>\n    <tr>\n      <th>1</th>\n      <td>ham</td>\n      <td>Ok lar... Joking wif u oni...</td>\n    </tr>\n    <tr>\n      <th>2</th>\n      <td>spam</td>\n      <td>Free entry in 2 a wkly comp to win FA Cup fina...</td>\n    </tr>\n    <tr>\n      <th>3</th>\n      <td>ham</td>\n      <td>U dun say so early hor... U c already then say...</td>\n    </tr>\n    <tr>\n      <th>4</th>\n      <td>ham</td>\n      <td>Nah I don't think he goes to usf, he lives aro...</td>\n    </tr>\n  </tbody>\n</table>\n</div>"
     },
     "metadata": {},
     "execution_count": 17
    }
   ],
   "source": [
    "df.head()"
   ]
  },
  {
   "cell_type": "code",
   "execution_count": 19,
   "metadata": {},
   "outputs": [
    {
     "output_type": "execute_result",
     "data": {
      "text/plain": "       Type of the message                 Message\ncount                 5572                    5572\nunique                   2                    5169\ntop                    ham  Sorry, I'll call later\nfreq                  4825                      30",
      "text/html": "<div>\n<style scoped>\n    .dataframe tbody tr th:only-of-type {\n        vertical-align: middle;\n    }\n\n    .dataframe tbody tr th {\n        vertical-align: top;\n    }\n\n    .dataframe thead th {\n        text-align: right;\n    }\n</style>\n<table border=\"1\" class=\"dataframe\">\n  <thead>\n    <tr style=\"text-align: right;\">\n      <th></th>\n      <th>Type of the message</th>\n      <th>Message</th>\n    </tr>\n  </thead>\n  <tbody>\n    <tr>\n      <th>count</th>\n      <td>5572</td>\n      <td>5572</td>\n    </tr>\n    <tr>\n      <th>unique</th>\n      <td>2</td>\n      <td>5169</td>\n    </tr>\n    <tr>\n      <th>top</th>\n      <td>ham</td>\n      <td>Sorry, I'll call later</td>\n    </tr>\n    <tr>\n      <th>freq</th>\n      <td>4825</td>\n      <td>30</td>\n    </tr>\n  </tbody>\n</table>\n</div>"
     },
     "metadata": {},
     "execution_count": 19
    }
   ],
   "source": [
    "df.describe()"
   ]
  },
  {
   "cell_type": "code",
   "execution_count": 20,
   "metadata": {},
   "outputs": [
    {
     "output_type": "execute_result",
     "data": {
      "text/plain": "                    Message         \\\n                      count unique   \nType of the message                  \nham                    4825   4516   \nspam                    747    653   \n\n                                                                             \n                                                                   top freq  \nType of the message                                                          \nham                                             Sorry, I'll call later   30  \nspam                 Please call our customer service representativ...    4  ",
      "text/html": "<div>\n<style scoped>\n    .dataframe tbody tr th:only-of-type {\n        vertical-align: middle;\n    }\n\n    .dataframe tbody tr th {\n        vertical-align: top;\n    }\n\n    .dataframe thead tr th {\n        text-align: left;\n    }\n\n    .dataframe thead tr:last-of-type th {\n        text-align: right;\n    }\n</style>\n<table border=\"1\" class=\"dataframe\">\n  <thead>\n    <tr>\n      <th></th>\n      <th colspan=\"4\" halign=\"left\">Message</th>\n    </tr>\n    <tr>\n      <th></th>\n      <th>count</th>\n      <th>unique</th>\n      <th>top</th>\n      <th>freq</th>\n    </tr>\n    <tr>\n      <th>Type of the message</th>\n      <th></th>\n      <th></th>\n      <th></th>\n      <th></th>\n    </tr>\n  </thead>\n  <tbody>\n    <tr>\n      <th>ham</th>\n      <td>4825</td>\n      <td>4516</td>\n      <td>Sorry, I'll call later</td>\n      <td>30</td>\n    </tr>\n    <tr>\n      <th>spam</th>\n      <td>747</td>\n      <td>653</td>\n      <td>Please call our customer service representativ...</td>\n      <td>4</td>\n    </tr>\n  </tbody>\n</table>\n</div>"
     },
     "metadata": {},
     "execution_count": 20
    }
   ],
   "source": [
    "df.groupby(\"Type of the message\").describe()"
   ]
  },
  {
   "cell_type": "code",
   "execution_count": 21,
   "metadata": {},
   "outputs": [],
   "source": [
    "import matplotlib.pyplot as plt \n",
    "import seaborn as sns \n",
    "plt.style.use(\"seaborn\")\n",
    "%matplotlib inline"
   ]
  },
  {
   "cell_type": "code",
   "execution_count": 30,
   "metadata": {},
   "outputs": [],
   "source": [
    "df[\"length\"] = df[\"Message\"].apply(len)"
   ]
  },
  {
   "cell_type": "code",
   "execution_count": 31,
   "metadata": {},
   "outputs": [
    {
     "output_type": "execute_result",
     "data": {
      "text/plain": "<matplotlib.axes._subplots.AxesSubplot at 0x25f821daf10>"
     },
     "metadata": {},
     "execution_count": 31
    },
    {
     "output_type": "display_data",
     "data": {
      "text/plain": "<Figure size 864x720 with 1 Axes>",
      "image/svg+xml": "<?xml version=\"1.0\" encoding=\"utf-8\" standalone=\"no\"?>\r\n<!DOCTYPE svg PUBLIC \"-//W3C//DTD SVG 1.1//EN\"\r\n  \"http://www.w3.org/Graphics/SVG/1.1/DTD/svg11.dtd\">\r\n<!-- Created with matplotlib (https://matplotlib.org/) -->\r\n<svg height=\"574.145313pt\" version=\"1.1\" viewBox=\"0 0 721.871562 574.145313\" width=\"721.871562pt\" xmlns=\"http://www.w3.org/2000/svg\" xmlns:xlink=\"http://www.w3.org/1999/xlink\">\r\n <defs>\r\n  <style type=\"text/css\">\r\n*{stroke-linecap:butt;stroke-linejoin:round;}\r\n  </style>\r\n </defs>\r\n <g id=\"figure_1\">\r\n  <g id=\"patch_1\">\r\n   <path d=\"M 0 574.145313 \r\nL 721.871562 574.145313 \r\nL 721.871562 0 \r\nL 0 0 \r\nz\r\n\" style=\"fill:none;\"/>\r\n  </g>\r\n  <g id=\"axes_1\">\r\n   <g id=\"patch_2\">\r\n    <path d=\"M 45.071562 550.8 \r\nL 714.671563 550.8 \r\nL 714.671563 7.2 \r\nL 45.071562 7.2 \r\nz\r\n\" style=\"fill:#eaeaf2;\"/>\r\n   </g>\r\n   <g id=\"matplotlib.axis_1\">\r\n    <g id=\"xtick_1\">\r\n     <g id=\"line2d_1\">\r\n      <path clip-path=\"url(#p57b7c0ff9a)\" d=\"M 74.167117 550.8 \r\nL 74.167117 7.2 \r\n\" style=\"fill:none;stroke:#ffffff;stroke-linecap:round;\"/>\r\n     </g>\r\n     <g id=\"line2d_2\"/>\r\n     <g id=\"text_1\">\r\n      <!-- 0 -->\r\n      <defs>\r\n       <path d=\"M 4.15625 35.296875 \r\nQ 4.15625 48 6.765625 55.734375 \r\nQ 9.375 63.484375 14.515625 67.671875 \r\nQ 19.671875 71.875 27.484375 71.875 \r\nQ 33.25 71.875 37.59375 69.546875 \r\nQ 41.9375 67.234375 44.765625 62.859375 \r\nQ 47.609375 58.5 49.21875 52.21875 \r\nQ 50.828125 45.953125 50.828125 35.296875 \r\nQ 50.828125 22.703125 48.234375 14.96875 \r\nQ 45.65625 7.234375 40.5 3 \r\nQ 35.359375 -1.21875 27.484375 -1.21875 \r\nQ 17.140625 -1.21875 11.234375 6.203125 \r\nQ 4.15625 15.140625 4.15625 35.296875 \r\nz\r\nM 13.1875 35.296875 \r\nQ 13.1875 17.671875 17.3125 11.828125 \r\nQ 21.4375 6 27.484375 6 \r\nQ 33.546875 6 37.671875 11.859375 \r\nQ 41.796875 17.71875 41.796875 35.296875 \r\nQ 41.796875 52.984375 37.671875 58.78125 \r\nQ 33.546875 64.59375 27.390625 64.59375 \r\nQ 21.34375 64.59375 17.71875 59.46875 \r\nQ 13.1875 52.9375 13.1875 35.296875 \r\nz\r\n\" id=\"ArialMT-48\"/>\r\n      </defs>\r\n      <g style=\"fill:#262626;\" transform=\"translate(71.386648 564.957813)scale(0.1 -0.1)\">\r\n       <use xlink:href=\"#ArialMT-48\"/>\r\n      </g>\r\n     </g>\r\n    </g>\r\n    <g id=\"xtick_2\">\r\n     <g id=\"line2d_3\">\r\n      <path clip-path=\"url(#p57b7c0ff9a)\" d=\"M 208.248014 550.8 \r\nL 208.248014 7.2 \r\n\" style=\"fill:none;stroke:#ffffff;stroke-linecap:round;\"/>\r\n     </g>\r\n     <g id=\"line2d_4\"/>\r\n     <g id=\"text_2\">\r\n      <!-- 200 -->\r\n      <defs>\r\n       <path d=\"M 50.34375 8.453125 \r\nL 50.34375 0 \r\nL 3.03125 0 \r\nQ 2.9375 3.171875 4.046875 6.109375 \r\nQ 5.859375 10.9375 9.828125 15.625 \r\nQ 13.8125 20.3125 21.34375 26.46875 \r\nQ 33.015625 36.03125 37.109375 41.625 \r\nQ 41.21875 47.21875 41.21875 52.203125 \r\nQ 41.21875 57.421875 37.46875 61 \r\nQ 33.734375 64.59375 27.734375 64.59375 \r\nQ 21.390625 64.59375 17.578125 60.78125 \r\nQ 13.765625 56.984375 13.71875 50.25 \r\nL 4.6875 51.171875 \r\nQ 5.609375 61.28125 11.65625 66.578125 \r\nQ 17.71875 71.875 27.9375 71.875 \r\nQ 38.234375 71.875 44.234375 66.15625 \r\nQ 50.25 60.453125 50.25 52 \r\nQ 50.25 47.703125 48.484375 43.546875 \r\nQ 46.734375 39.40625 42.65625 34.8125 \r\nQ 38.578125 30.21875 29.109375 22.21875 \r\nQ 21.1875 15.578125 18.9375 13.203125 \r\nQ 16.703125 10.84375 15.234375 8.453125 \r\nz\r\n\" id=\"ArialMT-50\"/>\r\n      </defs>\r\n      <g style=\"fill:#262626;\" transform=\"translate(199.906608 564.957813)scale(0.1 -0.1)\">\r\n       <use xlink:href=\"#ArialMT-50\"/>\r\n       <use x=\"55.615234\" xlink:href=\"#ArialMT-48\"/>\r\n       <use x=\"111.230469\" xlink:href=\"#ArialMT-48\"/>\r\n      </g>\r\n     </g>\r\n    </g>\r\n    <g id=\"xtick_3\">\r\n     <g id=\"line2d_5\">\r\n      <path clip-path=\"url(#p57b7c0ff9a)\" d=\"M 342.328911 550.8 \r\nL 342.328911 7.2 \r\n\" style=\"fill:none;stroke:#ffffff;stroke-linecap:round;\"/>\r\n     </g>\r\n     <g id=\"line2d_6\"/>\r\n     <g id=\"text_3\">\r\n      <!-- 400 -->\r\n      <defs>\r\n       <path d=\"M 32.328125 0 \r\nL 32.328125 17.140625 \r\nL 1.265625 17.140625 \r\nL 1.265625 25.203125 \r\nL 33.9375 71.578125 \r\nL 41.109375 71.578125 \r\nL 41.109375 25.203125 \r\nL 50.78125 25.203125 \r\nL 50.78125 17.140625 \r\nL 41.109375 17.140625 \r\nL 41.109375 0 \r\nz\r\nM 32.328125 25.203125 \r\nL 32.328125 57.46875 \r\nL 9.90625 25.203125 \r\nz\r\n\" id=\"ArialMT-52\"/>\r\n      </defs>\r\n      <g style=\"fill:#262626;\" transform=\"translate(333.987505 564.957813)scale(0.1 -0.1)\">\r\n       <use xlink:href=\"#ArialMT-52\"/>\r\n       <use x=\"55.615234\" xlink:href=\"#ArialMT-48\"/>\r\n       <use x=\"111.230469\" xlink:href=\"#ArialMT-48\"/>\r\n      </g>\r\n     </g>\r\n    </g>\r\n    <g id=\"xtick_4\">\r\n     <g id=\"line2d_7\">\r\n      <path clip-path=\"url(#p57b7c0ff9a)\" d=\"M 476.409808 550.8 \r\nL 476.409808 7.2 \r\n\" style=\"fill:none;stroke:#ffffff;stroke-linecap:round;\"/>\r\n     </g>\r\n     <g id=\"line2d_8\"/>\r\n     <g id=\"text_4\">\r\n      <!-- 600 -->\r\n      <defs>\r\n       <path d=\"M 49.75 54.046875 \r\nL 41.015625 53.375 \r\nQ 39.84375 58.546875 37.703125 60.890625 \r\nQ 34.125 64.65625 28.90625 64.65625 \r\nQ 24.703125 64.65625 21.53125 62.3125 \r\nQ 17.390625 59.28125 14.984375 53.46875 \r\nQ 12.59375 47.65625 12.5 36.921875 \r\nQ 15.671875 41.75 20.265625 44.09375 \r\nQ 24.859375 46.4375 29.890625 46.4375 \r\nQ 38.671875 46.4375 44.84375 39.96875 \r\nQ 51.03125 33.5 51.03125 23.25 \r\nQ 51.03125 16.5 48.125 10.71875 \r\nQ 45.21875 4.9375 40.140625 1.859375 \r\nQ 35.0625 -1.21875 28.609375 -1.21875 \r\nQ 17.625 -1.21875 10.6875 6.859375 \r\nQ 3.765625 14.9375 3.765625 33.5 \r\nQ 3.765625 54.25 11.421875 63.671875 \r\nQ 18.109375 71.875 29.4375 71.875 \r\nQ 37.890625 71.875 43.28125 67.140625 \r\nQ 48.6875 62.40625 49.75 54.046875 \r\nz\r\nM 13.875 23.1875 \r\nQ 13.875 18.65625 15.796875 14.5 \r\nQ 17.71875 10.359375 21.1875 8.171875 \r\nQ 24.65625 6 28.46875 6 \r\nQ 34.03125 6 38.03125 10.484375 \r\nQ 42.046875 14.984375 42.046875 22.703125 \r\nQ 42.046875 30.125 38.078125 34.390625 \r\nQ 34.125 38.671875 28.125 38.671875 \r\nQ 22.171875 38.671875 18.015625 34.390625 \r\nQ 13.875 30.125 13.875 23.1875 \r\nz\r\n\" id=\"ArialMT-54\"/>\r\n      </defs>\r\n      <g style=\"fill:#262626;\" transform=\"translate(468.068402 564.957813)scale(0.1 -0.1)\">\r\n       <use xlink:href=\"#ArialMT-54\"/>\r\n       <use x=\"55.615234\" xlink:href=\"#ArialMT-48\"/>\r\n       <use x=\"111.230469\" xlink:href=\"#ArialMT-48\"/>\r\n      </g>\r\n     </g>\r\n    </g>\r\n    <g id=\"xtick_5\">\r\n     <g id=\"line2d_9\">\r\n      <path clip-path=\"url(#p57b7c0ff9a)\" d=\"M 610.490705 550.8 \r\nL 610.490705 7.2 \r\n\" style=\"fill:none;stroke:#ffffff;stroke-linecap:round;\"/>\r\n     </g>\r\n     <g id=\"line2d_10\"/>\r\n     <g id=\"text_5\">\r\n      <!-- 800 -->\r\n      <defs>\r\n       <path d=\"M 17.671875 38.8125 \r\nQ 12.203125 40.828125 9.5625 44.53125 \r\nQ 6.9375 48.25 6.9375 53.421875 \r\nQ 6.9375 61.234375 12.546875 66.546875 \r\nQ 18.171875 71.875 27.484375 71.875 \r\nQ 36.859375 71.875 42.578125 66.421875 \r\nQ 48.296875 60.984375 48.296875 53.171875 \r\nQ 48.296875 48.1875 45.671875 44.5 \r\nQ 43.0625 40.828125 37.75 38.8125 \r\nQ 44.34375 36.671875 47.78125 31.875 \r\nQ 51.21875 27.09375 51.21875 20.453125 \r\nQ 51.21875 11.28125 44.71875 5.03125 \r\nQ 38.234375 -1.21875 27.640625 -1.21875 \r\nQ 17.046875 -1.21875 10.546875 5.046875 \r\nQ 4.046875 11.328125 4.046875 20.703125 \r\nQ 4.046875 27.6875 7.59375 32.390625 \r\nQ 11.140625 37.109375 17.671875 38.8125 \r\nz\r\nM 15.921875 53.71875 \r\nQ 15.921875 48.640625 19.1875 45.40625 \r\nQ 22.46875 42.1875 27.6875 42.1875 \r\nQ 32.765625 42.1875 36.015625 45.375 \r\nQ 39.265625 48.578125 39.265625 53.21875 \r\nQ 39.265625 58.0625 35.90625 61.359375 \r\nQ 32.5625 64.65625 27.59375 64.65625 \r\nQ 22.5625 64.65625 19.234375 61.421875 \r\nQ 15.921875 58.203125 15.921875 53.71875 \r\nz\r\nM 13.09375 20.65625 \r\nQ 13.09375 16.890625 14.875 13.375 \r\nQ 16.65625 9.859375 20.171875 7.921875 \r\nQ 23.6875 6 27.734375 6 \r\nQ 34.03125 6 38.125 10.046875 \r\nQ 42.234375 14.109375 42.234375 20.359375 \r\nQ 42.234375 26.703125 38.015625 30.859375 \r\nQ 33.796875 35.015625 27.4375 35.015625 \r\nQ 21.234375 35.015625 17.15625 30.90625 \r\nQ 13.09375 26.8125 13.09375 20.65625 \r\nz\r\n\" id=\"ArialMT-56\"/>\r\n      </defs>\r\n      <g style=\"fill:#262626;\" transform=\"translate(602.149299 564.957813)scale(0.1 -0.1)\">\r\n       <use xlink:href=\"#ArialMT-56\"/>\r\n       <use x=\"55.615234\" xlink:href=\"#ArialMT-48\"/>\r\n       <use x=\"111.230469\" xlink:href=\"#ArialMT-48\"/>\r\n      </g>\r\n     </g>\r\n    </g>\r\n   </g>\r\n   <g id=\"matplotlib.axis_2\">\r\n    <g id=\"ytick_1\">\r\n     <g id=\"line2d_11\">\r\n      <path clip-path=\"url(#p57b7c0ff9a)\" d=\"M 45.071562 550.8 \r\nL 714.671563 550.8 \r\n\" style=\"fill:none;stroke:#ffffff;stroke-linecap:round;\"/>\r\n     </g>\r\n     <g id=\"line2d_12\"/>\r\n     <g id=\"text_6\">\r\n      <!-- 0 -->\r\n      <g style=\"fill:#262626;\" transform=\"translate(32.510625 554.378906)scale(0.1 -0.1)\">\r\n       <use xlink:href=\"#ArialMT-48\"/>\r\n      </g>\r\n     </g>\r\n    </g>\r\n    <g id=\"ytick_2\">\r\n     <g id=\"line2d_13\">\r\n      <path clip-path=\"url(#p57b7c0ff9a)\" d=\"M 45.071562 447.874695 \r\nL 714.671563 447.874695 \r\n\" style=\"fill:none;stroke:#ffffff;stroke-linecap:round;\"/>\r\n     </g>\r\n     <g id=\"line2d_14\"/>\r\n     <g id=\"text_7\">\r\n      <!-- 100 -->\r\n      <defs>\r\n       <path d=\"M 37.25 0 \r\nL 28.46875 0 \r\nL 28.46875 56 \r\nQ 25.296875 52.984375 20.140625 49.953125 \r\nQ 14.984375 46.921875 10.890625 45.40625 \r\nL 10.890625 53.90625 \r\nQ 18.265625 57.375 23.78125 62.296875 \r\nQ 29.296875 67.234375 31.59375 71.875 \r\nL 37.25 71.875 \r\nz\r\n\" id=\"ArialMT-49\"/>\r\n      </defs>\r\n      <g style=\"fill:#262626;\" transform=\"translate(21.38875 451.453601)scale(0.1 -0.1)\">\r\n       <use xlink:href=\"#ArialMT-49\"/>\r\n       <use x=\"55.615234\" xlink:href=\"#ArialMT-48\"/>\r\n       <use x=\"111.230469\" xlink:href=\"#ArialMT-48\"/>\r\n      </g>\r\n     </g>\r\n    </g>\r\n    <g id=\"ytick_3\">\r\n     <g id=\"line2d_15\">\r\n      <path clip-path=\"url(#p57b7c0ff9a)\" d=\"M 45.071562 344.949389 \r\nL 714.671563 344.949389 \r\n\" style=\"fill:none;stroke:#ffffff;stroke-linecap:round;\"/>\r\n     </g>\r\n     <g id=\"line2d_16\"/>\r\n     <g id=\"text_8\">\r\n      <!-- 200 -->\r\n      <g style=\"fill:#262626;\" transform=\"translate(21.38875 348.528296)scale(0.1 -0.1)\">\r\n       <use xlink:href=\"#ArialMT-50\"/>\r\n       <use x=\"55.615234\" xlink:href=\"#ArialMT-48\"/>\r\n       <use x=\"111.230469\" xlink:href=\"#ArialMT-48\"/>\r\n      </g>\r\n     </g>\r\n    </g>\r\n    <g id=\"ytick_4\">\r\n     <g id=\"line2d_17\">\r\n      <path clip-path=\"url(#p57b7c0ff9a)\" d=\"M 45.071562 242.024084 \r\nL 714.671563 242.024084 \r\n\" style=\"fill:none;stroke:#ffffff;stroke-linecap:round;\"/>\r\n     </g>\r\n     <g id=\"line2d_18\"/>\r\n     <g id=\"text_9\">\r\n      <!-- 300 -->\r\n      <defs>\r\n       <path d=\"M 4.203125 18.890625 \r\nL 12.984375 20.0625 \r\nQ 14.5 12.59375 18.140625 9.296875 \r\nQ 21.78125 6 27 6 \r\nQ 33.203125 6 37.46875 10.296875 \r\nQ 41.75 14.59375 41.75 20.953125 \r\nQ 41.75 27 37.796875 30.921875 \r\nQ 33.84375 34.859375 27.734375 34.859375 \r\nQ 25.25 34.859375 21.53125 33.890625 \r\nL 22.515625 41.609375 \r\nQ 23.390625 41.5 23.921875 41.5 \r\nQ 29.546875 41.5 34.03125 44.421875 \r\nQ 38.53125 47.359375 38.53125 53.46875 \r\nQ 38.53125 58.296875 35.25 61.46875 \r\nQ 31.984375 64.65625 26.8125 64.65625 \r\nQ 21.6875 64.65625 18.265625 61.421875 \r\nQ 14.84375 58.203125 13.875 51.765625 \r\nL 5.078125 53.328125 \r\nQ 6.6875 62.15625 12.390625 67.015625 \r\nQ 18.109375 71.875 26.609375 71.875 \r\nQ 32.46875 71.875 37.390625 69.359375 \r\nQ 42.328125 66.84375 44.9375 62.5 \r\nQ 47.5625 58.15625 47.5625 53.265625 \r\nQ 47.5625 48.640625 45.0625 44.828125 \r\nQ 42.578125 41.015625 37.703125 38.765625 \r\nQ 44.046875 37.3125 47.5625 32.6875 \r\nQ 51.078125 28.078125 51.078125 21.140625 \r\nQ 51.078125 11.765625 44.234375 5.25 \r\nQ 37.40625 -1.265625 26.953125 -1.265625 \r\nQ 17.53125 -1.265625 11.296875 4.34375 \r\nQ 5.078125 9.96875 4.203125 18.890625 \r\nz\r\n\" id=\"ArialMT-51\"/>\r\n      </defs>\r\n      <g style=\"fill:#262626;\" transform=\"translate(21.38875 245.60299)scale(0.1 -0.1)\">\r\n       <use xlink:href=\"#ArialMT-51\"/>\r\n       <use x=\"55.615234\" xlink:href=\"#ArialMT-48\"/>\r\n       <use x=\"111.230469\" xlink:href=\"#ArialMT-48\"/>\r\n      </g>\r\n     </g>\r\n    </g>\r\n    <g id=\"ytick_5\">\r\n     <g id=\"line2d_19\">\r\n      <path clip-path=\"url(#p57b7c0ff9a)\" d=\"M 45.071562 139.098779 \r\nL 714.671563 139.098779 \r\n\" style=\"fill:none;stroke:#ffffff;stroke-linecap:round;\"/>\r\n     </g>\r\n     <g id=\"line2d_20\"/>\r\n     <g id=\"text_10\">\r\n      <!-- 400 -->\r\n      <g style=\"fill:#262626;\" transform=\"translate(21.38875 142.677685)scale(0.1 -0.1)\">\r\n       <use xlink:href=\"#ArialMT-52\"/>\r\n       <use x=\"55.615234\" xlink:href=\"#ArialMT-48\"/>\r\n       <use x=\"111.230469\" xlink:href=\"#ArialMT-48\"/>\r\n      </g>\r\n     </g>\r\n    </g>\r\n    <g id=\"ytick_6\">\r\n     <g id=\"line2d_21\">\r\n      <path clip-path=\"url(#p57b7c0ff9a)\" d=\"M 45.071562 36.173473 \r\nL 714.671563 36.173473 \r\n\" style=\"fill:none;stroke:#ffffff;stroke-linecap:round;\"/>\r\n     </g>\r\n     <g id=\"line2d_22\"/>\r\n     <g id=\"text_11\">\r\n      <!-- 500 -->\r\n      <defs>\r\n       <path d=\"M 4.15625 18.75 \r\nL 13.375 19.53125 \r\nQ 14.40625 12.796875 18.140625 9.390625 \r\nQ 21.875 6 27.15625 6 \r\nQ 33.5 6 37.890625 10.78125 \r\nQ 42.28125 15.578125 42.28125 23.484375 \r\nQ 42.28125 31 38.0625 35.34375 \r\nQ 33.84375 39.703125 27 39.703125 \r\nQ 22.75 39.703125 19.328125 37.765625 \r\nQ 15.921875 35.84375 13.96875 32.765625 \r\nL 5.71875 33.84375 \r\nL 12.640625 70.609375 \r\nL 48.25 70.609375 \r\nL 48.25 62.203125 \r\nL 19.671875 62.203125 \r\nL 15.828125 42.96875 \r\nQ 22.265625 47.46875 29.34375 47.46875 \r\nQ 38.71875 47.46875 45.15625 40.96875 \r\nQ 51.609375 34.46875 51.609375 24.265625 \r\nQ 51.609375 14.546875 45.953125 7.46875 \r\nQ 39.0625 -1.21875 27.15625 -1.21875 \r\nQ 17.390625 -1.21875 11.203125 4.25 \r\nQ 5.03125 9.71875 4.15625 18.75 \r\nz\r\n\" id=\"ArialMT-53\"/>\r\n      </defs>\r\n      <g style=\"fill:#262626;\" transform=\"translate(21.38875 39.75238)scale(0.1 -0.1)\">\r\n       <use xlink:href=\"#ArialMT-53\"/>\r\n       <use x=\"55.615234\" xlink:href=\"#ArialMT-48\"/>\r\n       <use x=\"111.230469\" xlink:href=\"#ArialMT-48\"/>\r\n      </g>\r\n     </g>\r\n    </g>\r\n    <g id=\"text_12\">\r\n     <!-- Frequency -->\r\n     <defs>\r\n      <path d=\"M 8.203125 0 \r\nL 8.203125 71.578125 \r\nL 56.5 71.578125 \r\nL 56.5 63.140625 \r\nL 17.671875 63.140625 \r\nL 17.671875 40.96875 \r\nL 51.265625 40.96875 \r\nL 51.265625 32.515625 \r\nL 17.671875 32.515625 \r\nL 17.671875 0 \r\nz\r\n\" id=\"ArialMT-70\"/>\r\n      <path d=\"M 6.5 0 \r\nL 6.5 51.859375 \r\nL 14.40625 51.859375 \r\nL 14.40625 44 \r\nQ 17.4375 49.515625 20 51.265625 \r\nQ 22.5625 53.03125 25.640625 53.03125 \r\nQ 30.078125 53.03125 34.671875 50.203125 \r\nL 31.640625 42.046875 \r\nQ 28.421875 43.953125 25.203125 43.953125 \r\nQ 22.3125 43.953125 20.015625 42.21875 \r\nQ 17.71875 40.484375 16.75 37.40625 \r\nQ 15.28125 32.71875 15.28125 27.15625 \r\nL 15.28125 0 \r\nz\r\n\" id=\"ArialMT-114\"/>\r\n      <path d=\"M 42.09375 16.703125 \r\nL 51.171875 15.578125 \r\nQ 49.03125 7.625 43.21875 3.21875 \r\nQ 37.40625 -1.171875 28.375 -1.171875 \r\nQ 17 -1.171875 10.328125 5.828125 \r\nQ 3.65625 12.84375 3.65625 25.484375 \r\nQ 3.65625 38.578125 10.390625 45.796875 \r\nQ 17.140625 53.03125 27.875 53.03125 \r\nQ 38.28125 53.03125 44.875 45.953125 \r\nQ 51.46875 38.875 51.46875 26.03125 \r\nQ 51.46875 25.25 51.421875 23.6875 \r\nL 12.75 23.6875 \r\nQ 13.234375 15.140625 17.578125 10.59375 \r\nQ 21.921875 6.0625 28.421875 6.0625 \r\nQ 33.25 6.0625 36.671875 8.59375 \r\nQ 40.09375 11.140625 42.09375 16.703125 \r\nz\r\nM 13.234375 30.90625 \r\nL 42.1875 30.90625 \r\nQ 41.609375 37.453125 38.875 40.71875 \r\nQ 34.671875 45.796875 27.984375 45.796875 \r\nQ 21.921875 45.796875 17.796875 41.75 \r\nQ 13.671875 37.703125 13.234375 30.90625 \r\nz\r\n\" id=\"ArialMT-101\"/>\r\n      <path d=\"M 39.65625 -19.875 \r\nL 39.65625 5.515625 \r\nQ 37.59375 2.640625 33.90625 0.734375 \r\nQ 30.21875 -1.171875 26.078125 -1.171875 \r\nQ 16.84375 -1.171875 10.171875 6.203125 \r\nQ 3.515625 13.578125 3.515625 26.421875 \r\nQ 3.515625 34.234375 6.21875 40.421875 \r\nQ 8.9375 46.625 14.078125 49.828125 \r\nQ 19.234375 53.03125 25.390625 53.03125 \r\nQ 35.015625 53.03125 40.53125 44.921875 \r\nL 40.53125 51.859375 \r\nL 48.4375 51.859375 \r\nL 48.4375 -19.875 \r\nz\r\nM 12.546875 26.078125 \r\nQ 12.546875 16.0625 16.75 11.0625 \r\nQ 20.953125 6.0625 26.8125 6.0625 \r\nQ 32.421875 6.0625 36.46875 10.8125 \r\nQ 40.53125 15.578125 40.53125 25.296875 \r\nQ 40.53125 35.640625 36.25 40.859375 \r\nQ 31.984375 46.09375 26.21875 46.09375 \r\nQ 20.515625 46.09375 16.53125 41.234375 \r\nQ 12.546875 36.375 12.546875 26.078125 \r\nz\r\n\" id=\"ArialMT-113\"/>\r\n      <path d=\"M 40.578125 0 \r\nL 40.578125 7.625 \r\nQ 34.515625 -1.171875 24.125 -1.171875 \r\nQ 19.53125 -1.171875 15.546875 0.578125 \r\nQ 11.578125 2.34375 9.640625 5 \r\nQ 7.71875 7.671875 6.9375 11.53125 \r\nQ 6.390625 14.109375 6.390625 19.734375 \r\nL 6.390625 51.859375 \r\nL 15.1875 51.859375 \r\nL 15.1875 23.09375 \r\nQ 15.1875 16.21875 15.71875 13.8125 \r\nQ 16.546875 10.359375 19.234375 8.375 \r\nQ 21.921875 6.390625 25.875 6.390625 \r\nQ 29.828125 6.390625 33.296875 8.421875 \r\nQ 36.765625 10.453125 38.203125 13.9375 \r\nQ 39.65625 17.4375 39.65625 24.078125 \r\nL 39.65625 51.859375 \r\nL 48.4375 51.859375 \r\nL 48.4375 0 \r\nz\r\n\" id=\"ArialMT-117\"/>\r\n      <path d=\"M 6.59375 0 \r\nL 6.59375 51.859375 \r\nL 14.5 51.859375 \r\nL 14.5 44.484375 \r\nQ 20.21875 53.03125 31 53.03125 \r\nQ 35.6875 53.03125 39.625 51.34375 \r\nQ 43.5625 49.65625 45.515625 46.921875 \r\nQ 47.46875 44.1875 48.25 40.4375 \r\nQ 48.734375 37.984375 48.734375 31.890625 \r\nL 48.734375 0 \r\nL 39.9375 0 \r\nL 39.9375 31.546875 \r\nQ 39.9375 36.921875 38.90625 39.578125 \r\nQ 37.890625 42.234375 35.28125 43.8125 \r\nQ 32.671875 45.40625 29.15625 45.40625 \r\nQ 23.53125 45.40625 19.453125 41.84375 \r\nQ 15.375 38.28125 15.375 28.328125 \r\nL 15.375 0 \r\nz\r\n\" id=\"ArialMT-110\"/>\r\n      <path d=\"M 40.4375 19 \r\nL 49.078125 17.875 \r\nQ 47.65625 8.9375 41.8125 3.875 \r\nQ 35.984375 -1.171875 27.484375 -1.171875 \r\nQ 16.84375 -1.171875 10.375 5.78125 \r\nQ 3.90625 12.75 3.90625 25.734375 \r\nQ 3.90625 34.125 6.6875 40.421875 \r\nQ 9.46875 46.734375 15.15625 49.875 \r\nQ 20.84375 53.03125 27.546875 53.03125 \r\nQ 35.984375 53.03125 41.359375 48.75 \r\nQ 46.734375 44.484375 48.25 36.625 \r\nL 39.703125 35.296875 \r\nQ 38.484375 40.53125 35.375 43.15625 \r\nQ 32.28125 45.796875 27.875 45.796875 \r\nQ 21.234375 45.796875 17.078125 41.03125 \r\nQ 12.9375 36.28125 12.9375 25.984375 \r\nQ 12.9375 15.53125 16.9375 10.796875 \r\nQ 20.953125 6.0625 27.390625 6.0625 \r\nQ 32.5625 6.0625 36.03125 9.234375 \r\nQ 39.5 12.40625 40.4375 19 \r\nz\r\n\" id=\"ArialMT-99\"/>\r\n      <path d=\"M 6.203125 -19.96875 \r\nL 5.21875 -11.71875 \r\nQ 8.109375 -12.5 10.25 -12.5 \r\nQ 13.1875 -12.5 14.9375 -11.515625 \r\nQ 16.703125 -10.546875 17.828125 -8.796875 \r\nQ 18.65625 -7.46875 20.515625 -2.25 \r\nQ 20.75 -1.515625 21.296875 -0.09375 \r\nL 1.609375 51.859375 \r\nL 11.078125 51.859375 \r\nL 21.875 21.828125 \r\nQ 23.96875 16.109375 25.640625 9.8125 \r\nQ 27.15625 15.875 29.25 21.625 \r\nL 40.328125 51.859375 \r\nL 49.125 51.859375 \r\nL 29.390625 -0.875 \r\nQ 26.21875 -9.421875 24.46875 -12.640625 \r\nQ 22.125 -17 19.09375 -19.015625 \r\nQ 16.0625 -21.046875 11.859375 -21.046875 \r\nQ 9.328125 -21.046875 6.203125 -19.96875 \r\nz\r\n\" id=\"ArialMT-121\"/>\r\n     </defs>\r\n     <g style=\"fill:#262626;\" transform=\"translate(15.073594 304.983203)rotate(-90)scale(0.11 -0.11)\">\r\n      <use xlink:href=\"#ArialMT-70\"/>\r\n      <use x=\"61.083984\" xlink:href=\"#ArialMT-114\"/>\r\n      <use x=\"94.384766\" xlink:href=\"#ArialMT-101\"/>\r\n      <use x=\"150\" xlink:href=\"#ArialMT-113\"/>\r\n      <use x=\"205.615234\" xlink:href=\"#ArialMT-117\"/>\r\n      <use x=\"261.230469\" xlink:href=\"#ArialMT-101\"/>\r\n      <use x=\"316.845703\" xlink:href=\"#ArialMT-110\"/>\r\n      <use x=\"372.460938\" xlink:href=\"#ArialMT-99\"/>\r\n      <use x=\"422.460938\" xlink:href=\"#ArialMT-121\"/>\r\n     </g>\r\n    </g>\r\n   </g>\r\n   <g id=\"patch_3\">\r\n    <path clip-path=\"url(#p57b7c0ff9a)\" d=\"M 75.507926 550.8 \r\nL 79.566108 550.8 \r\nL 79.566108 502.425107 \r\nL 75.507926 502.425107 \r\nz\r\n\" style=\"fill:#4c72b0;\"/>\r\n   </g>\r\n   <g id=\"patch_4\">\r\n    <path clip-path=\"url(#p57b7c0ff9a)\" d=\"M 79.566108 550.8 \r\nL 83.62429 550.8 \r\nL 83.62429 503.45436 \r\nL 79.566108 503.45436 \r\nz\r\n\" style=\"fill:#4c72b0;\"/>\r\n   </g>\r\n   <g id=\"patch_5\">\r\n    <path clip-path=\"url(#p57b7c0ff9a)\" d=\"M 83.62429 550.8 \r\nL 87.682472 550.8 \r\nL 87.682472 475.664527 \r\nL 83.62429 475.664527 \r\nz\r\n\" style=\"fill:#4c72b0;\"/>\r\n   </g>\r\n   <g id=\"patch_6\">\r\n    <path clip-path=\"url(#p57b7c0ff9a)\" d=\"M 87.682472 550.8 \r\nL 91.740653 550.8 \r\nL 91.740653 33.085714 \r\nL 87.682472 33.085714 \r\nz\r\n\" style=\"fill:#4c72b0;\"/>\r\n   </g>\r\n   <g id=\"patch_7\">\r\n    <path clip-path=\"url(#p57b7c0ff9a)\" d=\"M 91.740653 550.8 \r\nL 95.798835 550.8 \r\nL 95.798835 38.23198 \r\nL 91.740653 38.23198 \r\nz\r\n\" style=\"fill:#4c72b0;\"/>\r\n   </g>\r\n   <g id=\"patch_8\">\r\n    <path clip-path=\"url(#p57b7c0ff9a)\" d=\"M 95.798835 550.8 \r\nL 99.857017 550.8 \r\nL 99.857017 82.489861 \r\nL 95.798835 82.489861 \r\nz\r\n\" style=\"fill:#4c72b0;\"/>\r\n   </g>\r\n   <g id=\"patch_9\">\r\n    <path clip-path=\"url(#p57b7c0ff9a)\" d=\"M 99.857017 550.8 \r\nL 103.915199 550.8 \r\nL 103.915199 173.06413 \r\nL 99.857017 173.06413 \r\nz\r\n\" style=\"fill:#4c72b0;\"/>\r\n   </g>\r\n   <g id=\"patch_10\">\r\n    <path clip-path=\"url(#p57b7c0ff9a)\" d=\"M 103.915199 550.8 \r\nL 107.973381 550.8 \r\nL 107.973381 194.678444 \r\nL 103.915199 194.678444 \r\nz\r\n\" style=\"fill:#4c72b0;\"/>\r\n   </g>\r\n   <g id=\"patch_11\">\r\n    <path clip-path=\"url(#p57b7c0ff9a)\" d=\"M 107.973381 550.8 \r\nL 112.031563 550.8 \r\nL 112.031563 256.433627 \r\nL 107.973381 256.433627 \r\nz\r\n\" style=\"fill:#4c72b0;\"/>\r\n   </g>\r\n   <g id=\"patch_12\">\r\n    <path clip-path=\"url(#p57b7c0ff9a)\" d=\"M 112.031563 550.8 \r\nL 116.089744 550.8 \r\nL 116.089744 344.949389 \r\nL 112.031563 344.949389 \r\nz\r\n\" style=\"fill:#4c72b0;\"/>\r\n   </g>\r\n   <g id=\"patch_13\">\r\n    <path clip-path=\"url(#p57b7c0ff9a)\" d=\"M 116.089744 550.8 \r\nL 120.147926 550.8 \r\nL 120.147926 341.86163 \r\nL 116.089744 341.86163 \r\nz\r\n\" style=\"fill:#4c72b0;\"/>\r\n   </g>\r\n   <g id=\"patch_14\">\r\n    <path clip-path=\"url(#p57b7c0ff9a)\" d=\"M 120.147926 550.8 \r\nL 124.206108 550.8 \r\nL 124.206108 335.686112 \r\nL 120.147926 335.686112 \r\nz\r\n\" style=\"fill:#4c72b0;\"/>\r\n   </g>\r\n   <g id=\"patch_15\">\r\n    <path clip-path=\"url(#p57b7c0ff9a)\" d=\"M 124.206108 550.8 \r\nL 128.26429 550.8 \r\nL 128.26429 391.265777 \r\nL 124.206108 391.265777 \r\nz\r\n\" style=\"fill:#4c72b0;\"/>\r\n   </g>\r\n   <g id=\"patch_16\">\r\n    <path clip-path=\"url(#p57b7c0ff9a)\" d=\"M 128.26429 550.8 \r\nL 132.322472 550.8 \r\nL 132.322472 383.031752 \r\nL 128.26429 383.031752 \r\nz\r\n\" style=\"fill:#4c72b0;\"/>\r\n   </g>\r\n   <g id=\"patch_17\">\r\n    <path clip-path=\"url(#p57b7c0ff9a)\" d=\"M 132.322472 550.8 \r\nL 136.380653 550.8 \r\nL 136.380653 419.055609 \r\nL 132.322472 419.055609 \r\nz\r\n\" style=\"fill:#4c72b0;\"/>\r\n   </g>\r\n   <g id=\"patch_18\">\r\n    <path clip-path=\"url(#p57b7c0ff9a)\" d=\"M 136.380653 550.8 \r\nL 140.438835 550.8 \r\nL 140.438835 445.816189 \r\nL 136.380653 445.816189 \r\nz\r\n\" style=\"fill:#4c72b0;\"/>\r\n   </g>\r\n   <g id=\"patch_19\">\r\n    <path clip-path=\"url(#p57b7c0ff9a)\" d=\"M 140.438835 550.8 \r\nL 144.497017 550.8 \r\nL 144.497017 448.903948 \r\nL 140.438835 448.903948 \r\nz\r\n\" style=\"fill:#4c72b0;\"/>\r\n   </g>\r\n   <g id=\"patch_20\">\r\n    <path clip-path=\"url(#p57b7c0ff9a)\" d=\"M 144.497017 550.8 \r\nL 148.555199 550.8 \r\nL 148.555199 447.874695 \r\nL 144.497017 447.874695 \r\nz\r\n\" style=\"fill:#4c72b0;\"/>\r\n   </g>\r\n   <g id=\"patch_21\">\r\n    <path clip-path=\"url(#p57b7c0ff9a)\" d=\"M 148.555199 550.8 \r\nL 152.613381 550.8 \r\nL 152.613381 437.582164 \r\nL 148.555199 437.582164 \r\nz\r\n\" style=\"fill:#4c72b0;\"/>\r\n   </g>\r\n   <g id=\"patch_22\">\r\n    <path clip-path=\"url(#p57b7c0ff9a)\" d=\"M 152.613381 550.8 \r\nL 156.671563 550.8 \r\nL 156.671563 439.64067 \r\nL 152.613381 439.64067 \r\nz\r\n\" style=\"fill:#4c72b0;\"/>\r\n   </g>\r\n   <g id=\"patch_23\">\r\n    <path clip-path=\"url(#p57b7c0ff9a)\" d=\"M 156.671562 550.8 \r\nL 160.729744 550.8 \r\nL 160.729744 447.874695 \r\nL 156.671562 447.874695 \r\nz\r\n\" style=\"fill:#4c72b0;\"/>\r\n   </g>\r\n   <g id=\"patch_24\">\r\n    <path clip-path=\"url(#p57b7c0ff9a)\" d=\"M 160.729744 550.8 \r\nL 164.787926 550.8 \r\nL 164.787926 424.201874 \r\nL 160.729744 424.201874 \r\nz\r\n\" style=\"fill:#4c72b0;\"/>\r\n   </g>\r\n   <g id=\"patch_25\">\r\n    <path clip-path=\"url(#p57b7c0ff9a)\" d=\"M 164.787926 550.8 \r\nL 168.846108 550.8 \r\nL 168.846108 421.114115 \r\nL 164.787926 421.114115 \r\nz\r\n\" style=\"fill:#4c72b0;\"/>\r\n   </g>\r\n   <g id=\"patch_26\">\r\n    <path clip-path=\"url(#p57b7c0ff9a)\" d=\"M 168.846108 550.8 \r\nL 172.90429 550.8 \r\nL 172.90429 389.207271 \r\nL 168.846108 389.207271 \r\nz\r\n\" style=\"fill:#4c72b0;\"/>\r\n   </g>\r\n   <g id=\"patch_27\">\r\n    <path clip-path=\"url(#p57b7c0ff9a)\" d=\"M 172.90429 550.8 \r\nL 176.962472 550.8 \r\nL 176.962472 348.037149 \r\nL 172.90429 348.037149 \r\nz\r\n\" style=\"fill:#4c72b0;\"/>\r\n   </g>\r\n   <g id=\"patch_28\">\r\n    <path clip-path=\"url(#p57b7c0ff9a)\" d=\"M 176.962472 550.8 \r\nL 181.020653 550.8 \r\nL 181.020653 198.795456 \r\nL 176.962472 198.795456 \r\nz\r\n\" style=\"fill:#4c72b0;\"/>\r\n   </g>\r\n   <g id=\"patch_29\">\r\n    <path clip-path=\"url(#p57b7c0ff9a)\" d=\"M 181.020653 550.8 \r\nL 185.078835 550.8 \r\nL 185.078835 428.318887 \r\nL 181.020653 428.318887 \r\nz\r\n\" style=\"fill:#4c72b0;\"/>\r\n   </g>\r\n   <g id=\"patch_30\">\r\n    <path clip-path=\"url(#p57b7c0ff9a)\" d=\"M 185.078835 550.8 \r\nL 189.137017 550.8 \r\nL 189.137017 517.863902 \r\nL 185.078835 517.863902 \r\nz\r\n\" style=\"fill:#4c72b0;\"/>\r\n   </g>\r\n   <g id=\"patch_31\">\r\n    <path clip-path=\"url(#p57b7c0ff9a)\" d=\"M 189.137017 550.8 \r\nL 193.195199 550.8 \r\nL 193.195199 530.214939 \r\nL 189.137017 530.214939 \r\nz\r\n\" style=\"fill:#4c72b0;\"/>\r\n   </g>\r\n   <g id=\"patch_32\">\r\n    <path clip-path=\"url(#p57b7c0ff9a)\" d=\"M 193.195199 550.8 \r\nL 197.253381 550.8 \r\nL 197.253381 529.185686 \r\nL 193.195199 529.185686 \r\nz\r\n\" style=\"fill:#4c72b0;\"/>\r\n   </g>\r\n   <g id=\"patch_33\">\r\n    <path clip-path=\"url(#p57b7c0ff9a)\" d=\"M 197.253381 550.8 \r\nL 201.311563 550.8 \r\nL 201.311563 542.565976 \r\nL 197.253381 542.565976 \r\nz\r\n\" style=\"fill:#4c72b0;\"/>\r\n   </g>\r\n   <g id=\"patch_34\">\r\n    <path clip-path=\"url(#p57b7c0ff9a)\" d=\"M 201.311563 550.8 \r\nL 205.369744 550.8 \r\nL 205.369744 540.507469 \r\nL 201.311563 540.507469 \r\nz\r\n\" style=\"fill:#4c72b0;\"/>\r\n   </g>\r\n   <g id=\"patch_35\">\r\n    <path clip-path=\"url(#p57b7c0ff9a)\" d=\"M 205.369744 550.8 \r\nL 209.427926 550.8 \r\nL 209.427926 542.565976 \r\nL 205.369744 542.565976 \r\nz\r\n\" style=\"fill:#4c72b0;\"/>\r\n   </g>\r\n   <g id=\"patch_36\">\r\n    <path clip-path=\"url(#p57b7c0ff9a)\" d=\"M 209.427926 550.8 \r\nL 213.486108 550.8 \r\nL 213.486108 540.507469 \r\nL 209.427926 540.507469 \r\nz\r\n\" style=\"fill:#4c72b0;\"/>\r\n   </g>\r\n   <g id=\"patch_37\">\r\n    <path clip-path=\"url(#p57b7c0ff9a)\" d=\"M 213.486108 550.8 \r\nL 217.54429 550.8 \r\nL 217.54429 546.682988 \r\nL 213.486108 546.682988 \r\nz\r\n\" style=\"fill:#4c72b0;\"/>\r\n   </g>\r\n   <g id=\"patch_38\">\r\n    <path clip-path=\"url(#p57b7c0ff9a)\" d=\"M 217.54429 550.8 \r\nL 221.602472 550.8 \r\nL 221.602472 549.770747 \r\nL 217.54429 549.770747 \r\nz\r\n\" style=\"fill:#4c72b0;\"/>\r\n   </g>\r\n   <g id=\"patch_39\">\r\n    <path clip-path=\"url(#p57b7c0ff9a)\" d=\"M 221.602472 550.8 \r\nL 225.660653 550.8 \r\nL 225.660653 544.624482 \r\nL 221.602472 544.624482 \r\nz\r\n\" style=\"fill:#4c72b0;\"/>\r\n   </g>\r\n   <g id=\"patch_40\">\r\n    <path clip-path=\"url(#p57b7c0ff9a)\" d=\"M 225.660653 550.8 \r\nL 229.718835 550.8 \r\nL 229.718835 544.624482 \r\nL 225.660653 544.624482 \r\nz\r\n\" style=\"fill:#4c72b0;\"/>\r\n   </g>\r\n   <g id=\"patch_41\">\r\n    <path clip-path=\"url(#p57b7c0ff9a)\" d=\"M 229.718835 550.8 \r\nL 233.777017 550.8 \r\nL 233.777017 544.624482 \r\nL 229.718835 544.624482 \r\nz\r\n\" style=\"fill:#4c72b0;\"/>\r\n   </g>\r\n   <g id=\"patch_42\">\r\n    <path clip-path=\"url(#p57b7c0ff9a)\" d=\"M 233.777017 550.8 \r\nL 237.835199 550.8 \r\nL 237.835199 545.653735 \r\nL 233.777017 545.653735 \r\nz\r\n\" style=\"fill:#4c72b0;\"/>\r\n   </g>\r\n   <g id=\"patch_43\">\r\n    <path clip-path=\"url(#p57b7c0ff9a)\" d=\"M 237.835199 550.8 \r\nL 241.893381 550.8 \r\nL 241.893381 546.682988 \r\nL 237.835199 546.682988 \r\nz\r\n\" style=\"fill:#4c72b0;\"/>\r\n   </g>\r\n   <g id=\"patch_44\">\r\n    <path clip-path=\"url(#p57b7c0ff9a)\" d=\"M 241.893381 550.8 \r\nL 245.951563 550.8 \r\nL 245.951563 547.712241 \r\nL 241.893381 547.712241 \r\nz\r\n\" style=\"fill:#4c72b0;\"/>\r\n   </g>\r\n   <g id=\"patch_45\">\r\n    <path clip-path=\"url(#p57b7c0ff9a)\" d=\"M 245.951563 550.8 \r\nL 250.009744 550.8 \r\nL 250.009744 549.770747 \r\nL 245.951563 549.770747 \r\nz\r\n\" style=\"fill:#4c72b0;\"/>\r\n   </g>\r\n   <g id=\"patch_46\">\r\n    <path clip-path=\"url(#p57b7c0ff9a)\" d=\"M 250.009744 550.8 \r\nL 254.067926 550.8 \r\nL 254.067926 548.741494 \r\nL 250.009744 548.741494 \r\nz\r\n\" style=\"fill:#4c72b0;\"/>\r\n   </g>\r\n   <g id=\"patch_47\">\r\n    <path clip-path=\"url(#p57b7c0ff9a)\" d=\"M 254.067926 550.8 \r\nL 258.126108 550.8 \r\nL 258.126108 548.741494 \r\nL 254.067926 548.741494 \r\nz\r\n\" style=\"fill:#4c72b0;\"/>\r\n   </g>\r\n   <g id=\"patch_48\">\r\n    <path clip-path=\"url(#p57b7c0ff9a)\" d=\"M 258.126108 550.8 \r\nL 262.18429 550.8 \r\nL 262.18429 545.653735 \r\nL 258.126108 545.653735 \r\nz\r\n\" style=\"fill:#4c72b0;\"/>\r\n   </g>\r\n   <g id=\"patch_49\">\r\n    <path clip-path=\"url(#p57b7c0ff9a)\" d=\"M 262.18429 550.8 \r\nL 266.242472 550.8 \r\nL 266.242472 545.653735 \r\nL 262.18429 545.653735 \r\nz\r\n\" style=\"fill:#4c72b0;\"/>\r\n   </g>\r\n   <g id=\"patch_50\">\r\n    <path clip-path=\"url(#p57b7c0ff9a)\" d=\"M 266.242472 550.8 \r\nL 270.300653 550.8 \r\nL 270.300653 546.682988 \r\nL 266.242472 546.682988 \r\nz\r\n\" style=\"fill:#4c72b0;\"/>\r\n   </g>\r\n   <g id=\"patch_51\">\r\n    <path clip-path=\"url(#p57b7c0ff9a)\" d=\"M 270.300653 550.8 \r\nL 274.358835 550.8 \r\nL 274.358835 545.653735 \r\nL 270.300653 545.653735 \r\nz\r\n\" style=\"fill:#4c72b0;\"/>\r\n   </g>\r\n   <g id=\"patch_52\">\r\n    <path clip-path=\"url(#p57b7c0ff9a)\" d=\"M 274.358835 550.8 \r\nL 278.417017 550.8 \r\nL 278.417017 548.741494 \r\nL 274.358835 548.741494 \r\nz\r\n\" style=\"fill:#4c72b0;\"/>\r\n   </g>\r\n   <g id=\"patch_53\">\r\n    <path clip-path=\"url(#p57b7c0ff9a)\" d=\"M 278.417017 550.8 \r\nL 282.475199 550.8 \r\nL 282.475199 549.770747 \r\nL 278.417017 549.770747 \r\nz\r\n\" style=\"fill:#4c72b0;\"/>\r\n   </g>\r\n   <g id=\"patch_54\">\r\n    <path clip-path=\"url(#p57b7c0ff9a)\" d=\"M 282.475199 550.8 \r\nL 286.533381 550.8 \r\nL 286.533381 548.741494 \r\nL 282.475199 548.741494 \r\nz\r\n\" style=\"fill:#4c72b0;\"/>\r\n   </g>\r\n   <g id=\"patch_55\">\r\n    <path clip-path=\"url(#p57b7c0ff9a)\" d=\"M 286.533381 550.8 \r\nL 290.591563 550.8 \r\nL 290.591563 548.741494 \r\nL 286.533381 548.741494 \r\nz\r\n\" style=\"fill:#4c72b0;\"/>\r\n   </g>\r\n   <g id=\"patch_56\">\r\n    <path clip-path=\"url(#p57b7c0ff9a)\" d=\"M 290.591563 550.8 \r\nL 294.649744 550.8 \r\nL 294.649744 545.653735 \r\nL 290.591563 545.653735 \r\nz\r\n\" style=\"fill:#4c72b0;\"/>\r\n   </g>\r\n   <g id=\"patch_57\">\r\n    <path clip-path=\"url(#p57b7c0ff9a)\" d=\"M 294.649744 550.8 \r\nL 298.707926 550.8 \r\nL 298.707926 546.682988 \r\nL 294.649744 546.682988 \r\nz\r\n\" style=\"fill:#4c72b0;\"/>\r\n   </g>\r\n   <g id=\"patch_58\">\r\n    <path clip-path=\"url(#p57b7c0ff9a)\" d=\"M 298.707926 550.8 \r\nL 302.766108 550.8 \r\nL 302.766108 549.770747 \r\nL 298.707926 549.770747 \r\nz\r\n\" style=\"fill:#4c72b0;\"/>\r\n   </g>\r\n   <g id=\"patch_59\">\r\n    <path clip-path=\"url(#p57b7c0ff9a)\" d=\"M 302.766108 550.8 \r\nL 306.82429 550.8 \r\nL 306.82429 550.8 \r\nL 302.766108 550.8 \r\nz\r\n\" style=\"fill:#4c72b0;\"/>\r\n   </g>\r\n   <g id=\"patch_60\">\r\n    <path clip-path=\"url(#p57b7c0ff9a)\" d=\"M 306.82429 550.8 \r\nL 310.882472 550.8 \r\nL 310.882472 549.770747 \r\nL 306.82429 549.770747 \r\nz\r\n\" style=\"fill:#4c72b0;\"/>\r\n   </g>\r\n   <g id=\"patch_61\">\r\n    <path clip-path=\"url(#p57b7c0ff9a)\" d=\"M 310.882472 550.8 \r\nL 314.940653 550.8 \r\nL 314.940653 550.8 \r\nL 310.882472 550.8 \r\nz\r\n\" style=\"fill:#4c72b0;\"/>\r\n   </g>\r\n   <g id=\"patch_62\">\r\n    <path clip-path=\"url(#p57b7c0ff9a)\" d=\"M 314.940653 550.8 \r\nL 318.998835 550.8 \r\nL 318.998835 549.770747 \r\nL 314.940653 549.770747 \r\nz\r\n\" style=\"fill:#4c72b0;\"/>\r\n   </g>\r\n   <g id=\"patch_63\">\r\n    <path clip-path=\"url(#p57b7c0ff9a)\" d=\"M 318.998835 550.8 \r\nL 323.057017 550.8 \r\nL 323.057017 549.770747 \r\nL 318.998835 549.770747 \r\nz\r\n\" style=\"fill:#4c72b0;\"/>\r\n   </g>\r\n   <g id=\"patch_64\">\r\n    <path clip-path=\"url(#p57b7c0ff9a)\" d=\"M 323.057017 550.8 \r\nL 327.115199 550.8 \r\nL 327.115199 548.741494 \r\nL 323.057017 548.741494 \r\nz\r\n\" style=\"fill:#4c72b0;\"/>\r\n   </g>\r\n   <g id=\"patch_65\">\r\n    <path clip-path=\"url(#p57b7c0ff9a)\" d=\"M 327.115199 550.8 \r\nL 331.173381 550.8 \r\nL 331.173381 548.741494 \r\nL 327.115199 548.741494 \r\nz\r\n\" style=\"fill:#4c72b0;\"/>\r\n   </g>\r\n   <g id=\"patch_66\">\r\n    <path clip-path=\"url(#p57b7c0ff9a)\" d=\"M 331.173381 550.8 \r\nL 335.231563 550.8 \r\nL 335.231563 549.770747 \r\nL 331.173381 549.770747 \r\nz\r\n\" style=\"fill:#4c72b0;\"/>\r\n   </g>\r\n   <g id=\"patch_67\">\r\n    <path clip-path=\"url(#p57b7c0ff9a)\" d=\"M 335.231563 550.8 \r\nL 339.289744 550.8 \r\nL 339.289744 550.8 \r\nL 335.231563 550.8 \r\nz\r\n\" style=\"fill:#4c72b0;\"/>\r\n   </g>\r\n   <g id=\"patch_68\">\r\n    <path clip-path=\"url(#p57b7c0ff9a)\" d=\"M 339.289744 550.8 \r\nL 343.347926 550.8 \r\nL 343.347926 550.8 \r\nL 339.289744 550.8 \r\nz\r\n\" style=\"fill:#4c72b0;\"/>\r\n   </g>\r\n   <g id=\"patch_69\">\r\n    <path clip-path=\"url(#p57b7c0ff9a)\" d=\"M 343.347926 550.8 \r\nL 347.406108 550.8 \r\nL 347.406108 550.8 \r\nL 343.347926 550.8 \r\nz\r\n\" style=\"fill:#4c72b0;\"/>\r\n   </g>\r\n   <g id=\"patch_70\">\r\n    <path clip-path=\"url(#p57b7c0ff9a)\" d=\"M 347.406108 550.8 \r\nL 351.46429 550.8 \r\nL 351.46429 549.770747 \r\nL 347.406108 549.770747 \r\nz\r\n\" style=\"fill:#4c72b0;\"/>\r\n   </g>\r\n   <g id=\"patch_71\">\r\n    <path clip-path=\"url(#p57b7c0ff9a)\" d=\"M 351.46429 550.8 \r\nL 355.522472 550.8 \r\nL 355.522472 549.770747 \r\nL 351.46429 549.770747 \r\nz\r\n\" style=\"fill:#4c72b0;\"/>\r\n   </g>\r\n   <g id=\"patch_72\">\r\n    <path clip-path=\"url(#p57b7c0ff9a)\" d=\"M 355.522472 550.8 \r\nL 359.580653 550.8 \r\nL 359.580653 550.8 \r\nL 355.522472 550.8 \r\nz\r\n\" style=\"fill:#4c72b0;\"/>\r\n   </g>\r\n   <g id=\"patch_73\">\r\n    <path clip-path=\"url(#p57b7c0ff9a)\" d=\"M 359.580653 550.8 \r\nL 363.638835 550.8 \r\nL 363.638835 549.770747 \r\nL 359.580653 549.770747 \r\nz\r\n\" style=\"fill:#4c72b0;\"/>\r\n   </g>\r\n   <g id=\"patch_74\">\r\n    <path clip-path=\"url(#p57b7c0ff9a)\" d=\"M 363.638835 550.8 \r\nL 367.697017 550.8 \r\nL 367.697017 550.8 \r\nL 363.638835 550.8 \r\nz\r\n\" style=\"fill:#4c72b0;\"/>\r\n   </g>\r\n   <g id=\"patch_75\">\r\n    <path clip-path=\"url(#p57b7c0ff9a)\" d=\"M 367.697017 550.8 \r\nL 371.755199 550.8 \r\nL 371.755199 550.8 \r\nL 367.697017 550.8 \r\nz\r\n\" style=\"fill:#4c72b0;\"/>\r\n   </g>\r\n   <g id=\"patch_76\">\r\n    <path clip-path=\"url(#p57b7c0ff9a)\" d=\"M 371.755199 550.8 \r\nL 375.813381 550.8 \r\nL 375.813381 545.653735 \r\nL 371.755199 545.653735 \r\nz\r\n\" style=\"fill:#4c72b0;\"/>\r\n   </g>\r\n   <g id=\"patch_77\">\r\n    <path clip-path=\"url(#p57b7c0ff9a)\" d=\"M 375.813381 550.8 \r\nL 379.871562 550.8 \r\nL 379.871562 550.8 \r\nL 375.813381 550.8 \r\nz\r\n\" style=\"fill:#4c72b0;\"/>\r\n   </g>\r\n   <g id=\"patch_78\">\r\n    <path clip-path=\"url(#p57b7c0ff9a)\" d=\"M 379.871563 550.8 \r\nL 383.929744 550.8 \r\nL 383.929744 548.741494 \r\nL 379.871563 548.741494 \r\nz\r\n\" style=\"fill:#4c72b0;\"/>\r\n   </g>\r\n   <g id=\"patch_79\">\r\n    <path clip-path=\"url(#p57b7c0ff9a)\" d=\"M 383.929744 550.8 \r\nL 387.987926 550.8 \r\nL 387.987926 550.8 \r\nL 383.929744 550.8 \r\nz\r\n\" style=\"fill:#4c72b0;\"/>\r\n   </g>\r\n   <g id=\"patch_80\">\r\n    <path clip-path=\"url(#p57b7c0ff9a)\" d=\"M 387.987926 550.8 \r\nL 392.046108 550.8 \r\nL 392.046108 550.8 \r\nL 387.987926 550.8 \r\nz\r\n\" style=\"fill:#4c72b0;\"/>\r\n   </g>\r\n   <g id=\"patch_81\">\r\n    <path clip-path=\"url(#p57b7c0ff9a)\" d=\"M 392.046108 550.8 \r\nL 396.10429 550.8 \r\nL 396.10429 550.8 \r\nL 392.046108 550.8 \r\nz\r\n\" style=\"fill:#4c72b0;\"/>\r\n   </g>\r\n   <g id=\"patch_82\">\r\n    <path clip-path=\"url(#p57b7c0ff9a)\" d=\"M 396.10429 550.8 \r\nL 400.162472 550.8 \r\nL 400.162472 549.770747 \r\nL 396.10429 549.770747 \r\nz\r\n\" style=\"fill:#4c72b0;\"/>\r\n   </g>\r\n   <g id=\"patch_83\">\r\n    <path clip-path=\"url(#p57b7c0ff9a)\" d=\"M 400.162472 550.8 \r\nL 404.220653 550.8 \r\nL 404.220653 550.8 \r\nL 400.162472 550.8 \r\nz\r\n\" style=\"fill:#4c72b0;\"/>\r\n   </g>\r\n   <g id=\"patch_84\">\r\n    <path clip-path=\"url(#p57b7c0ff9a)\" d=\"M 404.220653 550.8 \r\nL 408.278835 550.8 \r\nL 408.278835 550.8 \r\nL 404.220653 550.8 \r\nz\r\n\" style=\"fill:#4c72b0;\"/>\r\n   </g>\r\n   <g id=\"patch_85\">\r\n    <path clip-path=\"url(#p57b7c0ff9a)\" d=\"M 408.278835 550.8 \r\nL 412.337017 550.8 \r\nL 412.337017 550.8 \r\nL 408.278835 550.8 \r\nz\r\n\" style=\"fill:#4c72b0;\"/>\r\n   </g>\r\n   <g id=\"patch_86\">\r\n    <path clip-path=\"url(#p57b7c0ff9a)\" d=\"M 412.337017 550.8 \r\nL 416.395199 550.8 \r\nL 416.395199 550.8 \r\nL 412.337017 550.8 \r\nz\r\n\" style=\"fill:#4c72b0;\"/>\r\n   </g>\r\n   <g id=\"patch_87\">\r\n    <path clip-path=\"url(#p57b7c0ff9a)\" d=\"M 416.395199 550.8 \r\nL 420.453381 550.8 \r\nL 420.453381 550.8 \r\nL 416.395199 550.8 \r\nz\r\n\" style=\"fill:#4c72b0;\"/>\r\n   </g>\r\n   <g id=\"patch_88\">\r\n    <path clip-path=\"url(#p57b7c0ff9a)\" d=\"M 420.453381 550.8 \r\nL 424.511563 550.8 \r\nL 424.511563 550.8 \r\nL 420.453381 550.8 \r\nz\r\n\" style=\"fill:#4c72b0;\"/>\r\n   </g>\r\n   <g id=\"patch_89\">\r\n    <path clip-path=\"url(#p57b7c0ff9a)\" d=\"M 424.511563 550.8 \r\nL 428.569744 550.8 \r\nL 428.569744 550.8 \r\nL 424.511563 550.8 \r\nz\r\n\" style=\"fill:#4c72b0;\"/>\r\n   </g>\r\n   <g id=\"patch_90\">\r\n    <path clip-path=\"url(#p57b7c0ff9a)\" d=\"M 428.569744 550.8 \r\nL 432.627926 550.8 \r\nL 432.627926 550.8 \r\nL 428.569744 550.8 \r\nz\r\n\" style=\"fill:#4c72b0;\"/>\r\n   </g>\r\n   <g id=\"patch_91\">\r\n    <path clip-path=\"url(#p57b7c0ff9a)\" d=\"M 432.627926 550.8 \r\nL 436.686108 550.8 \r\nL 436.686108 550.8 \r\nL 432.627926 550.8 \r\nz\r\n\" style=\"fill:#4c72b0;\"/>\r\n   </g>\r\n   <g id=\"patch_92\">\r\n    <path clip-path=\"url(#p57b7c0ff9a)\" d=\"M 436.686108 550.8 \r\nL 440.74429 550.8 \r\nL 440.74429 550.8 \r\nL 436.686108 550.8 \r\nz\r\n\" style=\"fill:#4c72b0;\"/>\r\n   </g>\r\n   <g id=\"patch_93\">\r\n    <path clip-path=\"url(#p57b7c0ff9a)\" d=\"M 440.74429 550.8 \r\nL 444.802472 550.8 \r\nL 444.802472 550.8 \r\nL 440.74429 550.8 \r\nz\r\n\" style=\"fill:#4c72b0;\"/>\r\n   </g>\r\n   <g id=\"patch_94\">\r\n    <path clip-path=\"url(#p57b7c0ff9a)\" d=\"M 444.802472 550.8 \r\nL 448.860653 550.8 \r\nL 448.860653 550.8 \r\nL 444.802472 550.8 \r\nz\r\n\" style=\"fill:#4c72b0;\"/>\r\n   </g>\r\n   <g id=\"patch_95\">\r\n    <path clip-path=\"url(#p57b7c0ff9a)\" d=\"M 448.860653 550.8 \r\nL 452.918835 550.8 \r\nL 452.918835 550.8 \r\nL 448.860653 550.8 \r\nz\r\n\" style=\"fill:#4c72b0;\"/>\r\n   </g>\r\n   <g id=\"patch_96\">\r\n    <path clip-path=\"url(#p57b7c0ff9a)\" d=\"M 452.918835 550.8 \r\nL 456.977017 550.8 \r\nL 456.977017 550.8 \r\nL 452.918835 550.8 \r\nz\r\n\" style=\"fill:#4c72b0;\"/>\r\n   </g>\r\n   <g id=\"patch_97\">\r\n    <path clip-path=\"url(#p57b7c0ff9a)\" d=\"M 456.977017 550.8 \r\nL 461.035199 550.8 \r\nL 461.035199 550.8 \r\nL 456.977017 550.8 \r\nz\r\n\" style=\"fill:#4c72b0;\"/>\r\n   </g>\r\n   <g id=\"patch_98\">\r\n    <path clip-path=\"url(#p57b7c0ff9a)\" d=\"M 461.035199 550.8 \r\nL 465.093381 550.8 \r\nL 465.093381 550.8 \r\nL 461.035199 550.8 \r\nz\r\n\" style=\"fill:#4c72b0;\"/>\r\n   </g>\r\n   <g id=\"patch_99\">\r\n    <path clip-path=\"url(#p57b7c0ff9a)\" d=\"M 465.093381 550.8 \r\nL 469.151563 550.8 \r\nL 469.151563 548.741494 \r\nL 465.093381 548.741494 \r\nz\r\n\" style=\"fill:#4c72b0;\"/>\r\n   </g>\r\n   <g id=\"patch_100\">\r\n    <path clip-path=\"url(#p57b7c0ff9a)\" d=\"M 469.151563 550.8 \r\nL 473.209744 550.8 \r\nL 473.209744 550.8 \r\nL 469.151563 550.8 \r\nz\r\n\" style=\"fill:#4c72b0;\"/>\r\n   </g>\r\n   <g id=\"patch_101\">\r\n    <path clip-path=\"url(#p57b7c0ff9a)\" d=\"M 473.209744 550.8 \r\nL 477.267926 550.8 \r\nL 477.267926 550.8 \r\nL 473.209744 550.8 \r\nz\r\n\" style=\"fill:#4c72b0;\"/>\r\n   </g>\r\n   <g id=\"patch_102\">\r\n    <path clip-path=\"url(#p57b7c0ff9a)\" d=\"M 477.267926 550.8 \r\nL 481.326108 550.8 \r\nL 481.326108 550.8 \r\nL 477.267926 550.8 \r\nz\r\n\" style=\"fill:#4c72b0;\"/>\r\n   </g>\r\n   <g id=\"patch_103\">\r\n    <path clip-path=\"url(#p57b7c0ff9a)\" d=\"M 481.326108 550.8 \r\nL 485.38429 550.8 \r\nL 485.38429 549.770747 \r\nL 481.326108 549.770747 \r\nz\r\n\" style=\"fill:#4c72b0;\"/>\r\n   </g>\r\n   <g id=\"patch_104\">\r\n    <path clip-path=\"url(#p57b7c0ff9a)\" d=\"M 485.38429 550.8 \r\nL 489.442472 550.8 \r\nL 489.442472 550.8 \r\nL 485.38429 550.8 \r\nz\r\n\" style=\"fill:#4c72b0;\"/>\r\n   </g>\r\n   <g id=\"patch_105\">\r\n    <path clip-path=\"url(#p57b7c0ff9a)\" d=\"M 489.442472 550.8 \r\nL 493.500653 550.8 \r\nL 493.500653 550.8 \r\nL 489.442472 550.8 \r\nz\r\n\" style=\"fill:#4c72b0;\"/>\r\n   </g>\r\n   <g id=\"patch_106\">\r\n    <path clip-path=\"url(#p57b7c0ff9a)\" d=\"M 493.500653 550.8 \r\nL 497.558835 550.8 \r\nL 497.558835 549.770747 \r\nL 493.500653 549.770747 \r\nz\r\n\" style=\"fill:#4c72b0;\"/>\r\n   </g>\r\n   <g id=\"patch_107\">\r\n    <path clip-path=\"url(#p57b7c0ff9a)\" d=\"M 497.558835 550.8 \r\nL 501.617017 550.8 \r\nL 501.617017 550.8 \r\nL 497.558835 550.8 \r\nz\r\n\" style=\"fill:#4c72b0;\"/>\r\n   </g>\r\n   <g id=\"patch_108\">\r\n    <path clip-path=\"url(#p57b7c0ff9a)\" d=\"M 501.617017 550.8 \r\nL 505.675199 550.8 \r\nL 505.675199 550.8 \r\nL 501.617017 550.8 \r\nz\r\n\" style=\"fill:#4c72b0;\"/>\r\n   </g>\r\n   <g id=\"patch_109\">\r\n    <path clip-path=\"url(#p57b7c0ff9a)\" d=\"M 505.675199 550.8 \r\nL 509.733381 550.8 \r\nL 509.733381 550.8 \r\nL 505.675199 550.8 \r\nz\r\n\" style=\"fill:#4c72b0;\"/>\r\n   </g>\r\n   <g id=\"patch_110\">\r\n    <path clip-path=\"url(#p57b7c0ff9a)\" d=\"M 509.733381 550.8 \r\nL 513.791563 550.8 \r\nL 513.791563 550.8 \r\nL 509.733381 550.8 \r\nz\r\n\" style=\"fill:#4c72b0;\"/>\r\n   </g>\r\n   <g id=\"patch_111\">\r\n    <path clip-path=\"url(#p57b7c0ff9a)\" d=\"M 513.791563 550.8 \r\nL 517.849744 550.8 \r\nL 517.849744 550.8 \r\nL 513.791563 550.8 \r\nz\r\n\" style=\"fill:#4c72b0;\"/>\r\n   </g>\r\n   <g id=\"patch_112\">\r\n    <path clip-path=\"url(#p57b7c0ff9a)\" d=\"M 517.849744 550.8 \r\nL 521.907926 550.8 \r\nL 521.907926 550.8 \r\nL 517.849744 550.8 \r\nz\r\n\" style=\"fill:#4c72b0;\"/>\r\n   </g>\r\n   <g id=\"patch_113\">\r\n    <path clip-path=\"url(#p57b7c0ff9a)\" d=\"M 521.907926 550.8 \r\nL 525.966108 550.8 \r\nL 525.966108 550.8 \r\nL 521.907926 550.8 \r\nz\r\n\" style=\"fill:#4c72b0;\"/>\r\n   </g>\r\n   <g id=\"patch_114\">\r\n    <path clip-path=\"url(#p57b7c0ff9a)\" d=\"M 525.966108 550.8 \r\nL 530.02429 550.8 \r\nL 530.02429 550.8 \r\nL 525.966108 550.8 \r\nz\r\n\" style=\"fill:#4c72b0;\"/>\r\n   </g>\r\n   <g id=\"patch_115\">\r\n    <path clip-path=\"url(#p57b7c0ff9a)\" d=\"M 530.02429 550.8 \r\nL 534.082472 550.8 \r\nL 534.082472 550.8 \r\nL 530.02429 550.8 \r\nz\r\n\" style=\"fill:#4c72b0;\"/>\r\n   </g>\r\n   <g id=\"patch_116\">\r\n    <path clip-path=\"url(#p57b7c0ff9a)\" d=\"M 534.082472 550.8 \r\nL 538.140653 550.8 \r\nL 538.140653 550.8 \r\nL 534.082472 550.8 \r\nz\r\n\" style=\"fill:#4c72b0;\"/>\r\n   </g>\r\n   <g id=\"patch_117\">\r\n    <path clip-path=\"url(#p57b7c0ff9a)\" d=\"M 538.140653 550.8 \r\nL 542.198835 550.8 \r\nL 542.198835 550.8 \r\nL 538.140653 550.8 \r\nz\r\n\" style=\"fill:#4c72b0;\"/>\r\n   </g>\r\n   <g id=\"patch_118\">\r\n    <path clip-path=\"url(#p57b7c0ff9a)\" d=\"M 542.198835 550.8 \r\nL 546.257017 550.8 \r\nL 546.257017 550.8 \r\nL 542.198835 550.8 \r\nz\r\n\" style=\"fill:#4c72b0;\"/>\r\n   </g>\r\n   <g id=\"patch_119\">\r\n    <path clip-path=\"url(#p57b7c0ff9a)\" d=\"M 546.257017 550.8 \r\nL 550.315199 550.8 \r\nL 550.315199 550.8 \r\nL 546.257017 550.8 \r\nz\r\n\" style=\"fill:#4c72b0;\"/>\r\n   </g>\r\n   <g id=\"patch_120\">\r\n    <path clip-path=\"url(#p57b7c0ff9a)\" d=\"M 550.315199 550.8 \r\nL 554.373381 550.8 \r\nL 554.373381 550.8 \r\nL 550.315199 550.8 \r\nz\r\n\" style=\"fill:#4c72b0;\"/>\r\n   </g>\r\n   <g id=\"patch_121\">\r\n    <path clip-path=\"url(#p57b7c0ff9a)\" d=\"M 554.373381 550.8 \r\nL 558.431563 550.8 \r\nL 558.431563 550.8 \r\nL 554.373381 550.8 \r\nz\r\n\" style=\"fill:#4c72b0;\"/>\r\n   </g>\r\n   <g id=\"patch_122\">\r\n    <path clip-path=\"url(#p57b7c0ff9a)\" d=\"M 558.431563 550.8 \r\nL 562.489744 550.8 \r\nL 562.489744 550.8 \r\nL 558.431563 550.8 \r\nz\r\n\" style=\"fill:#4c72b0;\"/>\r\n   </g>\r\n   <g id=\"patch_123\">\r\n    <path clip-path=\"url(#p57b7c0ff9a)\" d=\"M 562.489744 550.8 \r\nL 566.547926 550.8 \r\nL 566.547926 550.8 \r\nL 562.489744 550.8 \r\nz\r\n\" style=\"fill:#4c72b0;\"/>\r\n   </g>\r\n   <g id=\"patch_124\">\r\n    <path clip-path=\"url(#p57b7c0ff9a)\" d=\"M 566.547926 550.8 \r\nL 570.606108 550.8 \r\nL 570.606108 550.8 \r\nL 566.547926 550.8 \r\nz\r\n\" style=\"fill:#4c72b0;\"/>\r\n   </g>\r\n   <g id=\"patch_125\">\r\n    <path clip-path=\"url(#p57b7c0ff9a)\" d=\"M 570.606108 550.8 \r\nL 574.66429 550.8 \r\nL 574.66429 550.8 \r\nL 570.606108 550.8 \r\nz\r\n\" style=\"fill:#4c72b0;\"/>\r\n   </g>\r\n   <g id=\"patch_126\">\r\n    <path clip-path=\"url(#p57b7c0ff9a)\" d=\"M 574.66429 550.8 \r\nL 578.722472 550.8 \r\nL 578.722472 550.8 \r\nL 574.66429 550.8 \r\nz\r\n\" style=\"fill:#4c72b0;\"/>\r\n   </g>\r\n   <g id=\"patch_127\">\r\n    <path clip-path=\"url(#p57b7c0ff9a)\" d=\"M 578.722472 550.8 \r\nL 582.780653 550.8 \r\nL 582.780653 550.8 \r\nL 578.722472 550.8 \r\nz\r\n\" style=\"fill:#4c72b0;\"/>\r\n   </g>\r\n   <g id=\"patch_128\">\r\n    <path clip-path=\"url(#p57b7c0ff9a)\" d=\"M 582.780653 550.8 \r\nL 586.838835 550.8 \r\nL 586.838835 550.8 \r\nL 582.780653 550.8 \r\nz\r\n\" style=\"fill:#4c72b0;\"/>\r\n   </g>\r\n   <g id=\"patch_129\">\r\n    <path clip-path=\"url(#p57b7c0ff9a)\" d=\"M 586.838835 550.8 \r\nL 590.897017 550.8 \r\nL 590.897017 550.8 \r\nL 586.838835 550.8 \r\nz\r\n\" style=\"fill:#4c72b0;\"/>\r\n   </g>\r\n   <g id=\"patch_130\">\r\n    <path clip-path=\"url(#p57b7c0ff9a)\" d=\"M 590.897017 550.8 \r\nL 594.955199 550.8 \r\nL 594.955199 550.8 \r\nL 590.897017 550.8 \r\nz\r\n\" style=\"fill:#4c72b0;\"/>\r\n   </g>\r\n   <g id=\"patch_131\">\r\n    <path clip-path=\"url(#p57b7c0ff9a)\" d=\"M 594.955199 550.8 \r\nL 599.013381 550.8 \r\nL 599.013381 550.8 \r\nL 594.955199 550.8 \r\nz\r\n\" style=\"fill:#4c72b0;\"/>\r\n   </g>\r\n   <g id=\"patch_132\">\r\n    <path clip-path=\"url(#p57b7c0ff9a)\" d=\"M 599.013381 550.8 \r\nL 603.071563 550.8 \r\nL 603.071563 550.8 \r\nL 599.013381 550.8 \r\nz\r\n\" style=\"fill:#4c72b0;\"/>\r\n   </g>\r\n   <g id=\"patch_133\">\r\n    <path clip-path=\"url(#p57b7c0ff9a)\" d=\"M 603.071563 550.8 \r\nL 607.129744 550.8 \r\nL 607.129744 549.770747 \r\nL 603.071563 549.770747 \r\nz\r\n\" style=\"fill:#4c72b0;\"/>\r\n   </g>\r\n   <g id=\"patch_134\">\r\n    <path clip-path=\"url(#p57b7c0ff9a)\" d=\"M 607.129744 550.8 \r\nL 611.187926 550.8 \r\nL 611.187926 550.8 \r\nL 607.129744 550.8 \r\nz\r\n\" style=\"fill:#4c72b0;\"/>\r\n   </g>\r\n   <g id=\"patch_135\">\r\n    <path clip-path=\"url(#p57b7c0ff9a)\" d=\"M 611.187926 550.8 \r\nL 615.246108 550.8 \r\nL 615.246108 550.8 \r\nL 611.187926 550.8 \r\nz\r\n\" style=\"fill:#4c72b0;\"/>\r\n   </g>\r\n   <g id=\"patch_136\">\r\n    <path clip-path=\"url(#p57b7c0ff9a)\" d=\"M 615.246108 550.8 \r\nL 619.30429 550.8 \r\nL 619.30429 550.8 \r\nL 615.246108 550.8 \r\nz\r\n\" style=\"fill:#4c72b0;\"/>\r\n   </g>\r\n   <g id=\"patch_137\">\r\n    <path clip-path=\"url(#p57b7c0ff9a)\" d=\"M 619.30429 550.8 \r\nL 623.362472 550.8 \r\nL 623.362472 550.8 \r\nL 619.30429 550.8 \r\nz\r\n\" style=\"fill:#4c72b0;\"/>\r\n   </g>\r\n   <g id=\"patch_138\">\r\n    <path clip-path=\"url(#p57b7c0ff9a)\" d=\"M 623.362472 550.8 \r\nL 627.420653 550.8 \r\nL 627.420653 550.8 \r\nL 623.362472 550.8 \r\nz\r\n\" style=\"fill:#4c72b0;\"/>\r\n   </g>\r\n   <g id=\"patch_139\">\r\n    <path clip-path=\"url(#p57b7c0ff9a)\" d=\"M 627.420653 550.8 \r\nL 631.478835 550.8 \r\nL 631.478835 550.8 \r\nL 627.420653 550.8 \r\nz\r\n\" style=\"fill:#4c72b0;\"/>\r\n   </g>\r\n   <g id=\"patch_140\">\r\n    <path clip-path=\"url(#p57b7c0ff9a)\" d=\"M 631.478835 550.8 \r\nL 635.537017 550.8 \r\nL 635.537017 550.8 \r\nL 631.478835 550.8 \r\nz\r\n\" style=\"fill:#4c72b0;\"/>\r\n   </g>\r\n   <g id=\"patch_141\">\r\n    <path clip-path=\"url(#p57b7c0ff9a)\" d=\"M 635.537017 550.8 \r\nL 639.595199 550.8 \r\nL 639.595199 550.8 \r\nL 635.537017 550.8 \r\nz\r\n\" style=\"fill:#4c72b0;\"/>\r\n   </g>\r\n   <g id=\"patch_142\">\r\n    <path clip-path=\"url(#p57b7c0ff9a)\" d=\"M 639.595199 550.8 \r\nL 643.653381 550.8 \r\nL 643.653381 550.8 \r\nL 639.595199 550.8 \r\nz\r\n\" style=\"fill:#4c72b0;\"/>\r\n   </g>\r\n   <g id=\"patch_143\">\r\n    <path clip-path=\"url(#p57b7c0ff9a)\" d=\"M 643.653381 550.8 \r\nL 647.711563 550.8 \r\nL 647.711563 550.8 \r\nL 643.653381 550.8 \r\nz\r\n\" style=\"fill:#4c72b0;\"/>\r\n   </g>\r\n   <g id=\"patch_144\">\r\n    <path clip-path=\"url(#p57b7c0ff9a)\" d=\"M 647.711563 550.8 \r\nL 651.769744 550.8 \r\nL 651.769744 550.8 \r\nL 647.711563 550.8 \r\nz\r\n\" style=\"fill:#4c72b0;\"/>\r\n   </g>\r\n   <g id=\"patch_145\">\r\n    <path clip-path=\"url(#p57b7c0ff9a)\" d=\"M 651.769744 550.8 \r\nL 655.827926 550.8 \r\nL 655.827926 550.8 \r\nL 651.769744 550.8 \r\nz\r\n\" style=\"fill:#4c72b0;\"/>\r\n   </g>\r\n   <g id=\"patch_146\">\r\n    <path clip-path=\"url(#p57b7c0ff9a)\" d=\"M 655.827926 550.8 \r\nL 659.886108 550.8 \r\nL 659.886108 550.8 \r\nL 655.827926 550.8 \r\nz\r\n\" style=\"fill:#4c72b0;\"/>\r\n   </g>\r\n   <g id=\"patch_147\">\r\n    <path clip-path=\"url(#p57b7c0ff9a)\" d=\"M 659.886108 550.8 \r\nL 663.94429 550.8 \r\nL 663.94429 550.8 \r\nL 659.886108 550.8 \r\nz\r\n\" style=\"fill:#4c72b0;\"/>\r\n   </g>\r\n   <g id=\"patch_148\">\r\n    <path clip-path=\"url(#p57b7c0ff9a)\" d=\"M 663.94429 550.8 \r\nL 668.002472 550.8 \r\nL 668.002472 550.8 \r\nL 663.94429 550.8 \r\nz\r\n\" style=\"fill:#4c72b0;\"/>\r\n   </g>\r\n   <g id=\"patch_149\">\r\n    <path clip-path=\"url(#p57b7c0ff9a)\" d=\"M 668.002472 550.8 \r\nL 672.060653 550.8 \r\nL 672.060653 550.8 \r\nL 668.002472 550.8 \r\nz\r\n\" style=\"fill:#4c72b0;\"/>\r\n   </g>\r\n   <g id=\"patch_150\">\r\n    <path clip-path=\"url(#p57b7c0ff9a)\" d=\"M 672.060653 550.8 \r\nL 676.118835 550.8 \r\nL 676.118835 550.8 \r\nL 672.060653 550.8 \r\nz\r\n\" style=\"fill:#4c72b0;\"/>\r\n   </g>\r\n   <g id=\"patch_151\">\r\n    <path clip-path=\"url(#p57b7c0ff9a)\" d=\"M 676.118835 550.8 \r\nL 680.177017 550.8 \r\nL 680.177017 550.8 \r\nL 676.118835 550.8 \r\nz\r\n\" style=\"fill:#4c72b0;\"/>\r\n   </g>\r\n   <g id=\"patch_152\">\r\n    <path clip-path=\"url(#p57b7c0ff9a)\" d=\"M 680.177017 550.8 \r\nL 684.235199 550.8 \r\nL 684.235199 549.770747 \r\nL 680.177017 549.770747 \r\nz\r\n\" style=\"fill:#4c72b0;\"/>\r\n   </g>\r\n   <g id=\"patch_153\">\r\n    <path d=\"M 45.071562 550.8 \r\nL 45.071562 7.2 \r\n\" style=\"fill:none;\"/>\r\n   </g>\r\n   <g id=\"patch_154\">\r\n    <path d=\"M 714.671563 550.8 \r\nL 714.671563 7.2 \r\n\" style=\"fill:none;\"/>\r\n   </g>\r\n   <g id=\"patch_155\">\r\n    <path d=\"M 45.071562 550.8 \r\nL 714.671563 550.8 \r\n\" style=\"fill:none;\"/>\r\n   </g>\r\n   <g id=\"patch_156\">\r\n    <path d=\"M 45.071562 7.2 \r\nL 714.671563 7.2 \r\n\" style=\"fill:none;\"/>\r\n   </g>\r\n  </g>\r\n </g>\r\n <defs>\r\n  <clipPath id=\"p57b7c0ff9a\">\r\n   <rect height=\"543.6\" width=\"669.6\" x=\"45.071562\" y=\"7.2\"/>\r\n  </clipPath>\r\n </defs>\r\n</svg>\r\n",
      "image/png": "[encoded data removed]"
     },
     "metadata": {
      "needs_background": "light"
     }
    }
   ],
   "source": [
    "plt.figure(figsize=(12,10))\n",
    "df[\"length\"].plot(kind=\"hist\",bins=150)"
   ]
  },
  {
   "cell_type": "code",
   "execution_count": 59,
   "metadata": {},
   "outputs": [
    {
     "output_type": "execute_result",
     "data": {
      "text/plain": "count    5572.000000\nmean       80.489950\nstd        59.942907\nmin         2.000000\n25%        36.000000\n50%        62.000000\n75%       122.000000\nmax       910.000000\nName: length, dtype: float64"
     },
     "metadata": {},
     "execution_count": 59
    }
   ],
   "source": [
    "df.length.describe()"
   ]
  },
  {
   "cell_type": "code",
   "execution_count": 56,
   "metadata": {},
   "outputs": [
    {
     "output_type": "execute_result",
     "data": {
      "text/plain": "<seaborn.axisgrid.FacetGrid at 0x25f833e1dc0>"
     },
     "metadata": {},
     "execution_count": 56
    },
    {
     "output_type": "display_data",
     "data": {
      "text/plain": "<Figure size 864x720 with 0 Axes>"
     },
     "metadata": {}
    },
    {
     "output_type": "display_data",
     "data": {
      "text/plain": "<Figure size 1152x576 with 2 Axes>",
      "image/svg+xml": "<?xml version=\"1.0\" encoding=\"utf-8\" standalone=\"no\"?>\r\n<!DOCTYPE svg PUBLIC \"-//W3C//DTD SVG 1.1//EN\"\r\n  \"http://www.w3.org/Graphics/SVG/1.1/DTD/svg11.dtd\">\r\n<!-- Created with matplotlib (https://matplotlib.org/) -->\r\n<svg height=\"568.965937pt\" version=\"1.1\" viewBox=\"0 0 1144.635937 568.965937\" width=\"1144.635937pt\" xmlns=\"http://www.w3.org/2000/svg\" xmlns:xlink=\"http://www.w3.org/1999/xlink\">\r\n <defs>\r\n  <style type=\"text/css\">\r\n*{stroke-linecap:butt;stroke-linejoin:round;}\r\n  </style>\r\n </defs>\r\n <g id=\"figure_1\">\r\n  <g id=\"patch_1\">\r\n   <path d=\"M 0 568.965937 \r\nL 1144.635937 568.965937 \r\nL 1144.635937 0 \r\nL 0 0 \r\nz\r\n\" style=\"fill:none;\"/>\r\n  </g>\r\n  <g id=\"axes_1\">\r\n   <g id=\"patch_2\">\r\n    <path d=\"M 33.660938 531.560781 \r\nL 580.148438 531.560781 \r\nL 580.148438 21.207656 \r\nL 33.660938 21.207656 \r\nz\r\n\" style=\"fill:#eaeaf2;\"/>\r\n   </g>\r\n   <g id=\"matplotlib.axis_1\">\r\n    <g id=\"xtick_1\">\r\n     <g id=\"line2d_1\">\r\n      <path clip-path=\"url(#pac375123bc)\" d=\"M 73.903573 531.560781 \r\nL 73.903573 21.207656 \r\n\" style=\"fill:none;stroke:#ffffff;stroke-linecap:round;\"/>\r\n     </g>\r\n     <g id=\"line2d_2\"/>\r\n     <g id=\"text_1\">\r\n      <!-- 0 -->\r\n      <defs>\r\n       <path d=\"M 4.15625 35.296875 \r\nQ 4.15625 48 6.765625 55.734375 \r\nQ 9.375 63.484375 14.515625 67.671875 \r\nQ 19.671875 71.875 27.484375 71.875 \r\nQ 33.25 71.875 37.59375 69.546875 \r\nQ 41.9375 67.234375 44.765625 62.859375 \r\nQ 47.609375 58.5 49.21875 52.21875 \r\nQ 50.828125 45.953125 50.828125 35.296875 \r\nQ 50.828125 22.703125 48.234375 14.96875 \r\nQ 45.65625 7.234375 40.5 3 \r\nQ 35.359375 -1.21875 27.484375 -1.21875 \r\nQ 17.140625 -1.21875 11.234375 6.203125 \r\nQ 4.15625 15.140625 4.15625 35.296875 \r\nz\r\nM 13.1875 35.296875 \r\nQ 13.1875 17.671875 17.3125 11.828125 \r\nQ 21.4375 6 27.484375 6 \r\nQ 33.546875 6 37.671875 11.859375 \r\nQ 41.796875 17.71875 41.796875 35.296875 \r\nQ 41.796875 52.984375 37.671875 58.78125 \r\nQ 33.546875 64.59375 27.390625 64.59375 \r\nQ 21.34375 64.59375 17.71875 59.46875 \r\nQ 13.1875 52.9375 13.1875 35.296875 \r\nz\r\n\" id=\"ArialMT-48\"/>\r\n      </defs>\r\n      <g style=\"fill:#262626;\" transform=\"translate(71.123104 545.718594)scale(0.1 -0.1)\">\r\n       <use xlink:href=\"#ArialMT-48\"/>\r\n      </g>\r\n     </g>\r\n    </g>\r\n    <g id=\"xtick_2\">\r\n     <g id=\"line2d_3\">\r\n      <path clip-path=\"url(#pac375123bc)\" d=\"M 176.097044 531.560781 \r\nL 176.097044 21.207656 \r\n\" style=\"fill:none;stroke:#ffffff;stroke-linecap:round;\"/>\r\n     </g>\r\n     <g id=\"line2d_4\"/>\r\n     <g id=\"text_2\">\r\n      <!-- 200 -->\r\n      <defs>\r\n       <path d=\"M 50.34375 8.453125 \r\nL 50.34375 0 \r\nL 3.03125 0 \r\nQ 2.9375 3.171875 4.046875 6.109375 \r\nQ 5.859375 10.9375 9.828125 15.625 \r\nQ 13.8125 20.3125 21.34375 26.46875 \r\nQ 33.015625 36.03125 37.109375 41.625 \r\nQ 41.21875 47.21875 41.21875 52.203125 \r\nQ 41.21875 57.421875 37.46875 61 \r\nQ 33.734375 64.59375 27.734375 64.59375 \r\nQ 21.390625 64.59375 17.578125 60.78125 \r\nQ 13.765625 56.984375 13.71875 50.25 \r\nL 4.6875 51.171875 \r\nQ 5.609375 61.28125 11.65625 66.578125 \r\nQ 17.71875 71.875 27.9375 71.875 \r\nQ 38.234375 71.875 44.234375 66.15625 \r\nQ 50.25 60.453125 50.25 52 \r\nQ 50.25 47.703125 48.484375 43.546875 \r\nQ 46.734375 39.40625 42.65625 34.8125 \r\nQ 38.578125 30.21875 29.109375 22.21875 \r\nQ 21.1875 15.578125 18.9375 13.203125 \r\nQ 16.703125 10.84375 15.234375 8.453125 \r\nz\r\n\" id=\"ArialMT-50\"/>\r\n      </defs>\r\n      <g style=\"fill:#262626;\" transform=\"translate(167.755638 545.718594)scale(0.1 -0.1)\">\r\n       <use xlink:href=\"#ArialMT-50\"/>\r\n       <use x=\"55.615234\" xlink:href=\"#ArialMT-48\"/>\r\n       <use x=\"111.230469\" xlink:href=\"#ArialMT-48\"/>\r\n      </g>\r\n     </g>\r\n    </g>\r\n    <g id=\"xtick_3\">\r\n     <g id=\"line2d_5\">\r\n      <path clip-path=\"url(#pac375123bc)\" d=\"M 278.290516 531.560781 \r\nL 278.290516 21.207656 \r\n\" style=\"fill:none;stroke:#ffffff;stroke-linecap:round;\"/>\r\n     </g>\r\n     <g id=\"line2d_6\"/>\r\n     <g id=\"text_3\">\r\n      <!-- 400 -->\r\n      <defs>\r\n       <path d=\"M 32.328125 0 \r\nL 32.328125 17.140625 \r\nL 1.265625 17.140625 \r\nL 1.265625 25.203125 \r\nL 33.9375 71.578125 \r\nL 41.109375 71.578125 \r\nL 41.109375 25.203125 \r\nL 50.78125 25.203125 \r\nL 50.78125 17.140625 \r\nL 41.109375 17.140625 \r\nL 41.109375 0 \r\nz\r\nM 32.328125 25.203125 \r\nL 32.328125 57.46875 \r\nL 9.90625 25.203125 \r\nz\r\n\" id=\"ArialMT-52\"/>\r\n      </defs>\r\n      <g style=\"fill:#262626;\" transform=\"translate(269.949109 545.718594)scale(0.1 -0.1)\">\r\n       <use xlink:href=\"#ArialMT-52\"/>\r\n       <use x=\"55.615234\" xlink:href=\"#ArialMT-48\"/>\r\n       <use x=\"111.230469\" xlink:href=\"#ArialMT-48\"/>\r\n      </g>\r\n     </g>\r\n    </g>\r\n    <g id=\"xtick_4\">\r\n     <g id=\"line2d_7\">\r\n      <path clip-path=\"url(#pac375123bc)\" d=\"M 380.483987 531.560781 \r\nL 380.483987 21.207656 \r\n\" style=\"fill:none;stroke:#ffffff;stroke-linecap:round;\"/>\r\n     </g>\r\n     <g id=\"line2d_8\"/>\r\n     <g id=\"text_4\">\r\n      <!-- 600 -->\r\n      <defs>\r\n       <path d=\"M 49.75 54.046875 \r\nL 41.015625 53.375 \r\nQ 39.84375 58.546875 37.703125 60.890625 \r\nQ 34.125 64.65625 28.90625 64.65625 \r\nQ 24.703125 64.65625 21.53125 62.3125 \r\nQ 17.390625 59.28125 14.984375 53.46875 \r\nQ 12.59375 47.65625 12.5 36.921875 \r\nQ 15.671875 41.75 20.265625 44.09375 \r\nQ 24.859375 46.4375 29.890625 46.4375 \r\nQ 38.671875 46.4375 44.84375 39.96875 \r\nQ 51.03125 33.5 51.03125 23.25 \r\nQ 51.03125 16.5 48.125 10.71875 \r\nQ 45.21875 4.9375 40.140625 1.859375 \r\nQ 35.0625 -1.21875 28.609375 -1.21875 \r\nQ 17.625 -1.21875 10.6875 6.859375 \r\nQ 3.765625 14.9375 3.765625 33.5 \r\nQ 3.765625 54.25 11.421875 63.671875 \r\nQ 18.109375 71.875 29.4375 71.875 \r\nQ 37.890625 71.875 43.28125 67.140625 \r\nQ 48.6875 62.40625 49.75 54.046875 \r\nz\r\nM 13.875 23.1875 \r\nQ 13.875 18.65625 15.796875 14.5 \r\nQ 17.71875 10.359375 21.1875 8.171875 \r\nQ 24.65625 6 28.46875 6 \r\nQ 34.03125 6 38.03125 10.484375 \r\nQ 42.046875 14.984375 42.046875 22.703125 \r\nQ 42.046875 30.125 38.078125 34.390625 \r\nQ 34.125 38.671875 28.125 38.671875 \r\nQ 22.171875 38.671875 18.015625 34.390625 \r\nQ 13.875 30.125 13.875 23.1875 \r\nz\r\n\" id=\"ArialMT-54\"/>\r\n      </defs>\r\n      <g style=\"fill:#262626;\" transform=\"translate(372.142581 545.718594)scale(0.1 -0.1)\">\r\n       <use xlink:href=\"#ArialMT-54\"/>\r\n       <use x=\"55.615234\" xlink:href=\"#ArialMT-48\"/>\r\n       <use x=\"111.230469\" xlink:href=\"#ArialMT-48\"/>\r\n      </g>\r\n     </g>\r\n    </g>\r\n    <g id=\"xtick_5\">\r\n     <g id=\"line2d_9\">\r\n      <path clip-path=\"url(#pac375123bc)\" d=\"M 482.677458 531.560781 \r\nL 482.677458 21.207656 \r\n\" style=\"fill:none;stroke:#ffffff;stroke-linecap:round;\"/>\r\n     </g>\r\n     <g id=\"line2d_10\"/>\r\n     <g id=\"text_5\">\r\n      <!-- 800 -->\r\n      <defs>\r\n       <path d=\"M 17.671875 38.8125 \r\nQ 12.203125 40.828125 9.5625 44.53125 \r\nQ 6.9375 48.25 6.9375 53.421875 \r\nQ 6.9375 61.234375 12.546875 66.546875 \r\nQ 18.171875 71.875 27.484375 71.875 \r\nQ 36.859375 71.875 42.578125 66.421875 \r\nQ 48.296875 60.984375 48.296875 53.171875 \r\nQ 48.296875 48.1875 45.671875 44.5 \r\nQ 43.0625 40.828125 37.75 38.8125 \r\nQ 44.34375 36.671875 47.78125 31.875 \r\nQ 51.21875 27.09375 51.21875 20.453125 \r\nQ 51.21875 11.28125 44.71875 5.03125 \r\nQ 38.234375 -1.21875 27.640625 -1.21875 \r\nQ 17.046875 -1.21875 10.546875 5.046875 \r\nQ 4.046875 11.328125 4.046875 20.703125 \r\nQ 4.046875 27.6875 7.59375 32.390625 \r\nQ 11.140625 37.109375 17.671875 38.8125 \r\nz\r\nM 15.921875 53.71875 \r\nQ 15.921875 48.640625 19.1875 45.40625 \r\nQ 22.46875 42.1875 27.6875 42.1875 \r\nQ 32.765625 42.1875 36.015625 45.375 \r\nQ 39.265625 48.578125 39.265625 53.21875 \r\nQ 39.265625 58.0625 35.90625 61.359375 \r\nQ 32.5625 64.65625 27.59375 64.65625 \r\nQ 22.5625 64.65625 19.234375 61.421875 \r\nQ 15.921875 58.203125 15.921875 53.71875 \r\nz\r\nM 13.09375 20.65625 \r\nQ 13.09375 16.890625 14.875 13.375 \r\nQ 16.65625 9.859375 20.171875 7.921875 \r\nQ 23.6875 6 27.734375 6 \r\nQ 34.03125 6 38.125 10.046875 \r\nQ 42.234375 14.109375 42.234375 20.359375 \r\nQ 42.234375 26.703125 38.015625 30.859375 \r\nQ 33.796875 35.015625 27.4375 35.015625 \r\nQ 21.234375 35.015625 17.15625 30.90625 \r\nQ 13.09375 26.8125 13.09375 20.65625 \r\nz\r\n\" id=\"ArialMT-56\"/>\r\n      </defs>\r\n      <g style=\"fill:#262626;\" transform=\"translate(474.336052 545.718594)scale(0.1 -0.1)\">\r\n       <use xlink:href=\"#ArialMT-56\"/>\r\n       <use x=\"55.615234\" xlink:href=\"#ArialMT-48\"/>\r\n       <use x=\"111.230469\" xlink:href=\"#ArialMT-48\"/>\r\n      </g>\r\n     </g>\r\n    </g>\r\n    <g id=\"text_6\">\r\n     <!-- len -->\r\n     <defs>\r\n      <path d=\"M 6.390625 0 \r\nL 6.390625 71.578125 \r\nL 15.1875 71.578125 \r\nL 15.1875 0 \r\nz\r\n\" id=\"ArialMT-108\"/>\r\n      <path d=\"M 42.09375 16.703125 \r\nL 51.171875 15.578125 \r\nQ 49.03125 7.625 43.21875 3.21875 \r\nQ 37.40625 -1.171875 28.375 -1.171875 \r\nQ 17 -1.171875 10.328125 5.828125 \r\nQ 3.65625 12.84375 3.65625 25.484375 \r\nQ 3.65625 38.578125 10.390625 45.796875 \r\nQ 17.140625 53.03125 27.875 53.03125 \r\nQ 38.28125 53.03125 44.875 45.953125 \r\nQ 51.46875 38.875 51.46875 26.03125 \r\nQ 51.46875 25.25 51.421875 23.6875 \r\nL 12.75 23.6875 \r\nQ 13.234375 15.140625 17.578125 10.59375 \r\nQ 21.921875 6.0625 28.421875 6.0625 \r\nQ 33.25 6.0625 36.671875 8.59375 \r\nQ 40.09375 11.140625 42.09375 16.703125 \r\nz\r\nM 13.234375 30.90625 \r\nL 42.1875 30.90625 \r\nQ 41.609375 37.453125 38.875 40.71875 \r\nQ 34.671875 45.796875 27.984375 45.796875 \r\nQ 21.921875 45.796875 17.796875 41.75 \r\nQ 13.671875 37.703125 13.234375 30.90625 \r\nz\r\n\" id=\"ArialMT-101\"/>\r\n      <path d=\"M 6.59375 0 \r\nL 6.59375 51.859375 \r\nL 14.5 51.859375 \r\nL 14.5 44.484375 \r\nQ 20.21875 53.03125 31 53.03125 \r\nQ 35.6875 53.03125 39.625 51.34375 \r\nQ 43.5625 49.65625 45.515625 46.921875 \r\nQ 47.46875 44.1875 48.25 40.4375 \r\nQ 48.734375 37.984375 48.734375 31.890625 \r\nL 48.734375 0 \r\nL 39.9375 0 \r\nL 39.9375 31.546875 \r\nQ 39.9375 36.921875 38.90625 39.578125 \r\nQ 37.890625 42.234375 35.28125 43.8125 \r\nQ 32.671875 45.40625 29.15625 45.40625 \r\nQ 23.53125 45.40625 19.453125 41.84375 \r\nQ 15.375 38.28125 15.375 28.328125 \r\nL 15.375 0 \r\nz\r\n\" id=\"ArialMT-110\"/>\r\n     </defs>\r\n     <g style=\"fill:#262626;\" transform=\"translate(299.565625 559.579687)scale(0.11 -0.11)\">\r\n      <use xlink:href=\"#ArialMT-108\"/>\r\n      <use x=\"22.216797\" xlink:href=\"#ArialMT-101\"/>\r\n      <use x=\"77.832031\" xlink:href=\"#ArialMT-110\"/>\r\n     </g>\r\n    </g>\r\n   </g>\r\n   <g id=\"matplotlib.axis_2\">\r\n    <g id=\"ytick_1\">\r\n     <g id=\"line2d_11\">\r\n      <path clip-path=\"url(#pac375123bc)\" d=\"M 33.660938 531.560781 \r\nL 580.148438 531.560781 \r\n\" style=\"fill:none;stroke:#ffffff;stroke-linecap:round;\"/>\r\n     </g>\r\n     <g id=\"line2d_12\"/>\r\n     <g id=\"text_7\">\r\n      <!-- 0.00 -->\r\n      <defs>\r\n       <path d=\"M 9.078125 0 \r\nL 9.078125 10.015625 \r\nL 19.09375 10.015625 \r\nL 19.09375 0 \r\nz\r\n\" id=\"ArialMT-46\"/>\r\n      </defs>\r\n      <g style=\"fill:#262626;\" transform=\"translate(7.2 535.139687)scale(0.1 -0.1)\">\r\n       <use xlink:href=\"#ArialMT-48\"/>\r\n       <use x=\"55.615234\" xlink:href=\"#ArialMT-46\"/>\r\n       <use x=\"83.398438\" xlink:href=\"#ArialMT-48\"/>\r\n       <use x=\"139.013672\" xlink:href=\"#ArialMT-48\"/>\r\n      </g>\r\n     </g>\r\n    </g>\r\n    <g id=\"ytick_2\">\r\n     <g id=\"line2d_13\">\r\n      <path clip-path=\"url(#pac375123bc)\" d=\"M 33.660938 426.247581 \r\nL 580.148438 426.247581 \r\n\" style=\"fill:none;stroke:#ffffff;stroke-linecap:round;\"/>\r\n     </g>\r\n     <g id=\"line2d_14\"/>\r\n     <g id=\"text_8\">\r\n      <!-- 0.01 -->\r\n      <defs>\r\n       <path d=\"M 37.25 0 \r\nL 28.46875 0 \r\nL 28.46875 56 \r\nQ 25.296875 52.984375 20.140625 49.953125 \r\nQ 14.984375 46.921875 10.890625 45.40625 \r\nL 10.890625 53.90625 \r\nQ 18.265625 57.375 23.78125 62.296875 \r\nQ 29.296875 67.234375 31.59375 71.875 \r\nL 37.25 71.875 \r\nz\r\n\" id=\"ArialMT-49\"/>\r\n      </defs>\r\n      <g style=\"fill:#262626;\" transform=\"translate(7.2 429.826487)scale(0.1 -0.1)\">\r\n       <use xlink:href=\"#ArialMT-48\"/>\r\n       <use x=\"55.615234\" xlink:href=\"#ArialMT-46\"/>\r\n       <use x=\"83.398438\" xlink:href=\"#ArialMT-48\"/>\r\n       <use x=\"139.013672\" xlink:href=\"#ArialMT-49\"/>\r\n      </g>\r\n     </g>\r\n    </g>\r\n    <g id=\"ytick_3\">\r\n     <g id=\"line2d_15\">\r\n      <path clip-path=\"url(#pac375123bc)\" d=\"M 33.660938 320.934381 \r\nL 580.148438 320.934381 \r\n\" style=\"fill:none;stroke:#ffffff;stroke-linecap:round;\"/>\r\n     </g>\r\n     <g id=\"line2d_16\"/>\r\n     <g id=\"text_9\">\r\n      <!-- 0.02 -->\r\n      <g style=\"fill:#262626;\" transform=\"translate(7.2 324.513287)scale(0.1 -0.1)\">\r\n       <use xlink:href=\"#ArialMT-48\"/>\r\n       <use x=\"55.615234\" xlink:href=\"#ArialMT-46\"/>\r\n       <use x=\"83.398438\" xlink:href=\"#ArialMT-48\"/>\r\n       <use x=\"139.013672\" xlink:href=\"#ArialMT-50\"/>\r\n      </g>\r\n     </g>\r\n    </g>\r\n    <g id=\"ytick_4\">\r\n     <g id=\"line2d_17\">\r\n      <path clip-path=\"url(#pac375123bc)\" d=\"M 33.660938 215.621181 \r\nL 580.148438 215.621181 \r\n\" style=\"fill:none;stroke:#ffffff;stroke-linecap:round;\"/>\r\n     </g>\r\n     <g id=\"line2d_18\"/>\r\n     <g id=\"text_10\">\r\n      <!-- 0.03 -->\r\n      <defs>\r\n       <path d=\"M 4.203125 18.890625 \r\nL 12.984375 20.0625 \r\nQ 14.5 12.59375 18.140625 9.296875 \r\nQ 21.78125 6 27 6 \r\nQ 33.203125 6 37.46875 10.296875 \r\nQ 41.75 14.59375 41.75 20.953125 \r\nQ 41.75 27 37.796875 30.921875 \r\nQ 33.84375 34.859375 27.734375 34.859375 \r\nQ 25.25 34.859375 21.53125 33.890625 \r\nL 22.515625 41.609375 \r\nQ 23.390625 41.5 23.921875 41.5 \r\nQ 29.546875 41.5 34.03125 44.421875 \r\nQ 38.53125 47.359375 38.53125 53.46875 \r\nQ 38.53125 58.296875 35.25 61.46875 \r\nQ 31.984375 64.65625 26.8125 64.65625 \r\nQ 21.6875 64.65625 18.265625 61.421875 \r\nQ 14.84375 58.203125 13.875 51.765625 \r\nL 5.078125 53.328125 \r\nQ 6.6875 62.15625 12.390625 67.015625 \r\nQ 18.109375 71.875 26.609375 71.875 \r\nQ 32.46875 71.875 37.390625 69.359375 \r\nQ 42.328125 66.84375 44.9375 62.5 \r\nQ 47.5625 58.15625 47.5625 53.265625 \r\nQ 47.5625 48.640625 45.0625 44.828125 \r\nQ 42.578125 41.015625 37.703125 38.765625 \r\nQ 44.046875 37.3125 47.5625 32.6875 \r\nQ 51.078125 28.078125 51.078125 21.140625 \r\nQ 51.078125 11.765625 44.234375 5.25 \r\nQ 37.40625 -1.265625 26.953125 -1.265625 \r\nQ 17.53125 -1.265625 11.296875 4.34375 \r\nQ 5.078125 9.96875 4.203125 18.890625 \r\nz\r\n\" id=\"ArialMT-51\"/>\r\n      </defs>\r\n      <g style=\"fill:#262626;\" transform=\"translate(7.2 219.200087)scale(0.1 -0.1)\">\r\n       <use xlink:href=\"#ArialMT-48\"/>\r\n       <use x=\"55.615234\" xlink:href=\"#ArialMT-46\"/>\r\n       <use x=\"83.398438\" xlink:href=\"#ArialMT-48\"/>\r\n       <use x=\"139.013672\" xlink:href=\"#ArialMT-51\"/>\r\n      </g>\r\n     </g>\r\n    </g>\r\n    <g id=\"ytick_5\">\r\n     <g id=\"line2d_19\">\r\n      <path clip-path=\"url(#pac375123bc)\" d=\"M 33.660938 110.307981 \r\nL 580.148438 110.307981 \r\n\" style=\"fill:none;stroke:#ffffff;stroke-linecap:round;\"/>\r\n     </g>\r\n     <g id=\"line2d_20\"/>\r\n     <g id=\"text_11\">\r\n      <!-- 0.04 -->\r\n      <g style=\"fill:#262626;\" transform=\"translate(7.2 113.886887)scale(0.1 -0.1)\">\r\n       <use xlink:href=\"#ArialMT-48\"/>\r\n       <use x=\"55.615234\" xlink:href=\"#ArialMT-46\"/>\r\n       <use x=\"83.398438\" xlink:href=\"#ArialMT-48\"/>\r\n       <use x=\"139.013672\" xlink:href=\"#ArialMT-52\"/>\r\n      </g>\r\n     </g>\r\n    </g>\r\n   </g>\r\n   <g id=\"patch_3\">\r\n    <path clip-path=\"url(#pac375123bc)\" d=\"M 74.925507 531.560781 \r\nL 84.204675 531.560781 \r\nL 84.204675 511.849562 \r\nL 74.925507 511.849562 \r\nz\r\n\" style=\"fill:#4c72b0;opacity:0.4;\"/>\r\n   </g>\r\n   <g id=\"patch_4\">\r\n    <path clip-path=\"url(#pac375123bc)\" d=\"M 84.204675 531.560781 \r\nL 93.483842 531.560781 \r\nL 93.483842 357.284755 \r\nL 84.204675 357.284755 \r\nz\r\n\" style=\"fill:#4c72b0;opacity:0.4;\"/>\r\n   </g>\r\n   <g id=\"patch_5\">\r\n    <path clip-path=\"url(#pac375123bc)\" d=\"M 93.483842 531.560781 \r\nL 102.763009 531.560781 \r\nL 102.763009 413.293464 \r\nL 93.483842 413.293464 \r\nz\r\n\" style=\"fill:#4c72b0;opacity:0.4;\"/>\r\n   </g>\r\n   <g id=\"patch_6\">\r\n    <path clip-path=\"url(#pac375123bc)\" d=\"M 102.763009 531.560781 \r\nL 112.042176 531.560781 \r\nL 112.042176 460.768657 \r\nL 102.763009 460.768657 \r\nz\r\n\" style=\"fill:#4c72b0;opacity:0.4;\"/>\r\n   </g>\r\n   <g id=\"patch_7\">\r\n    <path clip-path=\"url(#pac375123bc)\" d=\"M 112.042176 531.560781 \r\nL 121.321343 531.560781 \r\nL 121.321343 480.119306 \r\nL 112.042176 480.119306 \r\nz\r\n\" style=\"fill:#4c72b0;opacity:0.4;\"/>\r\n   </g>\r\n   <g id=\"patch_8\">\r\n    <path clip-path=\"url(#pac375123bc)\" d=\"M 121.321343 531.560781 \r\nL 130.600511 531.560781 \r\nL 130.600511 500.551668 \r\nL 121.321343 500.551668 \r\nz\r\n\" style=\"fill:#4c72b0;opacity:0.4;\"/>\r\n   </g>\r\n   <g id=\"patch_9\">\r\n    <path clip-path=\"url(#pac375123bc)\" d=\"M 130.600511 531.560781 \r\nL 139.879678 531.560781 \r\nL 139.879678 500.431477 \r\nL 130.600511 500.431477 \r\nz\r\n\" style=\"fill:#4c72b0;opacity:0.4;\"/>\r\n   </g>\r\n   <g id=\"patch_10\">\r\n    <path clip-path=\"url(#pac375123bc)\" d=\"M 139.879678 531.560781 \r\nL 149.158845 531.560781 \r\nL 149.158845 505.118901 \r\nL 139.879678 505.118901 \r\nz\r\n\" style=\"fill:#4c72b0;opacity:0.4;\"/>\r\n   </g>\r\n   <g id=\"patch_11\">\r\n    <path clip-path=\"url(#pac375123bc)\" d=\"M 149.158845 531.560781 \r\nL 158.438012 531.560781 \r\nL 158.438012 497.667099 \r\nL 149.158845 497.667099 \r\nz\r\n\" style=\"fill:#4c72b0;opacity:0.4;\"/>\r\n   </g>\r\n   <g id=\"patch_12\">\r\n    <path clip-path=\"url(#pac375123bc)\" d=\"M 158.438012 531.560781 \r\nL 167.717179 531.560781 \r\nL 167.717179 524.830121 \r\nL 158.438012 524.830121 \r\nz\r\n\" style=\"fill:#4c72b0;opacity:0.4;\"/>\r\n   </g>\r\n   <g id=\"patch_13\">\r\n    <path clip-path=\"url(#pac375123bc)\" d=\"M 167.717179 531.560781 \r\nL 176.996347 531.560781 \r\nL 176.996347 528.556022 \r\nL 167.717179 528.556022 \r\nz\r\n\" style=\"fill:#4c72b0;opacity:0.4;\"/>\r\n   </g>\r\n   <g id=\"patch_14\">\r\n    <path clip-path=\"url(#pac375123bc)\" d=\"M 176.996347 531.560781 \r\nL 186.275514 531.560781 \r\nL 186.275514 529.757926 \r\nL 176.996347 529.757926 \r\nz\r\n\" style=\"fill:#4c72b0;opacity:0.4;\"/>\r\n   </g>\r\n   <g id=\"patch_15\">\r\n    <path clip-path=\"url(#pac375123bc)\" d=\"M 186.275514 531.560781 \r\nL 195.554681 531.560781 \r\nL 195.554681 529.517545 \r\nL 186.275514 529.517545 \r\nz\r\n\" style=\"fill:#4c72b0;opacity:0.4;\"/>\r\n   </g>\r\n   <g id=\"patch_16\">\r\n    <path clip-path=\"url(#pac375123bc)\" d=\"M 195.554681 531.560781 \r\nL 204.833848 531.560781 \r\nL 204.833848 530.118497 \r\nL 195.554681 530.118497 \r\nz\r\n\" style=\"fill:#4c72b0;opacity:0.4;\"/>\r\n   </g>\r\n   <g id=\"patch_17\">\r\n    <path clip-path=\"url(#pac375123bc)\" d=\"M 204.833848 531.560781 \r\nL 214.113015 531.560781 \r\nL 214.113015 530.959829 \r\nL 204.833848 530.959829 \r\nz\r\n\" style=\"fill:#4c72b0;opacity:0.4;\"/>\r\n   </g>\r\n   <g id=\"patch_18\">\r\n    <path clip-path=\"url(#pac375123bc)\" d=\"M 214.113015 531.560781 \r\nL 223.392183 531.560781 \r\nL 223.392183 529.878116 \r\nL 214.113015 529.878116 \r\nz\r\n\" style=\"fill:#4c72b0;opacity:0.4;\"/>\r\n   </g>\r\n   <g id=\"patch_19\">\r\n    <path clip-path=\"url(#pac375123bc)\" d=\"M 223.392183 531.560781 \r\nL 232.67135 531.560781 \r\nL 232.67135 530.599258 \r\nL 223.392183 530.599258 \r\nz\r\n\" style=\"fill:#4c72b0;opacity:0.4;\"/>\r\n   </g>\r\n   <g id=\"patch_20\">\r\n    <path clip-path=\"url(#pac375123bc)\" d=\"M 232.67135 531.560781 \r\nL 241.950517 531.560781 \r\nL 241.950517 530.479068 \r\nL 232.67135 530.479068 \r\nz\r\n\" style=\"fill:#4c72b0;opacity:0.4;\"/>\r\n   </g>\r\n   <g id=\"patch_21\">\r\n    <path clip-path=\"url(#pac375123bc)\" d=\"M 241.950517 531.560781 \r\nL 251.229684 531.560781 \r\nL 251.229684 530.959829 \r\nL 241.950517 530.959829 \r\nz\r\n\" style=\"fill:#4c72b0;opacity:0.4;\"/>\r\n   </g>\r\n   <g id=\"patch_22\">\r\n    <path clip-path=\"url(#pac375123bc)\" d=\"M 251.229684 531.560781 \r\nL 260.508851 531.560781 \r\nL 260.508851 531.320401 \r\nL 251.229684 531.320401 \r\nz\r\n\" style=\"fill:#4c72b0;opacity:0.4;\"/>\r\n   </g>\r\n   <g id=\"patch_23\">\r\n    <path clip-path=\"url(#pac375123bc)\" d=\"M 260.508851 531.560781 \r\nL 269.788019 531.560781 \r\nL 269.788019 530.959829 \r\nL 260.508851 530.959829 \r\nz\r\n\" style=\"fill:#4c72b0;opacity:0.4;\"/>\r\n   </g>\r\n   <g id=\"patch_24\">\r\n    <path clip-path=\"url(#pac375123bc)\" d=\"M 269.788019 531.560781 \r\nL 279.067186 531.560781 \r\nL 279.067186 531.440591 \r\nL 269.788019 531.440591 \r\nz\r\n\" style=\"fill:#4c72b0;opacity:0.4;\"/>\r\n   </g>\r\n   <g id=\"patch_25\">\r\n    <path clip-path=\"url(#pac375123bc)\" d=\"M 279.067186 531.560781 \r\nL 288.346353 531.560781 \r\nL 288.346353 531.320401 \r\nL 279.067186 531.320401 \r\nz\r\n\" style=\"fill:#4c72b0;opacity:0.4;\"/>\r\n   </g>\r\n   <g id=\"patch_26\">\r\n    <path clip-path=\"url(#pac375123bc)\" d=\"M 288.346353 531.560781 \r\nL 297.62552 531.560781 \r\nL 297.62552 531.440591 \r\nL 288.346353 531.440591 \r\nz\r\n\" style=\"fill:#4c72b0;opacity:0.4;\"/>\r\n   </g>\r\n   <g id=\"patch_27\">\r\n    <path clip-path=\"url(#pac375123bc)\" d=\"M 297.62552 531.560781 \r\nL 306.904688 531.560781 \r\nL 306.904688 530.959829 \r\nL 297.62552 530.959829 \r\nz\r\n\" style=\"fill:#4c72b0;opacity:0.4;\"/>\r\n   </g>\r\n   <g id=\"patch_28\">\r\n    <path clip-path=\"url(#pac375123bc)\" d=\"M 306.904688 531.560781 \r\nL 316.183855 531.560781 \r\nL 316.183855 531.320401 \r\nL 306.904688 531.320401 \r\nz\r\n\" style=\"fill:#4c72b0;opacity:0.4;\"/>\r\n   </g>\r\n   <g id=\"patch_29\">\r\n    <path clip-path=\"url(#pac375123bc)\" d=\"M 316.183855 531.560781 \r\nL 325.463022 531.560781 \r\nL 325.463022 531.440591 \r\nL 316.183855 531.440591 \r\nz\r\n\" style=\"fill:#4c72b0;opacity:0.4;\"/>\r\n   </g>\r\n   <g id=\"patch_30\">\r\n    <path clip-path=\"url(#pac375123bc)\" d=\"M 325.463022 531.560781 \r\nL 334.742189 531.560781 \r\nL 334.742189 531.560781 \r\nL 325.463022 531.560781 \r\nz\r\n\" style=\"fill:#4c72b0;opacity:0.4;\"/>\r\n   </g>\r\n   <g id=\"patch_31\">\r\n    <path clip-path=\"url(#pac375123bc)\" d=\"M 334.742189 531.560781 \r\nL 344.021356 531.560781 \r\nL 344.021356 531.560781 \r\nL 334.742189 531.560781 \r\nz\r\n\" style=\"fill:#4c72b0;opacity:0.4;\"/>\r\n   </g>\r\n   <g id=\"patch_32\">\r\n    <path clip-path=\"url(#pac375123bc)\" d=\"M 344.021356 531.560781 \r\nL 353.300524 531.560781 \r\nL 353.300524 531.560781 \r\nL 344.021356 531.560781 \r\nz\r\n\" style=\"fill:#4c72b0;opacity:0.4;\"/>\r\n   </g>\r\n   <g id=\"patch_33\">\r\n    <path clip-path=\"url(#pac375123bc)\" d=\"M 353.300524 531.560781 \r\nL 362.579691 531.560781 \r\nL 362.579691 531.560781 \r\nL 353.300524 531.560781 \r\nz\r\n\" style=\"fill:#4c72b0;opacity:0.4;\"/>\r\n   </g>\r\n   <g id=\"patch_34\">\r\n    <path clip-path=\"url(#pac375123bc)\" d=\"M 362.579691 531.560781 \r\nL 371.858858 531.560781 \r\nL 371.858858 531.560781 \r\nL 362.579691 531.560781 \r\nz\r\n\" style=\"fill:#4c72b0;opacity:0.4;\"/>\r\n   </g>\r\n   <g id=\"patch_35\">\r\n    <path clip-path=\"url(#pac375123bc)\" d=\"M 371.858858 531.560781 \r\nL 381.138025 531.560781 \r\nL 381.138025 531.320401 \r\nL 371.858858 531.320401 \r\nz\r\n\" style=\"fill:#4c72b0;opacity:0.4;\"/>\r\n   </g>\r\n   <g id=\"patch_36\">\r\n    <path clip-path=\"url(#pac375123bc)\" d=\"M 381.138025 531.560781 \r\nL 390.417192 531.560781 \r\nL 390.417192 531.440591 \r\nL 381.138025 531.440591 \r\nz\r\n\" style=\"fill:#4c72b0;opacity:0.4;\"/>\r\n   </g>\r\n   <g id=\"patch_37\">\r\n    <path clip-path=\"url(#pac375123bc)\" d=\"M 390.417192 531.560781 \r\nL 399.69636 531.560781 \r\nL 399.69636 531.440591 \r\nL 390.417192 531.440591 \r\nz\r\n\" style=\"fill:#4c72b0;opacity:0.4;\"/>\r\n   </g>\r\n   <g id=\"patch_38\">\r\n    <path clip-path=\"url(#pac375123bc)\" d=\"M 399.69636 531.560781 \r\nL 408.975527 531.560781 \r\nL 408.975527 531.560781 \r\nL 399.69636 531.560781 \r\nz\r\n\" style=\"fill:#4c72b0;opacity:0.4;\"/>\r\n   </g>\r\n   <g id=\"patch_39\">\r\n    <path clip-path=\"url(#pac375123bc)\" d=\"M 408.975527 531.560781 \r\nL 418.254694 531.560781 \r\nL 418.254694 531.560781 \r\nL 408.975527 531.560781 \r\nz\r\n\" style=\"fill:#4c72b0;opacity:0.4;\"/>\r\n   </g>\r\n   <g id=\"patch_40\">\r\n    <path clip-path=\"url(#pac375123bc)\" d=\"M 418.254694 531.560781 \r\nL 427.533861 531.560781 \r\nL 427.533861 531.560781 \r\nL 418.254694 531.560781 \r\nz\r\n\" style=\"fill:#4c72b0;opacity:0.4;\"/>\r\n   </g>\r\n   <g id=\"patch_41\">\r\n    <path clip-path=\"url(#pac375123bc)\" d=\"M 427.533861 531.560781 \r\nL 436.813028 531.560781 \r\nL 436.813028 531.560781 \r\nL 427.533861 531.560781 \r\nz\r\n\" style=\"fill:#4c72b0;opacity:0.4;\"/>\r\n   </g>\r\n   <g id=\"patch_42\">\r\n    <path clip-path=\"url(#pac375123bc)\" d=\"M 436.813028 531.560781 \r\nL 446.092196 531.560781 \r\nL 446.092196 531.560781 \r\nL 436.813028 531.560781 \r\nz\r\n\" style=\"fill:#4c72b0;opacity:0.4;\"/>\r\n   </g>\r\n   <g id=\"patch_43\">\r\n    <path clip-path=\"url(#pac375123bc)\" d=\"M 446.092196 531.560781 \r\nL 455.371363 531.560781 \r\nL 455.371363 531.560781 \r\nL 446.092196 531.560781 \r\nz\r\n\" style=\"fill:#4c72b0;opacity:0.4;\"/>\r\n   </g>\r\n   <g id=\"patch_44\">\r\n    <path clip-path=\"url(#pac375123bc)\" d=\"M 455.371363 531.560781 \r\nL 464.65053 531.560781 \r\nL 464.65053 531.560781 \r\nL 455.371363 531.560781 \r\nz\r\n\" style=\"fill:#4c72b0;opacity:0.4;\"/>\r\n   </g>\r\n   <g id=\"patch_45\">\r\n    <path clip-path=\"url(#pac375123bc)\" d=\"M 464.65053 531.560781 \r\nL 473.929697 531.560781 \r\nL 473.929697 531.560781 \r\nL 464.65053 531.560781 \r\nz\r\n\" style=\"fill:#4c72b0;opacity:0.4;\"/>\r\n   </g>\r\n   <g id=\"patch_46\">\r\n    <path clip-path=\"url(#pac375123bc)\" d=\"M 473.929697 531.560781 \r\nL 483.208864 531.560781 \r\nL 483.208864 531.440591 \r\nL 473.929697 531.440591 \r\nz\r\n\" style=\"fill:#4c72b0;opacity:0.4;\"/>\r\n   </g>\r\n   <g id=\"patch_47\">\r\n    <path clip-path=\"url(#pac375123bc)\" d=\"M 483.208864 531.560781 \r\nL 492.488032 531.560781 \r\nL 492.488032 531.560781 \r\nL 483.208864 531.560781 \r\nz\r\n\" style=\"fill:#4c72b0;opacity:0.4;\"/>\r\n   </g>\r\n   <g id=\"patch_48\">\r\n    <path clip-path=\"url(#pac375123bc)\" d=\"M 492.488032 531.560781 \r\nL 501.767199 531.560781 \r\nL 501.767199 531.560781 \r\nL 492.488032 531.560781 \r\nz\r\n\" style=\"fill:#4c72b0;opacity:0.4;\"/>\r\n   </g>\r\n   <g id=\"patch_49\">\r\n    <path clip-path=\"url(#pac375123bc)\" d=\"M 501.767199 531.560781 \r\nL 511.046366 531.560781 \r\nL 511.046366 531.560781 \r\nL 501.767199 531.560781 \r\nz\r\n\" style=\"fill:#4c72b0;opacity:0.4;\"/>\r\n   </g>\r\n   <g id=\"patch_50\">\r\n    <path clip-path=\"url(#pac375123bc)\" d=\"M 511.046366 531.560781 \r\nL 520.325533 531.560781 \r\nL 520.325533 531.560781 \r\nL 511.046366 531.560781 \r\nz\r\n\" style=\"fill:#4c72b0;opacity:0.4;\"/>\r\n   </g>\r\n   <g id=\"patch_51\">\r\n    <path clip-path=\"url(#pac375123bc)\" d=\"M 520.325533 531.560781 \r\nL 529.6047 531.560781 \r\nL 529.6047 531.560781 \r\nL 520.325533 531.560781 \r\nz\r\n\" style=\"fill:#4c72b0;opacity:0.4;\"/>\r\n   </g>\r\n   <g id=\"patch_52\">\r\n    <path clip-path=\"url(#pac375123bc)\" d=\"M 529.6047 531.560781 \r\nL 538.883868 531.560781 \r\nL 538.883868 531.440591 \r\nL 529.6047 531.440591 \r\nz\r\n\" style=\"fill:#4c72b0;opacity:0.4;\"/>\r\n   </g>\r\n   <g id=\"line2d_21\">\r\n    <path clip-path=\"url(#pac375123bc)\" d=\"M 58.501278 531.538317 \r\nL 63.519529 531.244549 \r\nL 68.53778 529.248748 \r\nL 73.55603 520.87912 \r\nL 78.574281 494.954778 \r\nL 83.592532 444.190894 \r\nL 88.610783 397.805613 \r\nL 93.629033 391.368548 \r\nL 98.647284 414.320875 \r\nL 103.665535 440.988652 \r\nL 108.683785 459.836941 \r\nL 113.702036 472.754748 \r\nL 118.720287 484.394622 \r\nL 123.738537 494.337467 \r\nL 128.756788 499.849717 \r\nL 133.775039 501.738893 \r\nL 138.793289 502.586113 \r\nL 143.81154 502.416717 \r\nL 148.829791 500.875469 \r\nL 153.848041 503.520434 \r\nL 158.866292 513.44497 \r\nL 163.884543 522.672684 \r\nL 168.902794 526.781765 \r\nL 173.921044 528.245056 \r\nL 178.939295 529.112512 \r\nL 183.957546 529.775079 \r\nL 188.975796 529.94111 \r\nL 193.994047 529.855513 \r\nL 199.012298 530.023834 \r\nL 204.030548 530.413208 \r\nL 209.048799 530.54634 \r\nL 214.06705 530.300865 \r\nL 219.0853 530.152774 \r\nL 224.103551 530.333497 \r\nL 229.121802 530.625282 \r\nL 234.140053 530.66002 \r\nL 239.158303 530.513335 \r\nL 244.176554 530.714155 \r\nL 249.194805 531.118234 \r\nL 254.213055 531.285561 \r\nL 259.231306 531.206831 \r\nL 264.249557 531.093081 \r\nL 269.267807 531.151203 \r\nL 274.286058 531.32938 \r\nL 279.304309 531.402319 \r\nL 284.322559 531.381165 \r\nL 289.34081 531.361594 \r\nL 294.359061 531.254189 \r\nL 299.377311 531.082356 \r\nL 304.395562 531.085157 \r\nL 309.413813 531.255926 \r\nL 314.432064 531.397849 \r\nL 319.450314 531.454385 \r\nL 324.468565 531.498106 \r\nL 329.486816 531.541422 \r\nL 334.505066 531.558114 \r\nL 339.523317 531.560622 \r\nL 344.541568 531.560777 \r\nL 349.559818 531.560775 \r\nL 354.578069 531.560542 \r\nL 359.59632 531.556478 \r\nL 364.61457 531.52732 \r\nL 369.632821 531.447809 \r\nL 374.651072 531.389322 \r\nL 379.669322 531.417248 \r\nL 384.687573 531.442421 \r\nL 389.705824 531.44394 \r\nL 394.724075 531.456275 \r\nL 399.742325 531.498636 \r\nL 404.760576 531.542261 \r\nL 409.778827 531.558309 \r\nL 414.797077 531.560638 \r\nL 419.815328 531.560778 \r\nL 424.833579 531.560781 \r\nL 429.851829 531.560781 \r\nL 434.87008 531.560781 \r\nL 439.888331 531.560781 \r\nL 444.906581 531.560781 \r\nL 449.924832 531.560781 \r\nL 454.943083 531.560765 \r\nL 459.961334 531.560319 \r\nL 464.979584 531.554999 \r\nL 469.997835 531.529534 \r\nL 475.016086 531.487883 \r\nL 480.034336 531.487362 \r\nL 485.052587 531.528859 \r\nL 490.070838 531.554789 \r\nL 495.089088 531.560296 \r\nL 500.107339 531.560764 \r\nL 505.12559 531.560781 \r\nL 510.14384 531.560781 \r\nL 515.162091 531.560774 \r\nL 520.180342 531.560544 \r\nL 525.198592 531.557206 \r\nL 530.216843 531.537566 \r\nL 535.235094 531.495702 \r\nL 540.253345 531.482023 \r\nL 545.271595 531.519635 \r\nL 550.289846 531.551501 \r\nL 555.308097 531.559878 \r\n\" style=\"fill:none;stroke:#4c72b0;stroke-linecap:round;stroke-width:1.75;\"/>\r\n   </g>\r\n   <g id=\"patch_53\">\r\n    <path d=\"M 33.660938 531.560781 \r\nL 33.660938 21.207656 \r\n\" style=\"fill:none;\"/>\r\n   </g>\r\n   <g id=\"patch_54\">\r\n    <path d=\"M 33.660938 531.560781 \r\nL 580.148438 531.560781 \r\n\" style=\"fill:none;\"/>\r\n   </g>\r\n   <g id=\"text_12\">\r\n    <!-- Type of the message = ham -->\r\n    <defs>\r\n     <path d=\"M 25.921875 0 \r\nL 25.921875 63.140625 \r\nL 2.34375 63.140625 \r\nL 2.34375 71.578125 \r\nL 59.078125 71.578125 \r\nL 59.078125 63.140625 \r\nL 35.40625 63.140625 \r\nL 35.40625 0 \r\nz\r\n\" id=\"ArialMT-84\"/>\r\n     <path d=\"M 6.203125 -19.96875 \r\nL 5.21875 -11.71875 \r\nQ 8.109375 -12.5 10.25 -12.5 \r\nQ 13.1875 -12.5 14.9375 -11.515625 \r\nQ 16.703125 -10.546875 17.828125 -8.796875 \r\nQ 18.65625 -7.46875 20.515625 -2.25 \r\nQ 20.75 -1.515625 21.296875 -0.09375 \r\nL 1.609375 51.859375 \r\nL 11.078125 51.859375 \r\nL 21.875 21.828125 \r\nQ 23.96875 16.109375 25.640625 9.8125 \r\nQ 27.15625 15.875 29.25 21.625 \r\nL 40.328125 51.859375 \r\nL 49.125 51.859375 \r\nL 29.390625 -0.875 \r\nQ 26.21875 -9.421875 24.46875 -12.640625 \r\nQ 22.125 -17 19.09375 -19.015625 \r\nQ 16.0625 -21.046875 11.859375 -21.046875 \r\nQ 9.328125 -21.046875 6.203125 -19.96875 \r\nz\r\n\" id=\"ArialMT-121\"/>\r\n     <path d=\"M 6.59375 -19.875 \r\nL 6.59375 51.859375 \r\nL 14.59375 51.859375 \r\nL 14.59375 45.125 \r\nQ 17.4375 49.078125 21 51.046875 \r\nQ 24.5625 53.03125 29.640625 53.03125 \r\nQ 36.28125 53.03125 41.359375 49.609375 \r\nQ 46.4375 46.1875 49.015625 39.953125 \r\nQ 51.609375 33.734375 51.609375 26.3125 \r\nQ 51.609375 18.359375 48.75 11.984375 \r\nQ 45.90625 5.609375 40.453125 2.21875 \r\nQ 35.015625 -1.171875 29 -1.171875 \r\nQ 24.609375 -1.171875 21.109375 0.6875 \r\nQ 17.625 2.546875 15.375 5.375 \r\nL 15.375 -19.875 \r\nz\r\nM 14.546875 25.640625 \r\nQ 14.546875 15.625 18.59375 10.84375 \r\nQ 22.65625 6.0625 28.421875 6.0625 \r\nQ 34.28125 6.0625 38.453125 11.015625 \r\nQ 42.625 15.96875 42.625 26.375 \r\nQ 42.625 36.28125 38.546875 41.203125 \r\nQ 34.46875 46.140625 28.8125 46.140625 \r\nQ 23.1875 46.140625 18.859375 40.890625 \r\nQ 14.546875 35.640625 14.546875 25.640625 \r\nz\r\n\" id=\"ArialMT-112\"/>\r\n     <path id=\"ArialMT-32\"/>\r\n     <path d=\"M 3.328125 25.921875 \r\nQ 3.328125 40.328125 11.328125 47.265625 \r\nQ 18.015625 53.03125 27.640625 53.03125 \r\nQ 38.328125 53.03125 45.109375 46.015625 \r\nQ 51.90625 39.015625 51.90625 26.65625 \r\nQ 51.90625 16.65625 48.90625 10.90625 \r\nQ 45.90625 5.171875 40.15625 2 \r\nQ 34.421875 -1.171875 27.640625 -1.171875 \r\nQ 16.75 -1.171875 10.03125 5.8125 \r\nQ 3.328125 12.796875 3.328125 25.921875 \r\nz\r\nM 12.359375 25.921875 \r\nQ 12.359375 15.96875 16.703125 11.015625 \r\nQ 21.046875 6.0625 27.640625 6.0625 \r\nQ 34.1875 6.0625 38.53125 11.03125 \r\nQ 42.875 16.015625 42.875 26.21875 \r\nQ 42.875 35.84375 38.5 40.796875 \r\nQ 34.125 45.75 27.640625 45.75 \r\nQ 21.046875 45.75 16.703125 40.8125 \r\nQ 12.359375 35.890625 12.359375 25.921875 \r\nz\r\n\" id=\"ArialMT-111\"/>\r\n     <path d=\"M 8.6875 0 \r\nL 8.6875 45.015625 \r\nL 0.921875 45.015625 \r\nL 0.921875 51.859375 \r\nL 8.6875 51.859375 \r\nL 8.6875 57.375 \r\nQ 8.6875 62.59375 9.625 65.140625 \r\nQ 10.890625 68.5625 14.078125 70.671875 \r\nQ 17.28125 72.796875 23.046875 72.796875 \r\nQ 26.765625 72.796875 31.25 71.921875 \r\nL 29.9375 64.265625 \r\nQ 27.203125 64.75 24.75 64.75 \r\nQ 20.75 64.75 19.09375 63.03125 \r\nQ 17.4375 61.328125 17.4375 56.640625 \r\nL 17.4375 51.859375 \r\nL 27.546875 51.859375 \r\nL 27.546875 45.015625 \r\nL 17.4375 45.015625 \r\nL 17.4375 0 \r\nz\r\n\" id=\"ArialMT-102\"/>\r\n     <path d=\"M 25.78125 7.859375 \r\nL 27.046875 0.09375 \r\nQ 23.34375 -0.6875 20.40625 -0.6875 \r\nQ 15.625 -0.6875 12.984375 0.828125 \r\nQ 10.359375 2.34375 9.28125 4.8125 \r\nQ 8.203125 7.28125 8.203125 15.1875 \r\nL 8.203125 45.015625 \r\nL 1.765625 45.015625 \r\nL 1.765625 51.859375 \r\nL 8.203125 51.859375 \r\nL 8.203125 64.703125 \r\nL 16.9375 69.96875 \r\nL 16.9375 51.859375 \r\nL 25.78125 51.859375 \r\nL 25.78125 45.015625 \r\nL 16.9375 45.015625 \r\nL 16.9375 14.703125 \r\nQ 16.9375 10.9375 17.40625 9.859375 \r\nQ 17.875 8.796875 18.921875 8.15625 \r\nQ 19.96875 7.515625 21.921875 7.515625 \r\nQ 23.390625 7.515625 25.78125 7.859375 \r\nz\r\n\" id=\"ArialMT-116\"/>\r\n     <path d=\"M 6.59375 0 \r\nL 6.59375 71.578125 \r\nL 15.375 71.578125 \r\nL 15.375 45.90625 \r\nQ 21.53125 53.03125 30.90625 53.03125 \r\nQ 36.671875 53.03125 40.921875 50.75 \r\nQ 45.171875 48.484375 47 44.484375 \r\nQ 48.828125 40.484375 48.828125 32.859375 \r\nL 48.828125 0 \r\nL 40.046875 0 \r\nL 40.046875 32.859375 \r\nQ 40.046875 39.453125 37.1875 42.453125 \r\nQ 34.328125 45.453125 29.109375 45.453125 \r\nQ 25.203125 45.453125 21.75 43.421875 \r\nQ 18.3125 41.40625 16.84375 37.9375 \r\nQ 15.375 34.46875 15.375 28.375 \r\nL 15.375 0 \r\nz\r\n\" id=\"ArialMT-104\"/>\r\n     <path d=\"M 6.59375 0 \r\nL 6.59375 51.859375 \r\nL 14.453125 51.859375 \r\nL 14.453125 44.578125 \r\nQ 16.890625 48.390625 20.9375 50.703125 \r\nQ 25 53.03125 30.171875 53.03125 \r\nQ 35.9375 53.03125 39.625 50.640625 \r\nQ 43.3125 48.25 44.828125 43.953125 \r\nQ 50.984375 53.03125 60.84375 53.03125 \r\nQ 68.5625 53.03125 72.703125 48.75 \r\nQ 76.859375 44.484375 76.859375 35.59375 \r\nL 76.859375 0 \r\nL 68.109375 0 \r\nL 68.109375 32.671875 \r\nQ 68.109375 37.9375 67.25 40.25 \r\nQ 66.40625 42.578125 64.15625 43.984375 \r\nQ 61.921875 45.40625 58.890625 45.40625 \r\nQ 53.421875 45.40625 49.796875 41.765625 \r\nQ 46.1875 38.140625 46.1875 30.125 \r\nL 46.1875 0 \r\nL 37.40625 0 \r\nL 37.40625 33.6875 \r\nQ 37.40625 39.546875 35.25 42.46875 \r\nQ 33.109375 45.40625 28.21875 45.40625 \r\nQ 24.515625 45.40625 21.359375 43.453125 \r\nQ 18.21875 41.5 16.796875 37.734375 \r\nQ 15.375 33.984375 15.375 26.90625 \r\nL 15.375 0 \r\nz\r\n\" id=\"ArialMT-109\"/>\r\n     <path d=\"M 3.078125 15.484375 \r\nL 11.765625 16.84375 \r\nQ 12.5 11.625 15.84375 8.84375 \r\nQ 19.1875 6.0625 25.203125 6.0625 \r\nQ 31.25 6.0625 34.171875 8.515625 \r\nQ 37.109375 10.984375 37.109375 14.3125 \r\nQ 37.109375 17.28125 34.515625 19 \r\nQ 32.71875 20.171875 25.53125 21.96875 \r\nQ 15.875 24.421875 12.140625 26.203125 \r\nQ 8.40625 27.984375 6.46875 31.125 \r\nQ 4.546875 34.28125 4.546875 38.09375 \r\nQ 4.546875 41.546875 6.125 44.5 \r\nQ 7.71875 47.46875 10.453125 49.421875 \r\nQ 12.5 50.921875 16.03125 51.96875 \r\nQ 19.578125 53.03125 23.640625 53.03125 \r\nQ 29.734375 53.03125 34.34375 51.265625 \r\nQ 38.96875 49.515625 41.15625 46.5 \r\nQ 43.359375 43.5 44.1875 38.484375 \r\nL 35.59375 37.3125 \r\nQ 35.015625 41.3125 32.203125 43.546875 \r\nQ 29.390625 45.796875 24.265625 45.796875 \r\nQ 18.21875 45.796875 15.625 43.796875 \r\nQ 13.03125 41.796875 13.03125 39.109375 \r\nQ 13.03125 37.40625 14.109375 36.03125 \r\nQ 15.1875 34.625 17.484375 33.6875 \r\nQ 18.796875 33.203125 25.25 31.453125 \r\nQ 34.578125 28.953125 38.25 27.359375 \r\nQ 41.9375 25.78125 44.03125 22.75 \r\nQ 46.140625 19.734375 46.140625 15.234375 \r\nQ 46.140625 10.84375 43.578125 6.953125 \r\nQ 41.015625 3.078125 36.171875 0.953125 \r\nQ 31.34375 -1.171875 25.25 -1.171875 \r\nQ 15.140625 -1.171875 9.84375 3.03125 \r\nQ 4.546875 7.234375 3.078125 15.484375 \r\nz\r\n\" id=\"ArialMT-115\"/>\r\n     <path d=\"M 40.4375 6.390625 \r\nQ 35.546875 2.25 31.03125 0.53125 \r\nQ 26.515625 -1.171875 21.34375 -1.171875 \r\nQ 12.796875 -1.171875 8.203125 3 \r\nQ 3.609375 7.171875 3.609375 13.671875 \r\nQ 3.609375 17.484375 5.34375 20.625 \r\nQ 7.078125 23.78125 9.890625 25.6875 \r\nQ 12.703125 27.59375 16.21875 28.5625 \r\nQ 18.796875 29.25 24.03125 29.890625 \r\nQ 34.671875 31.15625 39.703125 32.90625 \r\nQ 39.75 34.71875 39.75 35.203125 \r\nQ 39.75 40.578125 37.25 42.78125 \r\nQ 33.890625 45.75 27.25 45.75 \r\nQ 21.046875 45.75 18.09375 43.578125 \r\nQ 15.140625 41.40625 13.71875 35.890625 \r\nL 5.125 37.0625 \r\nQ 6.296875 42.578125 8.984375 45.96875 \r\nQ 11.671875 49.359375 16.75 51.1875 \r\nQ 21.828125 53.03125 28.515625 53.03125 \r\nQ 35.15625 53.03125 39.296875 51.46875 \r\nQ 43.453125 49.90625 45.40625 47.53125 \r\nQ 47.359375 45.171875 48.140625 41.546875 \r\nQ 48.578125 39.3125 48.578125 33.453125 \r\nL 48.578125 21.734375 \r\nQ 48.578125 9.46875 49.140625 6.21875 \r\nQ 49.703125 2.984375 51.375 0 \r\nL 42.1875 0 \r\nQ 40.828125 2.734375 40.4375 6.390625 \r\nz\r\nM 39.703125 26.03125 \r\nQ 34.90625 24.078125 25.34375 22.703125 \r\nQ 19.921875 21.921875 17.671875 20.9375 \r\nQ 15.4375 19.96875 14.203125 18.09375 \r\nQ 12.984375 16.21875 12.984375 13.921875 \r\nQ 12.984375 10.40625 15.640625 8.0625 \r\nQ 18.3125 5.71875 23.4375 5.71875 \r\nQ 28.515625 5.71875 32.46875 7.9375 \r\nQ 36.421875 10.15625 38.28125 14.015625 \r\nQ 39.703125 17 39.703125 22.796875 \r\nz\r\n\" id=\"ArialMT-97\"/>\r\n     <path d=\"M 4.984375 -4.296875 \r\nL 13.53125 -5.5625 \r\nQ 14.0625 -9.515625 16.5 -11.328125 \r\nQ 19.78125 -13.765625 25.4375 -13.765625 \r\nQ 31.546875 -13.765625 34.859375 -11.328125 \r\nQ 38.1875 -8.890625 39.359375 -4.5 \r\nQ 40.046875 -1.8125 39.984375 6.78125 \r\nQ 34.234375 0 25.640625 0 \r\nQ 14.9375 0 9.078125 7.71875 \r\nQ 3.21875 15.4375 3.21875 26.21875 \r\nQ 3.21875 33.640625 5.90625 39.90625 \r\nQ 8.59375 46.1875 13.6875 49.609375 \r\nQ 18.796875 53.03125 25.6875 53.03125 \r\nQ 34.859375 53.03125 40.828125 45.609375 \r\nL 40.828125 51.859375 \r\nL 48.921875 51.859375 \r\nL 48.921875 7.03125 \r\nQ 48.921875 -5.078125 46.453125 -10.125 \r\nQ 44 -15.1875 38.640625 -18.109375 \r\nQ 33.296875 -21.046875 25.484375 -21.046875 \r\nQ 16.21875 -21.046875 10.5 -16.875 \r\nQ 4.78125 -12.703125 4.984375 -4.296875 \r\nz\r\nM 12.25 26.859375 \r\nQ 12.25 16.65625 16.296875 11.96875 \r\nQ 20.359375 7.28125 26.46875 7.28125 \r\nQ 32.515625 7.28125 36.609375 11.9375 \r\nQ 40.71875 16.609375 40.71875 26.5625 \r\nQ 40.71875 36.078125 36.5 40.90625 \r\nQ 32.28125 45.75 26.3125 45.75 \r\nQ 20.453125 45.75 16.34375 40.984375 \r\nQ 12.25 36.234375 12.25 26.859375 \r\nz\r\n\" id=\"ArialMT-103\"/>\r\n     <path d=\"M 52.828125 42.09375 \r\nL 5.5625 42.09375 \r\nL 5.5625 50.296875 \r\nL 52.828125 50.296875 \r\nz\r\nM 52.828125 20.359375 \r\nL 5.5625 20.359375 \r\nL 5.5625 28.5625 \r\nL 52.828125 28.5625 \r\nz\r\n\" id=\"ArialMT-61\"/>\r\n    </defs>\r\n    <g style=\"fill:#262626;\" transform=\"translate(238.883438 15.207656)scale(0.11 -0.11)\">\r\n     <use xlink:href=\"#ArialMT-84\"/>\r\n     <use x=\"55.583984\" xlink:href=\"#ArialMT-121\"/>\r\n     <use x=\"105.583984\" xlink:href=\"#ArialMT-112\"/>\r\n     <use x=\"161.199219\" xlink:href=\"#ArialMT-101\"/>\r\n     <use x=\"216.814453\" xlink:href=\"#ArialMT-32\"/>\r\n     <use x=\"244.597656\" xlink:href=\"#ArialMT-111\"/>\r\n     <use x=\"300.212891\" xlink:href=\"#ArialMT-102\"/>\r\n     <use x=\"327.996094\" xlink:href=\"#ArialMT-32\"/>\r\n     <use x=\"355.779297\" xlink:href=\"#ArialMT-116\"/>\r\n     <use x=\"383.5625\" xlink:href=\"#ArialMT-104\"/>\r\n     <use x=\"439.177734\" xlink:href=\"#ArialMT-101\"/>\r\n     <use x=\"494.792969\" xlink:href=\"#ArialMT-32\"/>\r\n     <use x=\"522.576172\" xlink:href=\"#ArialMT-109\"/>\r\n     <use x=\"605.876953\" xlink:href=\"#ArialMT-101\"/>\r\n     <use x=\"661.492188\" xlink:href=\"#ArialMT-115\"/>\r\n     <use x=\"711.492188\" xlink:href=\"#ArialMT-115\"/>\r\n     <use x=\"761.492188\" xlink:href=\"#ArialMT-97\"/>\r\n     <use x=\"817.107422\" xlink:href=\"#ArialMT-103\"/>\r\n     <use x=\"872.722656\" xlink:href=\"#ArialMT-101\"/>\r\n     <use x=\"928.337891\" xlink:href=\"#ArialMT-32\"/>\r\n     <use x=\"956.121094\" xlink:href=\"#ArialMT-61\"/>\r\n     <use x=\"1014.519531\" xlink:href=\"#ArialMT-32\"/>\r\n     <use x=\"1042.302734\" xlink:href=\"#ArialMT-104\"/>\r\n     <use x=\"1097.917969\" xlink:href=\"#ArialMT-97\"/>\r\n     <use x=\"1153.533203\" xlink:href=\"#ArialMT-109\"/>\r\n    </g>\r\n   </g>\r\n  </g>\r\n  <g id=\"axes_2\">\r\n   <g id=\"patch_55\">\r\n    <path d=\"M 590.948437 531.560781 \r\nL 1137.435938 531.560781 \r\nL 1137.435938 21.207656 \r\nL 590.948437 21.207656 \r\nz\r\n\" style=\"fill:#eaeaf2;\"/>\r\n   </g>\r\n   <g id=\"matplotlib.axis_3\">\r\n    <g id=\"xtick_6\">\r\n     <g id=\"line2d_22\">\r\n      <path clip-path=\"url(#p7c4ec1e8a5)\" d=\"M 631.191073 531.560781 \r\nL 631.191073 21.207656 \r\n\" style=\"fill:none;stroke:#ffffff;stroke-linecap:round;\"/>\r\n     </g>\r\n     <g id=\"line2d_23\"/>\r\n     <g id=\"text_13\">\r\n      <!-- 0 -->\r\n      <g style=\"fill:#262626;\" transform=\"translate(628.410604 545.718594)scale(0.1 -0.1)\">\r\n       <use xlink:href=\"#ArialMT-48\"/>\r\n      </g>\r\n     </g>\r\n    </g>\r\n    <g id=\"xtick_7\">\r\n     <g id=\"line2d_24\">\r\n      <path clip-path=\"url(#p7c4ec1e8a5)\" d=\"M 733.384544 531.560781 \r\nL 733.384544 21.207656 \r\n\" style=\"fill:none;stroke:#ffffff;stroke-linecap:round;\"/>\r\n     </g>\r\n     <g id=\"line2d_25\"/>\r\n     <g id=\"text_14\">\r\n      <!-- 200 -->\r\n      <g style=\"fill:#262626;\" transform=\"translate(725.043138 545.718594)scale(0.1 -0.1)\">\r\n       <use xlink:href=\"#ArialMT-50\"/>\r\n       <use x=\"55.615234\" xlink:href=\"#ArialMT-48\"/>\r\n       <use x=\"111.230469\" xlink:href=\"#ArialMT-48\"/>\r\n      </g>\r\n     </g>\r\n    </g>\r\n    <g id=\"xtick_8\">\r\n     <g id=\"line2d_26\">\r\n      <path clip-path=\"url(#p7c4ec1e8a5)\" d=\"M 835.578016 531.560781 \r\nL 835.578016 21.207656 \r\n\" style=\"fill:none;stroke:#ffffff;stroke-linecap:round;\"/>\r\n     </g>\r\n     <g id=\"line2d_27\"/>\r\n     <g id=\"text_15\">\r\n      <!-- 400 -->\r\n      <g style=\"fill:#262626;\" transform=\"translate(827.236609 545.718594)scale(0.1 -0.1)\">\r\n       <use xlink:href=\"#ArialMT-52\"/>\r\n       <use x=\"55.615234\" xlink:href=\"#ArialMT-48\"/>\r\n       <use x=\"111.230469\" xlink:href=\"#ArialMT-48\"/>\r\n      </g>\r\n     </g>\r\n    </g>\r\n    <g id=\"xtick_9\">\r\n     <g id=\"line2d_28\">\r\n      <path clip-path=\"url(#p7c4ec1e8a5)\" d=\"M 937.771487 531.560781 \r\nL 937.771487 21.207656 \r\n\" style=\"fill:none;stroke:#ffffff;stroke-linecap:round;\"/>\r\n     </g>\r\n     <g id=\"line2d_29\"/>\r\n     <g id=\"text_16\">\r\n      <!-- 600 -->\r\n      <g style=\"fill:#262626;\" transform=\"translate(929.430081 545.718594)scale(0.1 -0.1)\">\r\n       <use xlink:href=\"#ArialMT-54\"/>\r\n       <use x=\"55.615234\" xlink:href=\"#ArialMT-48\"/>\r\n       <use x=\"111.230469\" xlink:href=\"#ArialMT-48\"/>\r\n      </g>\r\n     </g>\r\n    </g>\r\n    <g id=\"xtick_10\">\r\n     <g id=\"line2d_30\">\r\n      <path clip-path=\"url(#p7c4ec1e8a5)\" d=\"M 1039.964958 531.560781 \r\nL 1039.964958 21.207656 \r\n\" style=\"fill:none;stroke:#ffffff;stroke-linecap:round;\"/>\r\n     </g>\r\n     <g id=\"line2d_31\"/>\r\n     <g id=\"text_17\">\r\n      <!-- 800 -->\r\n      <g style=\"fill:#262626;\" transform=\"translate(1031.623552 545.718594)scale(0.1 -0.1)\">\r\n       <use xlink:href=\"#ArialMT-56\"/>\r\n       <use x=\"55.615234\" xlink:href=\"#ArialMT-48\"/>\r\n       <use x=\"111.230469\" xlink:href=\"#ArialMT-48\"/>\r\n      </g>\r\n     </g>\r\n    </g>\r\n    <g id=\"text_18\">\r\n     <!-- len -->\r\n     <g style=\"fill:#262626;\" transform=\"translate(856.853125 559.579687)scale(0.11 -0.11)\">\r\n      <use xlink:href=\"#ArialMT-108\"/>\r\n      <use x=\"22.216797\" xlink:href=\"#ArialMT-101\"/>\r\n      <use x=\"77.832031\" xlink:href=\"#ArialMT-110\"/>\r\n     </g>\r\n    </g>\r\n   </g>\r\n   <g id=\"matplotlib.axis_4\">\r\n    <g id=\"ytick_6\">\r\n     <g id=\"line2d_32\">\r\n      <path clip-path=\"url(#p7c4ec1e8a5)\" d=\"M 590.948437 531.560781 \r\nL 1137.435938 531.560781 \r\n\" style=\"fill:none;stroke:#ffffff;stroke-linecap:round;\"/>\r\n     </g>\r\n     <g id=\"line2d_33\"/>\r\n    </g>\r\n    <g id=\"ytick_7\">\r\n     <g id=\"line2d_34\">\r\n      <path clip-path=\"url(#p7c4ec1e8a5)\" d=\"M 590.948437 426.247581 \r\nL 1137.435938 426.247581 \r\n\" style=\"fill:none;stroke:#ffffff;stroke-linecap:round;\"/>\r\n     </g>\r\n     <g id=\"line2d_35\"/>\r\n    </g>\r\n    <g id=\"ytick_8\">\r\n     <g id=\"line2d_36\">\r\n      <path clip-path=\"url(#p7c4ec1e8a5)\" d=\"M 590.948437 320.934381 \r\nL 1137.435938 320.934381 \r\n\" style=\"fill:none;stroke:#ffffff;stroke-linecap:round;\"/>\r\n     </g>\r\n     <g id=\"line2d_37\"/>\r\n    </g>\r\n    <g id=\"ytick_9\">\r\n     <g id=\"line2d_38\">\r\n      <path clip-path=\"url(#p7c4ec1e8a5)\" d=\"M 590.948437 215.621181 \r\nL 1137.435938 215.621181 \r\n\" style=\"fill:none;stroke:#ffffff;stroke-linecap:round;\"/>\r\n     </g>\r\n     <g id=\"line2d_39\"/>\r\n    </g>\r\n    <g id=\"ytick_10\">\r\n     <g id=\"line2d_40\">\r\n      <path clip-path=\"url(#p7c4ec1e8a5)\" d=\"M 590.948437 110.307981 \r\nL 1137.435938 110.307981 \r\n\" style=\"fill:none;stroke:#ffffff;stroke-linecap:round;\"/>\r\n     </g>\r\n     <g id=\"line2d_41\"/>\r\n    </g>\r\n   </g>\r\n   <g id=\"patch_56\">\r\n    <path clip-path=\"url(#p7c4ec1e8a5)\" d=\"M 637.833648 531.560781 \r\nL 640.516227 531.560781 \r\nL 640.516227 526.190056 \r\nL 637.833648 526.190056 \r\nz\r\n\" style=\"fill:#4c72b0;opacity:0.4;\"/>\r\n   </g>\r\n   <g id=\"patch_57\">\r\n    <path clip-path=\"url(#p7c4ec1e8a5)\" d=\"M 640.516227 531.560781 \r\nL 643.198806 531.560781 \r\nL 643.198806 531.560781 \r\nL 640.516227 531.560781 \r\nz\r\n\" style=\"fill:#4c72b0;opacity:0.4;\"/>\r\n   </g>\r\n   <g id=\"patch_58\">\r\n    <path clip-path=\"url(#p7c4ec1e8a5)\" d=\"M 643.198806 531.560781 \r\nL 645.881384 531.560781 \r\nL 645.881384 528.875419 \r\nL 643.198806 528.875419 \r\nz\r\n\" style=\"fill:#4c72b0;opacity:0.4;\"/>\r\n   </g>\r\n   <g id=\"patch_59\">\r\n    <path clip-path=\"url(#p7c4ec1e8a5)\" d=\"M 645.881384 531.560781 \r\nL 648.563963 531.560781 \r\nL 648.563963 520.819332 \r\nL 645.881384 520.819332 \r\nz\r\n\" style=\"fill:#4c72b0;opacity:0.4;\"/>\r\n   </g>\r\n   <g id=\"patch_60\">\r\n    <path clip-path=\"url(#p7c4ec1e8a5)\" d=\"M 648.563963 531.560781 \r\nL 651.246542 531.560781 \r\nL 651.246542 528.875419 \r\nL 648.563963 528.875419 \r\nz\r\n\" style=\"fill:#4c72b0;opacity:0.4;\"/>\r\n   </g>\r\n   <g id=\"patch_61\">\r\n    <path clip-path=\"url(#p7c4ec1e8a5)\" d=\"M 651.246542 531.560781 \r\nL 653.92912 531.560781 \r\nL 653.92912 520.819332 \r\nL 651.246542 520.819332 \r\nz\r\n\" style=\"fill:#4c72b0;opacity:0.4;\"/>\r\n   </g>\r\n   <g id=\"patch_62\">\r\n    <path clip-path=\"url(#p7c4ec1e8a5)\" d=\"M 653.92912 531.560781 \r\nL 656.611699 531.560781 \r\nL 656.611699 512.763244 \r\nL 653.92912 512.763244 \r\nz\r\n\" style=\"fill:#4c72b0;opacity:0.4;\"/>\r\n   </g>\r\n   <g id=\"patch_63\">\r\n    <path clip-path=\"url(#p7c4ec1e8a5)\" d=\"M 656.611699 531.560781 \r\nL 659.294277 531.560781 \r\nL 659.294277 520.819332 \r\nL 656.611699 520.819332 \r\nz\r\n\" style=\"fill:#4c72b0;opacity:0.4;\"/>\r\n   </g>\r\n   <g id=\"patch_64\">\r\n    <path clip-path=\"url(#p7c4ec1e8a5)\" d=\"M 659.294277 531.560781 \r\nL 661.976856 531.560781 \r\nL 661.976856 528.875419 \r\nL 659.294277 528.875419 \r\nz\r\n\" style=\"fill:#4c72b0;opacity:0.4;\"/>\r\n   </g>\r\n   <g id=\"patch_65\">\r\n    <path clip-path=\"url(#p7c4ec1e8a5)\" d=\"M 661.976856 531.560781 \r\nL 664.659435 531.560781 \r\nL 664.659435 520.819332 \r\nL 661.976856 520.819332 \r\nz\r\n\" style=\"fill:#4c72b0;opacity:0.4;\"/>\r\n   </g>\r\n   <g id=\"patch_66\">\r\n    <path clip-path=\"url(#p7c4ec1e8a5)\" d=\"M 664.659435 531.560781 \r\nL 667.342013 531.560781 \r\nL 667.342013 512.763244 \r\nL 664.659435 512.763244 \r\nz\r\n\" style=\"fill:#4c72b0;opacity:0.4;\"/>\r\n   </g>\r\n   <g id=\"patch_67\">\r\n    <path clip-path=\"url(#p7c4ec1e8a5)\" d=\"M 667.342013 531.560781 \r\nL 670.024592 531.560781 \r\nL 670.024592 502.021795 \r\nL 667.342013 502.021795 \r\nz\r\n\" style=\"fill:#4c72b0;opacity:0.4;\"/>\r\n   </g>\r\n   <g id=\"patch_68\">\r\n    <path clip-path=\"url(#p7c4ec1e8a5)\" d=\"M 670.024592 531.560781 \r\nL 672.707171 531.560781 \r\nL 672.707171 512.763244 \r\nL 670.024592 512.763244 \r\nz\r\n\" style=\"fill:#4c72b0;opacity:0.4;\"/>\r\n   </g>\r\n   <g id=\"patch_69\">\r\n    <path clip-path=\"url(#p7c4ec1e8a5)\" d=\"M 672.707171 531.560781 \r\nL 675.389749 531.560781 \r\nL 675.389749 515.448607 \r\nL 672.707171 515.448607 \r\nz\r\n\" style=\"fill:#4c72b0;opacity:0.4;\"/>\r\n   </g>\r\n   <g id=\"patch_70\">\r\n    <path clip-path=\"url(#p7c4ec1e8a5)\" d=\"M 675.389749 531.560781 \r\nL 678.072328 531.560781 \r\nL 678.072328 518.133969 \r\nL 675.389749 518.133969 \r\nz\r\n\" style=\"fill:#4c72b0;opacity:0.4;\"/>\r\n   </g>\r\n   <g id=\"patch_71\">\r\n    <path clip-path=\"url(#p7c4ec1e8a5)\" d=\"M 678.072328 531.560781 \r\nL 680.754906 531.560781 \r\nL 680.754906 515.448607 \r\nL 678.072328 515.448607 \r\nz\r\n\" style=\"fill:#4c72b0;opacity:0.4;\"/>\r\n   </g>\r\n   <g id=\"patch_72\">\r\n    <path clip-path=\"url(#p7c4ec1e8a5)\" d=\"M 680.754906 531.560781 \r\nL 683.437485 531.560781 \r\nL 683.437485 493.965708 \r\nL 680.754906 493.965708 \r\nz\r\n\" style=\"fill:#4c72b0;opacity:0.4;\"/>\r\n   </g>\r\n   <g id=\"patch_73\">\r\n    <path clip-path=\"url(#p7c4ec1e8a5)\" d=\"M 683.437485 531.560781 \r\nL 686.120064 531.560781 \r\nL 686.120064 493.965708 \r\nL 683.437485 493.965708 \r\nz\r\n\" style=\"fill:#4c72b0;opacity:0.4;\"/>\r\n   </g>\r\n   <g id=\"patch_74\">\r\n    <path clip-path=\"url(#p7c4ec1e8a5)\" d=\"M 686.120064 531.560781 \r\nL 688.802642 531.560781 \r\nL 688.802642 491.280345 \r\nL 686.120064 491.280345 \r\nz\r\n\" style=\"fill:#4c72b0;opacity:0.4;\"/>\r\n   </g>\r\n   <g id=\"patch_75\">\r\n    <path clip-path=\"url(#p7c4ec1e8a5)\" d=\"M 688.802642 531.560781 \r\nL 691.485221 531.560781 \r\nL 691.485221 502.021795 \r\nL 688.802642 502.021795 \r\nz\r\n\" style=\"fill:#4c72b0;opacity:0.4;\"/>\r\n   </g>\r\n   <g id=\"patch_76\">\r\n    <path clip-path=\"url(#p7c4ec1e8a5)\" d=\"M 691.485221 531.560781 \r\nL 694.1678 531.560781 \r\nL 694.1678 469.797446 \r\nL 691.485221 469.797446 \r\nz\r\n\" style=\"fill:#4c72b0;opacity:0.4;\"/>\r\n   </g>\r\n   <g id=\"patch_77\">\r\n    <path clip-path=\"url(#p7c4ec1e8a5)\" d=\"M 694.1678 531.560781 \r\nL 696.850378 531.560781 \r\nL 696.850378 488.594983 \r\nL 694.1678 488.594983 \r\nz\r\n\" style=\"fill:#4c72b0;opacity:0.4;\"/>\r\n   </g>\r\n   <g id=\"patch_78\">\r\n    <path clip-path=\"url(#p7c4ec1e8a5)\" d=\"M 696.850378 531.560781 \r\nL 699.532957 531.560781 \r\nL 699.532957 453.685272 \r\nL 696.850378 453.685272 \r\nz\r\n\" style=\"fill:#4c72b0;opacity:0.4;\"/>\r\n   </g>\r\n   <g id=\"patch_79\">\r\n    <path clip-path=\"url(#p7c4ec1e8a5)\" d=\"M 699.532957 531.560781 \r\nL 702.215535 531.560781 \r\nL 702.215535 389.236574 \r\nL 699.532957 389.236574 \r\nz\r\n\" style=\"fill:#4c72b0;opacity:0.4;\"/>\r\n   </g>\r\n   <g id=\"patch_80\">\r\n    <path clip-path=\"url(#p7c4ec1e8a5)\" d=\"M 702.215535 531.560781 \r\nL 704.898114 531.560781 \r\nL 704.898114 375.809762 \r\nL 702.215535 375.809762 \r\nz\r\n\" style=\"fill:#4c72b0;opacity:0.4;\"/>\r\n   </g>\r\n   <g id=\"patch_81\">\r\n    <path clip-path=\"url(#p7c4ec1e8a5)\" d=\"M 704.898114 531.560781 \r\nL 707.580693 531.560781 \r\nL 707.580693 314.046426 \r\nL 704.898114 314.046426 \r\nz\r\n\" style=\"fill:#4c72b0;opacity:0.4;\"/>\r\n   </g>\r\n   <g id=\"patch_82\">\r\n    <path clip-path=\"url(#p7c4ec1e8a5)\" d=\"M 707.580693 531.560781 \r\nL 710.263271 531.560781 \r\nL 710.263271 295.24889 \r\nL 707.580693 295.24889 \r\nz\r\n\" style=\"fill:#4c72b0;opacity:0.4;\"/>\r\n   </g>\r\n   <g id=\"patch_83\">\r\n    <path clip-path=\"url(#p7c4ec1e8a5)\" d=\"M 710.263271 531.560781 \r\nL 712.94585 531.560781 \r\nL 712.94585 45.510186 \r\nL 710.263271 45.510186 \r\nz\r\n\" style=\"fill:#4c72b0;opacity:0.4;\"/>\r\n   </g>\r\n   <g id=\"patch_84\">\r\n    <path clip-path=\"url(#p7c4ec1e8a5)\" d=\"M 712.94585 531.560781 \r\nL 715.628429 531.560781 \r\nL 715.628429 330.158601 \r\nL 712.94585 330.158601 \r\nz\r\n\" style=\"fill:#4c72b0;opacity:0.4;\"/>\r\n   </g>\r\n   <g id=\"patch_85\">\r\n    <path clip-path=\"url(#p7c4ec1e8a5)\" d=\"M 715.628429 531.560781 \r\nL 718.311007 531.560781 \r\nL 718.311007 512.763244 \r\nL 715.628429 512.763244 \r\nz\r\n\" style=\"fill:#4c72b0;opacity:0.4;\"/>\r\n   </g>\r\n   <g id=\"patch_86\">\r\n    <path clip-path=\"url(#p7c4ec1e8a5)\" d=\"M 718.311007 531.560781 \r\nL 720.993586 531.560781 \r\nL 720.993586 515.448607 \r\nL 718.311007 515.448607 \r\nz\r\n\" style=\"fill:#4c72b0;opacity:0.4;\"/>\r\n   </g>\r\n   <g id=\"patch_87\">\r\n    <path clip-path=\"url(#p7c4ec1e8a5)\" d=\"M 720.993586 531.560781 \r\nL 723.676164 531.560781 \r\nL 723.676164 528.875419 \r\nL 720.993586 528.875419 \r\nz\r\n\" style=\"fill:#4c72b0;opacity:0.4;\"/>\r\n   </g>\r\n   <g id=\"patch_88\">\r\n    <path clip-path=\"url(#p7c4ec1e8a5)\" d=\"M 723.676164 531.560781 \r\nL 726.358743 531.560781 \r\nL 726.358743 523.504694 \r\nL 723.676164 523.504694 \r\nz\r\n\" style=\"fill:#4c72b0;opacity:0.4;\"/>\r\n   </g>\r\n   <g id=\"patch_89\">\r\n    <path clip-path=\"url(#p7c4ec1e8a5)\" d=\"M 726.358743 531.560781 \r\nL 729.041322 531.560781 \r\nL 729.041322 531.560781 \r\nL 726.358743 531.560781 \r\nz\r\n\" style=\"fill:#4c72b0;opacity:0.4;\"/>\r\n   </g>\r\n   <g id=\"patch_90\">\r\n    <path clip-path=\"url(#p7c4ec1e8a5)\" d=\"M 729.041322 531.560781 \r\nL 731.7239 531.560781 \r\nL 731.7239 531.560781 \r\nL 729.041322 531.560781 \r\nz\r\n\" style=\"fill:#4c72b0;opacity:0.4;\"/>\r\n   </g>\r\n   <g id=\"patch_91\">\r\n    <path clip-path=\"url(#p7c4ec1e8a5)\" d=\"M 731.7239 531.560781 \r\nL 734.406479 531.560781 \r\nL 734.406479 528.875419 \r\nL 731.7239 528.875419 \r\nz\r\n\" style=\"fill:#4c72b0;opacity:0.4;\"/>\r\n   </g>\r\n   <g id=\"patch_92\">\r\n    <path clip-path=\"url(#p7c4ec1e8a5)\" d=\"M 734.406479 531.560781 \r\nL 737.089057 531.560781 \r\nL 737.089057 531.560781 \r\nL 734.406479 531.560781 \r\nz\r\n\" style=\"fill:#4c72b0;opacity:0.4;\"/>\r\n   </g>\r\n   <g id=\"patch_93\">\r\n    <path clip-path=\"url(#p7c4ec1e8a5)\" d=\"M 737.089057 531.560781 \r\nL 739.771636 531.560781 \r\nL 739.771636 531.560781 \r\nL 737.089057 531.560781 \r\nz\r\n\" style=\"fill:#4c72b0;opacity:0.4;\"/>\r\n   </g>\r\n   <g id=\"patch_94\">\r\n    <path clip-path=\"url(#p7c4ec1e8a5)\" d=\"M 739.771636 531.560781 \r\nL 742.454215 531.560781 \r\nL 742.454215 531.560781 \r\nL 739.771636 531.560781 \r\nz\r\n\" style=\"fill:#4c72b0;opacity:0.4;\"/>\r\n   </g>\r\n   <g id=\"patch_95\">\r\n    <path clip-path=\"url(#p7c4ec1e8a5)\" d=\"M 742.454215 531.560781 \r\nL 745.136793 531.560781 \r\nL 745.136793 528.875419 \r\nL 742.454215 528.875419 \r\nz\r\n\" style=\"fill:#4c72b0;opacity:0.4;\"/>\r\n   </g>\r\n   <g id=\"line2d_42\">\r\n    <path clip-path=\"url(#p7c4ec1e8a5)\" d=\"M 626.055951 531.551622 \r\nL 627.377755 531.536383 \r\nL 628.699558 531.502347 \r\nL 630.021361 531.434727 \r\nL 631.343165 531.315267 \r\nL 632.664968 531.127646 \r\nL 633.986772 530.865505 \r\nL 635.308575 530.538728 \r\nL 636.630379 530.172037 \r\nL 637.952182 529.793157 \r\nL 639.273985 529.415024 \r\nL 640.595789 529.022877 \r\nL 641.917592 528.576419 \r\nL 643.239396 528.027926 \r\nL 644.561199 527.345107 \r\nL 645.883003 526.522688 \r\nL 647.204806 525.57586 \r\nL 648.526609 524.526778 \r\nL 649.848413 523.405573 \r\nL 651.170216 522.275083 \r\nL 652.49202 521.258704 \r\nL 653.813823 520.530665 \r\nL 655.135627 520.244284 \r\nL 656.45743 520.423494 \r\nL 657.779233 520.887748 \r\nL 659.101037 521.277264 \r\nL 660.42284 521.188023 \r\nL 661.744644 520.354092 \r\nL 663.066447 518.780889 \r\nL 664.388251 516.757889 \r\nL 665.710054 514.742915 \r\nL 667.031857 513.175187 \r\nL 668.353661 512.308732 \r\nL 669.675464 512.142982 \r\nL 670.997268 512.467936 \r\nL 672.319071 512.973558 \r\nL 673.640875 513.347424 \r\nL 674.962678 513.319172 \r\nL 676.284481 512.669156 \r\nL 677.606285 511.245749 \r\nL 678.928088 509.010912 \r\nL 680.249892 506.087676 \r\nL 681.571695 502.761806 \r\nL 682.893499 499.41144 \r\nL 684.215302 496.383633 \r\nL 685.537105 493.870701 \r\nL 686.858909 491.839659 \r\nL 688.180712 490.036701 \r\nL 689.502516 488.046902 \r\nL 690.824319 485.365342 \r\nL 692.146123 481.449509 \r\nL 693.467926 475.765312 \r\nL 694.789729 467.865845 \r\nL 696.111533 457.508189 \r\nL 697.433336 444.735018 \r\nL 698.75514 429.812569 \r\nL 700.076943 412.998729 \r\nL 701.398747 394.274964 \r\nL 702.72055 373.2797 \r\nL 704.042353 349.629944 \r\nL 705.364157 323.626364 \r\nL 706.68596 297.080069 \r\nL 708.007764 273.767824 \r\nL 709.329567 258.973488 \r\nL 710.651371 257.908538 \r\nL 711.973174 273.513736 \r\nL 713.294977 304.783102 \r\nL 714.616781 346.699414 \r\nL 715.938584 391.974738 \r\nL 717.260388 433.66727 \r\nL 718.582191 467.276827 \r\nL 719.903995 491.419778 \r\nL 721.225798 507.151981 \r\nL 722.547602 516.681703 \r\nL 723.869405 522.244992 \r\nL 725.191208 525.516965 \r\nL 726.513012 527.518531 \r\nL 727.834815 528.786862 \r\nL 729.156619 529.594625 \r\nL 730.478422 530.104338 \r\nL 731.800226 530.436199 \r\nL 733.122029 530.67808 \r\nL 734.443832 530.877744 \r\nL 735.765636 531.043711 \r\nL 737.087439 531.160108 \r\nL 738.409243 531.207222 \r\nL 739.731046 531.178193 \r\nL 741.05285 531.08731 \r\nL 742.374653 530.96916 \r\nL 743.696456 530.869021 \r\nL 745.01826 530.826916 \r\nL 746.340063 530.861953 \r\nL 747.661867 530.965548 \r\nL 748.98367 531.107808 \r\nL 750.305474 531.252911 \r\nL 751.627277 531.373919 \r\nL 752.94908 531.459502 \r\nL 754.270884 531.511764 \r\nL 755.592687 531.539597 \r\nL 756.914491 531.552606 \r\n\" style=\"fill:none;stroke:#4c72b0;stroke-linecap:round;stroke-width:1.75;\"/>\r\n   </g>\r\n   <g id=\"patch_96\">\r\n    <path d=\"M 590.948437 531.560781 \r\nL 590.948437 21.207656 \r\n\" style=\"fill:none;\"/>\r\n   </g>\r\n   <g id=\"patch_97\">\r\n    <path d=\"M 590.948437 531.560781 \r\nL 1137.435938 531.560781 \r\n\" style=\"fill:none;\"/>\r\n   </g>\r\n   <g id=\"text_19\">\r\n    <!-- Type of the message = spam -->\r\n    <g style=\"fill:#262626;\" transform=\"translate(793.420938 15.207656)scale(0.11 -0.11)\">\r\n     <use xlink:href=\"#ArialMT-84\"/>\r\n     <use x=\"55.583984\" xlink:href=\"#ArialMT-121\"/>\r\n     <use x=\"105.583984\" xlink:href=\"#ArialMT-112\"/>\r\n     <use x=\"161.199219\" xlink:href=\"#ArialMT-101\"/>\r\n     <use x=\"216.814453\" xlink:href=\"#ArialMT-32\"/>\r\n     <use x=\"244.597656\" xlink:href=\"#ArialMT-111\"/>\r\n     <use x=\"300.212891\" xlink:href=\"#ArialMT-102\"/>\r\n     <use x=\"327.996094\" xlink:href=\"#ArialMT-32\"/>\r\n     <use x=\"355.779297\" xlink:href=\"#ArialMT-116\"/>\r\n     <use x=\"383.5625\" xlink:href=\"#ArialMT-104\"/>\r\n     <use x=\"439.177734\" xlink:href=\"#ArialMT-101\"/>\r\n     <use x=\"494.792969\" xlink:href=\"#ArialMT-32\"/>\r\n     <use x=\"522.576172\" xlink:href=\"#ArialMT-109\"/>\r\n     <use x=\"605.876953\" xlink:href=\"#ArialMT-101\"/>\r\n     <use x=\"661.492188\" xlink:href=\"#ArialMT-115\"/>\r\n     <use x=\"711.492188\" xlink:href=\"#ArialMT-115\"/>\r\n     <use x=\"761.492188\" xlink:href=\"#ArialMT-97\"/>\r\n     <use x=\"817.107422\" xlink:href=\"#ArialMT-103\"/>\r\n     <use x=\"872.722656\" xlink:href=\"#ArialMT-101\"/>\r\n     <use x=\"928.337891\" xlink:href=\"#ArialMT-32\"/>\r\n     <use x=\"956.121094\" xlink:href=\"#ArialMT-61\"/>\r\n     <use x=\"1014.519531\" xlink:href=\"#ArialMT-32\"/>\r\n     <use x=\"1042.302734\" xlink:href=\"#ArialMT-115\"/>\r\n     <use x=\"1092.302734\" xlink:href=\"#ArialMT-112\"/>\r\n     <use x=\"1147.917969\" xlink:href=\"#ArialMT-97\"/>\r\n     <use x=\"1203.533203\" xlink:href=\"#ArialMT-109\"/>\r\n    </g>\r\n   </g>\r\n  </g>\r\n </g>\r\n <defs>\r\n  <clipPath id=\"pac375123bc\">\r\n   <rect height=\"510.353125\" width=\"546.4875\" x=\"33.660938\" y=\"21.207656\"/>\r\n  </clipPath>\r\n  <clipPath id=\"p7c4ec1e8a5\">\r\n   <rect height=\"510.353125\" width=\"546.4875\" x=\"590.948437\" y=\"21.207656\"/>\r\n  </clipPath>\r\n </defs>\r\n</svg>\r\n",
      "image/png": "[encoded data removed]"
     },
     "metadata": {
      "needs_background": "light"
     }
    }
   ],
   "source": [
    "plt.figure(figsize=(12,10))\n",
    "g = sns.FacetGrid(df,col=\"Type of the message\",height=8,aspect=1)\n",
    "g.map(sns.distplot,\"len\")"
   ]
  },
  {
   "cell_type": "code",
   "execution_count": 60,
   "metadata": {},
   "outputs": [],
   "source": [
    "import string"
   ]
  },
  {
   "cell_type": "code",
   "execution_count": 121,
   "metadata": {},
   "outputs": [],
   "source": [
    "mess= \"Messagem de exemplo: Ela possuí pontuação.\""
   ]
  },
  {
   "cell_type": "code",
   "execution_count": 122,
   "metadata": {},
   "outputs": [
    {
     "output_type": "execute_result",
     "data": {
      "text/plain": "'Messagem de exemplo: Ela possuí pontuação.'"
     },
     "metadata": {},
     "execution_count": 122
    }
   ],
   "source": [
    "mess"
   ]
  },
  {
   "cell_type": "code",
   "execution_count": 123,
   "metadata": {},
   "outputs": [],
   "source": [
    "sem_pont = [char for char in mess if char not in string.punctuation]"
   ]
  },
  {
   "cell_type": "code",
   "execution_count": 124,
   "metadata": {},
   "outputs": [
    {
     "output_type": "execute_result",
     "data": {
      "text/plain": "['M',\n 'e',\n 's',\n 's',\n 'a',\n 'g',\n 'e',\n 'm',\n ' ',\n 'd',\n 'e',\n ' ',\n 'e',\n 'x',\n 'e',\n 'm',\n 'p',\n 'l',\n 'o',\n ' ',\n 'E',\n 'l',\n 'a',\n ' ',\n 'p',\n 'o',\n 's',\n 's',\n 'u',\n 'í',\n ' ',\n 'p',\n 'o',\n 'n',\n 't',\n 'u',\n 'a',\n 'ç',\n 'ã',\n 'o']"
     },
     "metadata": {},
     "execution_count": 124
    }
   ],
   "source": [
    "sem_pont"
   ]
  },
  {
   "cell_type": "code",
   "execution_count": 125,
   "metadata": {},
   "outputs": [],
   "source": [
    "sem_pont = ''.join(sem_pont)"
   ]
  },
  {
   "cell_type": "code",
   "execution_count": 126,
   "metadata": {},
   "outputs": [
    {
     "output_type": "execute_result",
     "data": {
      "text/plain": "'Messagem de exemplo Ela possuí pontuação'"
     },
     "metadata": {},
     "execution_count": 126
    }
   ],
   "source": [
    "sem_pont"
   ]
  },
  {
   "cell_type": "code",
   "execution_count": 86,
   "metadata": {},
   "outputs": [],
   "source": [
    "exemplo = \"A B C D\".split()\n",
    "\n"
   ]
  },
  {
   "cell_type": "code",
   "execution_count": 87,
   "metadata": {},
   "outputs": [
    {
     "output_type": "execute_result",
     "data": {
      "text/plain": "'A--B--C--D'"
     },
     "metadata": {},
     "execution_count": 87
    }
   ],
   "source": [
    "\"--\".join(exemplo)"
   ]
  },
  {
   "cell_type": "code",
   "execution_count": 88,
   "metadata": {},
   "outputs": [],
   "source": [
    "from nltk.corpus import stopwords"
   ]
  },
  {
   "cell_type": "code",
   "execution_count": 89,
   "metadata": {},
   "outputs": [
    {
     "output_type": "execute_result",
     "data": {
      "text/plain": "['i',\n 'me',\n 'my',\n 'myself',\n 'we',\n 'our',\n 'ours',\n 'ourselves',\n 'you',\n \"you're\",\n \"you've\",\n \"you'll\",\n \"you'd\",\n 'your',\n 'yours',\n 'yourself',\n 'yourselves',\n 'he',\n 'him',\n 'his',\n 'himself',\n 'she',\n \"she's\",\n 'her',\n 'hers',\n 'herself',\n 'it',\n \"it's\",\n 'its',\n 'itself',\n 'they',\n 'them',\n 'their',\n 'theirs',\n 'themselves',\n 'what',\n 'which',\n 'who',\n 'whom',\n 'this',\n 'that',\n \"that'll\",\n 'these',\n 'those',\n 'am',\n 'is',\n 'are',\n 'was',\n 'were',\n 'be',\n 'been',\n 'being',\n 'have',\n 'has',\n 'had',\n 'having',\n 'do',\n 'does',\n 'did',\n 'doing',\n 'a',\n 'an',\n 'the',\n 'and',\n 'but',\n 'if',\n 'or',\n 'because',\n 'as',\n 'until',\n 'while',\n 'of',\n 'at',\n 'by',\n 'for',\n 'with',\n 'about',\n 'against',\n 'between',\n 'into',\n 'through',\n 'during',\n 'before',\n 'after',\n 'above',\n 'below',\n 'to',\n 'from',\n 'up',\n 'down',\n 'in',\n 'out',\n 'on',\n 'off',\n 'over',\n 'under',\n 'again',\n 'further',\n 'then',\n 'once',\n 'here',\n 'there',\n 'when',\n 'where',\n 'why',\n 'how',\n 'all',\n 'any',\n 'both',\n 'each',\n 'few',\n 'more',\n 'most',\n 'other',\n 'some',\n 'such',\n 'no',\n 'nor',\n 'not',\n 'only',\n 'own',\n 'same',\n 'so',\n 'than',\n 'too',\n 'very',\n 's',\n 't',\n 'can',\n 'will',\n 'just',\n 'don',\n \"don't\",\n 'should',\n \"should've\",\n 'now',\n 'd',\n 'll',\n 'm',\n 'o',\n 're',\n 've',\n 'y',\n 'ain',\n 'aren',\n \"aren't\",\n 'couldn',\n \"couldn't\",\n 'didn',\n \"didn't\",\n 'doesn',\n \"doesn't\",\n 'hadn',\n \"hadn't\",\n 'hasn',\n \"hasn't\",\n 'haven',\n \"haven't\",\n 'isn',\n \"isn't\",\n 'ma',\n 'mightn',\n \"mightn't\",\n 'mustn',\n \"mustn't\",\n 'needn',\n \"needn't\",\n 'shan',\n \"shan't\",\n 'shouldn',\n \"shouldn't\",\n 'wasn',\n \"wasn't\",\n 'weren',\n \"weren't\",\n 'won',\n \"won't\",\n 'wouldn',\n \"wouldn't\"]"
     },
     "metadata": {},
     "execution_count": 89
    }
   ],
   "source": [
    "stopwords.words(\"english\")"
   ]
  },
  {
   "cell_type": "code",
   "execution_count": 90,
   "metadata": {},
   "outputs": [],
   "source": [
    "tst = \"Sample message! Notice: it has punctuation.\""
   ]
  },
  {
   "cell_type": "code",
   "execution_count": 127,
   "metadata": {},
   "outputs": [],
   "source": [
    "cln_mess = [word for word in tst.split() if word.lower() not in stopwords.words(\"english\")] "
   ]
  },
  {
   "cell_type": "code",
   "execution_count": 101,
   "metadata": {},
   "outputs": [
    {
     "output_type": "execute_result",
     "data": {
      "text/plain": "'Sample message: punctuation'"
     },
     "metadata": {},
     "execution_count": 101
    }
   ],
   "source": [
    "\" \".join(cln_mess)"
   ]
  },
  {
   "cell_type": "code",
   "execution_count": 140,
   "metadata": {},
   "outputs": [
    {
     "output_type": "execute_result",
     "data": {
      "text/plain": "'!\"#$%&\\'()*+,-./:;<=>?@[\\\\]^_`{|}~'"
     },
     "metadata": {},
     "execution_count": 140
    }
   ],
   "source": [
    "string.punctuation"
   ]
  },
  {
   "cell_type": "code",
   "execution_count": 143,
   "metadata": {},
   "outputs": [],
   "source": [
    "def text_process(mess):\n",
    "    nopunc = [char for char in mess if char not in string.punctuation]\n",
    "    nopunc = \"\".join(nopunc)\n",
    "    sms = [word for word in nopunc.split() if word.lower() not in stopwords.words(\"english\")]\n",
    "    return sms"
   ]
  },
  {
   "cell_type": "code",
   "execution_count": 144,
   "metadata": {},
   "outputs": [
    {
     "output_type": "execute_result",
     "data": {
      "text/plain": "  Type of the message                                            Message  len  \\\n0                 ham  Go until jurong point, crazy.. Available only ...  111   \n1                 ham                      Ok lar... Joking wif u oni...   29   \n2                spam  Free entry in 2 a wkly comp to win FA Cup fina...  155   \n3                 ham  U dun say so early hor... U c already then say...   49   \n4                 ham  Nah I don't think he goes to usf, he lives aro...   61   \n\n   length  \n0     111  \n1      29  \n2     155  \n3      49  \n4      61  ",
      "text/html": "<div>\n<style scoped>\n    .dataframe tbody tr th:only-of-type {\n        vertical-align: middle;\n    }\n\n    .dataframe tbody tr th {\n        vertical-align: top;\n    }\n\n    .dataframe thead th {\n        text-align: right;\n    }\n</style>\n<table border=\"1\" class=\"dataframe\">\n  <thead>\n    <tr style=\"text-align: right;\">\n      <th></th>\n      <th>Type of the message</th>\n      <th>Message</th>\n      <th>len</th>\n      <th>length</th>\n    </tr>\n  </thead>\n  <tbody>\n    <tr>\n      <th>0</th>\n      <td>ham</td>\n      <td>Go until jurong point, crazy.. Available only ...</td>\n      <td>111</td>\n      <td>111</td>\n    </tr>\n    <tr>\n      <th>1</th>\n      <td>ham</td>\n      <td>Ok lar... Joking wif u oni...</td>\n      <td>29</td>\n      <td>29</td>\n    </tr>\n    <tr>\n      <th>2</th>\n      <td>spam</td>\n      <td>Free entry in 2 a wkly comp to win FA Cup fina...</td>\n      <td>155</td>\n      <td>155</td>\n    </tr>\n    <tr>\n      <th>3</th>\n      <td>ham</td>\n      <td>U dun say so early hor... U c already then say...</td>\n      <td>49</td>\n      <td>49</td>\n    </tr>\n    <tr>\n      <th>4</th>\n      <td>ham</td>\n      <td>Nah I don't think he goes to usf, he lives aro...</td>\n      <td>61</td>\n      <td>61</td>\n    </tr>\n  </tbody>\n</table>\n</div>"
     },
     "metadata": {},
     "execution_count": 144
    }
   ],
   "source": [
    "df.head()"
   ]
  },
  {
   "cell_type": "code",
   "execution_count": 145,
   "metadata": {
    "tags": []
   },
   "outputs": [
    {
     "output_type": "execute_result",
     "data": {
      "text/plain": "0    [Go, jurong, point, crazy, Available, bugis, n...\n1                       [Ok, lar, Joking, wif, u, oni]\n2    [Free, entry, 2, wkly, comp, win, FA, Cup, fin...\n3        [U, dun, say, early, hor, U, c, already, say]\n4    [Nah, dont, think, goes, usf, lives, around, t...\nName: Message, dtype: object"
     },
     "metadata": {},
     "execution_count": 145
    }
   ],
   "source": [
    "df[\"Message\"].head(5).apply(text_process)"
   ]
  },
  {
   "cell_type": "code",
   "execution_count": 146,
   "metadata": {},
   "outputs": [],
   "source": [
    "from sklearn.feature_extraction.text import CountVectorizer"
   ]
  },
  {
   "cell_type": "code",
   "execution_count": 147,
   "metadata": {},
   "outputs": [],
   "source": [
    "bow_transformer = CountVectorizer(analyzer=text_process).fit(df[\"Message\"])"
   ]
  },
  {
   "cell_type": "code",
   "execution_count": 152,
   "metadata": {
    "tags": []
   },
   "outputs": [
    {
     "output_type": "stream",
     "name": "stdout",
     "text": "11425\n"
    }
   ],
   "source": [
    "print(len(bow_transformer.vocabulary_))"
   ]
  },
  {
   "cell_type": "code",
   "execution_count": 155,
   "metadata": {},
   "outputs": [],
   "source": [
    "message4= df[\"Message\"][3]"
   ]
  },
  {
   "cell_type": "code",
   "execution_count": 156,
   "metadata": {},
   "outputs": [
    {
     "output_type": "execute_result",
     "data": {
      "text/plain": "'U dun say so early hor... U c already then say...'"
     },
     "metadata": {},
     "execution_count": 156
    }
   ],
   "source": [
    "message4"
   ]
  },
  {
   "cell_type": "code",
   "execution_count": 157,
   "metadata": {},
   "outputs": [],
   "source": [
    "bow_4 = bow_transformer.transform([message4])"
   ]
  },
  {
   "cell_type": "code",
   "execution_count": 158,
   "metadata": {
    "tags": []
   },
   "outputs": [
    {
     "output_type": "stream",
     "name": "stdout",
     "text": "(0, 4068)\t2\n  (0, 4629)\t1\n  (0, 5261)\t1\n  (0, 6204)\t1\n  (0, 6222)\t1\n  (0, 7186)\t1\n  (0, 9554)\t2\n"
    }
   ],
   "source": [
    "print(bow_4)"
   ]
  },
  {
   "cell_type": "code",
   "execution_count": 159,
   "metadata": {
    "tags": []
   },
   "outputs": [
    {
     "output_type": "stream",
     "name": "stdout",
     "text": "U\n"
    }
   ],
   "source": [
    "print(bow_transformer.get_feature_names()[4068])"
   ]
  },
  {
   "cell_type": "code",
   "execution_count": 160,
   "metadata": {
    "tags": []
   },
   "outputs": [
    {
     "output_type": "stream",
     "name": "stdout",
     "text": "say\n"
    }
   ],
   "source": [
    "print(bow_transformer.get_feature_names()[9554])"
   ]
  },
  {
   "cell_type": "code",
   "execution_count": 161,
   "metadata": {},
   "outputs": [],
   "source": [
    "messages_bow = bow_transformer.transform(df[\"Message\"])"
   ]
  },
  {
   "cell_type": "code",
   "execution_count": 163,
   "metadata": {
    "tags": []
   },
   "outputs": [
    {
     "output_type": "stream",
     "name": "stdout",
     "text": "(5572, 11425)\n50548\n"
    }
   ],
   "source": [
    "print(messages_bow.shape)\n",
    "print(messages_bow.nnz)"
   ]
  },
  {
   "cell_type": "code",
   "execution_count": 166,
   "metadata": {},
   "outputs": [],
   "source": [
    "from sklearn.feature_extraction.text import TfidfTransformer"
   ]
  },
  {
   "cell_type": "code",
   "execution_count": 167,
   "metadata": {},
   "outputs": [],
   "source": [
    "tfidf_tranformer = TfidfTransformer()"
   ]
  },
  {
   "cell_type": "code",
   "execution_count": 168,
   "metadata": {},
   "outputs": [
    {
     "output_type": "execute_result",
     "data": {
      "text/plain": "TfidfTransformer()"
     },
     "metadata": {},
     "execution_count": 168
    }
   ],
   "source": [
    "tfidf_tranformer.fit(messages_bow)"
   ]
  },
  {
   "cell_type": "code",
   "execution_count": 172,
   "metadata": {},
   "outputs": [],
   "source": [
    "tfidf4 = tfidf_tranformer.transform(bow_4)"
   ]
  },
  {
   "cell_type": "code",
   "execution_count": 174,
   "metadata": {
    "tags": []
   },
   "outputs": [
    {
     "output_type": "stream",
     "name": "stdout",
     "text": "(0, 9554)\t0.5385626262927564\n  (0, 7186)\t0.4389365653379857\n  (0, 6222)\t0.3187216892949149\n  (0, 6204)\t0.29953799723697416\n  (0, 5261)\t0.29729957405868723\n  (0, 4629)\t0.26619801906087187\n  (0, 4068)\t0.40832589933384067\n"
    }
   ],
   "source": [
    "print(tfidf4)"
   ]
  },
  {
   "cell_type": "code",
   "execution_count": 175,
   "metadata": {
    "tags": []
   },
   "outputs": [
    {
     "output_type": "stream",
     "name": "stdout",
     "text": "8.527076498901426\n"
    }
   ],
   "source": [
    "print(tfidf_tranformer.idf_[bow_transformer.vocabulary_[\"university\"]])"
   ]
  },
  {
   "cell_type": "code",
   "execution_count": 176,
   "metadata": {},
   "outputs": [],
   "source": [
    "from sklearn.naive_bayes import MultinomialNB"
   ]
  },
  {
   "cell_type": "code",
   "execution_count": 178,
   "metadata": {},
   "outputs": [],
   "source": [
    "messages_tfidf= tfidf_tranformer.transform(messages_bow)"
   ]
  },
  {
   "cell_type": "code",
   "execution_count": 180,
   "metadata": {},
   "outputs": [],
   "source": [
    "spam_detect_model = MultinomialNB().fit(messages_tfidf,df[\"Type of the message\"])"
   ]
  },
  {
   "cell_type": "code",
   "execution_count": 183,
   "metadata": {
    "tags": []
   },
   "outputs": [
    {
     "output_type": "stream",
     "name": "stdout",
     "text": "Predito: ham \nEsperado: ham\n"
    }
   ],
   "source": [
    "print(\"Predito:\",spam_detect_model.predict(tfidf4)[0],\"\\nEsperado:\",df[\"Type of the message\"][3])"
   ]
  },
  {
   "cell_type": "code",
   "execution_count": 184,
   "metadata": {},
   "outputs": [],
   "source": [
    "from sklearn.model_selection import train_test_split"
   ]
  },
  {
   "cell_type": "code",
   "execution_count": 186,
   "metadata": {},
   "outputs": [],
   "source": [
    "message_train,message_test,label_train,label_test = train_test_split(df[\"Message\"],df[\"Type of the message\"],test_size=0.2)"
   ]
  },
  {
   "cell_type": "code",
   "execution_count": 187,
   "metadata": {},
   "outputs": [
    {
     "output_type": "execute_result",
     "data": {
      "text/plain": "1979    No I'm in the same boat. Still here at my moms...\n2158    Sad story of a Man - Last week was my b'day. M...\n2739    I sent you the prices and do you mean the  &lt...\n4392    The greatest test of courage on earth is to be...\n3714    If i not meeting ü all rite then i'll go home ...\n                              ...                        \n5378    Free entry to the gr8prizes wkly comp 4 a chan...\n4710    Haha awesome, I might need to take you up on t...\n2253                 Den wat will e schedule b lk on sun?\n3785              Dear got train and seat mine lower seat\n3349                               Sorry, I'll call later\nName: Message, Length: 4457, dtype: object"
     },
     "metadata": {},
     "execution_count": 187
    }
   ],
   "source": [
    "message_train"
   ]
  },
  {
   "cell_type": "code",
   "execution_count": 190,
   "metadata": {},
   "outputs": [],
   "source": [
    "from sklearn.pipeline import Pipeline"
   ]
  },
  {
   "cell_type": "code",
   "execution_count": 212,
   "metadata": {},
   "outputs": [],
   "source": [
    "pipeline = Pipeline([\n",
    "    (\"bow\",CountVectorizer(analyzer=text_process)),\n",
    "    (\"tftidf\",TfidfTransformer()),\n",
    "    (\"classifier\",RandomForestClassifier(n_estimators=500))\n",
    "    ])"
   ]
  },
  {
   "cell_type": "code",
   "execution_count": 214,
   "metadata": {},
   "outputs": [
    {
     "output_type": "execute_result",
     "data": {
      "text/plain": "Pipeline(steps=[('bow',\n                 CountVectorizer(analyzer=<function text_process at 0x0000025F8C673AF0>)),\n                ('tftidf', TfidfTransformer()),\n                ('classifier', RandomForestClassifier(n_estimators=500))])"
     },
     "metadata": {},
     "execution_count": 214
    }
   ],
   "source": [
    "pipeline.fit(message_train,label_train)"
   ]
  },
  {
   "cell_type": "code",
   "execution_count": 215,
   "metadata": {},
   "outputs": [],
   "source": [
    "pred = pipeline.predict(message_test)"
   ]
  },
  {
   "cell_type": "code",
   "execution_count": 216,
   "metadata": {},
   "outputs": [],
   "source": [
    "from sklearn.metrics import classification_report, confusion_matrix\n"
   ]
  },
  {
   "cell_type": "code",
   "execution_count": 217,
   "metadata": {
    "tags": []
   },
   "outputs": [
    {
     "output_type": "stream",
     "name": "stdout",
     "text": "precision    recall  f1-score   support\n\n         ham       1.00      0.96      0.98      1005\n        spam       0.73      1.00      0.84       110\n\n    accuracy                           0.96      1115\n   macro avg       0.86      0.98      0.91      1115\nweighted avg       0.97      0.96      0.97      1115\n\n"
    }
   ],
   "source": [
    "print(classification_report(pred, label_test))"
   ]
  },
  {
   "cell_type": "code",
   "execution_count": 218,
   "metadata": {
    "tags": []
   },
   "outputs": [
    {
     "output_type": "stream",
     "name": "stdout",
     "text": "[[964  41]\n [  0 110]]\n"
    }
   ],
   "source": [
    "print(confusion_matrix(pred,label_test))"
   ]
  },
  {
   "cell_type": "code",
   "execution_count": 211,
   "metadata": {},
   "outputs": [],
   "source": [
    "from sklearn.ensemble import RandomForestClassifier"
   ]
  },
  {
   "cell_type": "code",
   "execution_count": null,
   "metadata": {},
   "outputs": [],
   "source": []
  }
 ]
}