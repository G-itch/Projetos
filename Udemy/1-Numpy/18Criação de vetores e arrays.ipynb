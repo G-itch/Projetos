{
 "cells": [
  {
   "cell_type": "code",
   "execution_count": 1,
   "metadata": {},
   "outputs": [],
   "source": [
    "import numpy as np"
   ]
  },
  {
   "cell_type": "code",
   "execution_count": 2,
   "metadata": {},
   "outputs": [],
   "source": [
    "l = [1,2,3]"
   ]
  },
  {
   "cell_type": "code",
   "execution_count": 3,
   "metadata": {},
   "outputs": [
    {
     "output_type": "execute_result",
     "data": {
      "text/plain": "array([1, 2, 3])"
     },
     "metadata": {},
     "execution_count": 3
    }
   ],
   "source": [
    "np.array(l)"
   ]
  },
  {
   "cell_type": "code",
   "execution_count": 4,
   "metadata": {},
   "outputs": [],
   "source": [
    "l2 = [[1,2,3],[4,5,6],[7,8,9]]"
   ]
  },
  {
   "cell_type": "code",
   "execution_count": 5,
   "metadata": {},
   "outputs": [
    {
     "output_type": "execute_result",
     "data": {
      "text/plain": "array([[1, 2, 3],\n       [4, 5, 6],\n       [7, 8, 9]])"
     },
     "metadata": {},
     "execution_count": 5
    }
   ],
   "source": [
    "np.array(l2)"
   ]
  },
  {
   "cell_type": "code",
   "execution_count": 7,
   "metadata": {},
   "outputs": [
    {
     "output_type": "execute_result",
     "data": {
      "text/plain": "array([0, 2, 4, 6, 8])"
     },
     "metadata": {},
     "execution_count": 7
    }
   ],
   "source": [
    "np.arange(0,10,2)"
   ]
  },
  {
   "cell_type": "code",
   "execution_count": 8,
   "metadata": {},
   "outputs": [
    {
     "output_type": "execute_result",
     "data": {
      "text/plain": "array([0., 0., 0.])"
     },
     "metadata": {},
     "execution_count": 8
    }
   ],
   "source": [
    "np.zeros(3)"
   ]
  },
  {
   "cell_type": "code",
   "execution_count": 9,
   "metadata": {},
   "outputs": [
    {
     "output_type": "execute_result",
     "data": {
      "text/plain": "array([[0., 0., 0., 0., 0.],\n       [0., 0., 0., 0., 0.],\n       [0., 0., 0., 0., 0.],\n       [0., 0., 0., 0., 0.],\n       [0., 0., 0., 0., 0.]])"
     },
     "metadata": {},
     "execution_count": 9
    }
   ],
   "source": [
    "np.zeros((5,5))"
   ]
  },
  {
   "cell_type": "code",
   "execution_count": 11,
   "metadata": {},
   "outputs": [
    {
     "output_type": "execute_result",
     "data": {
      "text/plain": "array([[1., 1., 1.],\n       [1., 1., 1.],\n       [1., 1., 1.]])"
     },
     "metadata": {},
     "execution_count": 11
    }
   ],
   "source": [
    "np.ones((3,3))"
   ]
  },
  {
   "cell_type": "code",
   "execution_count": 13,
   "metadata": {},
   "outputs": [
    {
     "output_type": "execute_result",
     "data": {
      "text/plain": "array([[1., 0., 0., 0.],\n       [0., 1., 0., 0.],\n       [0., 0., 1., 0.],\n       [0., 0., 0., 1.]])"
     },
     "metadata": {},
     "execution_count": 13
    }
   ],
   "source": [
    "np.eye(4)"
   ]
  },
  {
   "cell_type": "code",
   "execution_count": 14,
   "metadata": {},
   "outputs": [
    {
     "output_type": "execute_result",
     "data": {
      "text/plain": "array([ 3.        ,  7.33333333, 11.66666667, 16.        ])"
     },
     "metadata": {},
     "execution_count": 14
    }
   ],
   "source": [
    "np.linspace(3,16,4)"
   ]
  },
  {
   "cell_type": "code",
   "execution_count": 27,
   "metadata": {},
   "outputs": [
    {
     "output_type": "execute_result",
     "data": {
      "text/plain": "array([[[0.74788215, 0.85144639],\n        [0.36839471, 0.27716751],\n        [0.89651098, 0.92528059]],\n\n       [[0.78061777, 0.10503159],\n        [0.37383419, 0.07492051],\n        [0.22883336, 0.20128148]],\n\n       [[0.12500965, 0.85525856],\n        [0.28049034, 0.54471498],\n        [0.77126522, 0.27735553]],\n\n       [[0.84003874, 0.21012846],\n        [0.99388807, 0.45369088],\n        [0.97304472, 0.58813435]],\n\n       [[0.82763692, 0.41413489],\n        [0.62862807, 0.60803686],\n        [0.81152741, 0.61318445]],\n\n       [[0.27918408, 0.54659396],\n        [0.19079948, 0.83927079],\n        [0.88712025, 0.23170446]]])"
     },
     "metadata": {},
     "execution_count": 27
    }
   ],
   "source": [
    "np.random.rand(6,3,2)"
   ]
  },
  {
   "cell_type": "code",
   "execution_count": 29,
   "metadata": {},
   "outputs": [
    {
     "output_type": "execute_result",
     "data": {
      "text/plain": "array([[[ 1.04970381,  0.24448765,  0.51661574],\n        [ 1.13043054, -0.88021932, -1.14908412],\n        [-0.9731363 ,  0.85349563, -0.48564904],\n        [-0.08902133,  1.72192301,  1.03265455]],\n\n       [[-1.18215073,  0.67015941,  1.33828315],\n        [ 0.21897873, -1.35398399,  0.64266151],\n        [ 0.71683384,  0.88109008,  1.15220465],\n        [-0.23995408, -0.19706928, -0.07140796]],\n\n       [[ 1.45861024, -1.14091841, -0.86560477],\n        [-2.3382348 ,  0.177985  ,  1.50993004],\n        [-1.93863776,  1.47213788,  1.93146361],\n        [-0.73420304, -2.49744267,  1.09143371]],\n\n       [[-1.10161606, -1.80276058, -0.64241063],\n        [-0.75794392, -0.09266196, -0.23363101],\n        [-0.48866981, -1.0655669 , -0.01521303],\n        [ 0.99341728, -1.42041057, -0.87334576]],\n\n       [[-0.08156155, -1.03147147,  0.69608413],\n        [-1.54771498,  0.30734416, -0.77651801],\n        [ 0.05120676, -1.11296245,  0.75503353],\n        [-1.13256871, -1.46793698,  0.81740742]]])"
     },
     "metadata": {},
     "execution_count": 29
    }
   ],
   "source": [
    "np.random.randn(5,4,3)"
   ]
  },
  {
   "cell_type": "code",
   "execution_count": 30,
   "metadata": {},
   "outputs": [
    {
     "output_type": "execute_result",
     "data": {
      "text/plain": "array([13, 85, 50, 43, 76, 89, 93, 93, 21, 43])"
     },
     "metadata": {},
     "execution_count": 30
    }
   ],
   "source": [
    "np.random.randint(0,100,10)"
   ]
  },
  {
   "cell_type": "code",
   "execution_count": 31,
   "metadata": {},
   "outputs": [],
   "source": [
    "arr = np.random.rand(25)"
   ]
  },
  {
   "cell_type": "code",
   "execution_count": 32,
   "metadata": {},
   "outputs": [
    {
     "output_type": "execute_result",
     "data": {
      "text/plain": "array([0.14008585, 0.62940221, 0.87672557, 0.41558192, 0.72639928,\n       0.1562309 , 0.69062982, 0.12441599, 0.71362922, 0.33172497,\n       0.46539404, 0.71359483, 0.66458543, 0.20541592, 0.07947435,\n       0.52723854, 0.17489917, 0.71518701, 0.50903654, 0.932527  ,\n       0.08332377, 0.64066132, 0.94727904, 0.0395494 , 0.57230384])"
     },
     "metadata": {},
     "execution_count": 32
    }
   ],
   "source": [
    "arr"
   ]
  },
  {
   "cell_type": "code",
   "execution_count": 35,
   "metadata": {},
   "outputs": [],
   "source": [
    "arr = arr.reshape((5,5))"
   ]
  },
  {
   "cell_type": "code",
   "execution_count": 36,
   "metadata": {},
   "outputs": [
    {
     "output_type": "execute_result",
     "data": {
      "text/plain": "array([[0.14008585, 0.62940221, 0.87672557, 0.41558192, 0.72639928],\n       [0.1562309 , 0.69062982, 0.12441599, 0.71362922, 0.33172497],\n       [0.46539404, 0.71359483, 0.66458543, 0.20541592, 0.07947435],\n       [0.52723854, 0.17489917, 0.71518701, 0.50903654, 0.932527  ],\n       [0.08332377, 0.64066132, 0.94727904, 0.0395494 , 0.57230384]])"
     },
     "metadata": {},
     "execution_count": 36
    }
   ],
   "source": [
    "arr"
   ]
  },
  {
   "cell_type": "code",
   "execution_count": 38,
   "metadata": {},
   "outputs": [
    {
     "output_type": "execute_result",
     "data": {
      "text/plain": "(5, 5)"
     },
     "metadata": {},
     "execution_count": 38
    }
   ],
   "source": [
    "arr.shape"
   ]
  },
  {
   "cell_type": "code",
   "execution_count": 39,
   "metadata": {},
   "outputs": [
    {
     "output_type": "execute_result",
     "data": {
      "text/plain": "0.9472790402259874"
     },
     "metadata": {},
     "execution_count": 39
    }
   ],
   "source": [
    "arr.max()"
   ]
  },
  {
   "cell_type": "code",
   "execution_count": 40,
   "metadata": {},
   "outputs": [
    {
     "output_type": "execute_result",
     "data": {
      "text/plain": "0.03954940441698407"
     },
     "metadata": {},
     "execution_count": 40
    }
   ],
   "source": [
    "arr.min()"
   ]
  },
  {
   "cell_type": "code",
   "execution_count": 41,
   "metadata": {},
   "outputs": [
    {
     "output_type": "execute_result",
     "data": {
      "text/plain": "22"
     },
     "metadata": {},
     "execution_count": 41
    }
   ],
   "source": [
    "arr.argmax()"
   ]
  },
  {
   "cell_type": "code",
   "execution_count": 42,
   "metadata": {},
   "outputs": [
    {
     "output_type": "execute_result",
     "data": {
      "text/plain": "23"
     },
     "metadata": {},
     "execution_count": 42
    }
   ],
   "source": [
    "arr.argmin()"
   ]
  },
  {
   "cell_type": "code",
   "execution_count": null,
   "metadata": {},
   "outputs": [],
   "source": []
  }
 ],
 "metadata": {
  "language_info": {
   "codemirror_mode": {
    "name": "ipython",
    "version": 3
   },
   "file_extension": ".py",
   "mimetype": "text/x-python",
   "name": "python",
   "nbconvert_exporter": "python",
   "pygments_lexer": "ipython3",
   "version": "3.7.6-final"
  },
  "orig_nbformat": 2,
  "kernelspec": {
   "name": "python37664bittesteconda3167da889509433a89f3a602481ffa2d",
   "display_name": "Python 3.7.6 64-bit ('[teste]': conda)"
  }
 },
 "nbformat": 4,
 "nbformat_minor": 2
}