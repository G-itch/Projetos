{
 "cells": [
  {
   "cell_type": "code",
   "execution_count": 6,
   "metadata": {},
   "outputs": [],
   "source": [
    "import numpy as np \n",
    "import pandas as pd"
   ]
  },
  {
   "cell_type": "code",
   "execution_count": 5,
   "metadata": {},
   "outputs": [],
   "source": [
    "np.random.seed(101)"
   ]
  },
  {
   "cell_type": "code",
   "execution_count": 15,
   "metadata": {},
   "outputs": [],
   "source": [
    "df = pd.DataFrame(np.random.randn(5,4), index= \"A B C D E\".split(),columns = \"W X Y Z\".split())"
   ]
  },
  {
   "cell_type": "code",
   "execution_count": 13,
   "metadata": {},
   "outputs": [
    {
     "output_type": "execute_result",
     "data": {
      "text/plain": "0.3026654485851825"
     },
     "metadata": {},
     "execution_count": 13
    }
   ],
   "source": [
    "df[\"W\"][\"A\"]"
   ]
  },
  {
   "cell_type": "code",
   "execution_count": 17,
   "metadata": {},
   "outputs": [
    {
     "output_type": "execute_result",
     "data": {
      "text/plain": "          W         Z\nA -0.993263  0.000366\nB  1.025984  0.649826\nC  2.154846 -0.346419\nD  0.147027  1.024810\nE -0.925874  0.610478",
      "text/html": "<div>\n<style scoped>\n    .dataframe tbody tr th:only-of-type {\n        vertical-align: middle;\n    }\n\n    .dataframe tbody tr th {\n        vertical-align: top;\n    }\n\n    .dataframe thead th {\n        text-align: right;\n    }\n</style>\n<table border=\"1\" class=\"dataframe\">\n  <thead>\n    <tr style=\"text-align: right;\">\n      <th></th>\n      <th>W</th>\n      <th>Z</th>\n    </tr>\n  </thead>\n  <tbody>\n    <tr>\n      <th>A</th>\n      <td>-0.993263</td>\n      <td>0.000366</td>\n    </tr>\n    <tr>\n      <th>B</th>\n      <td>1.025984</td>\n      <td>0.649826</td>\n    </tr>\n    <tr>\n      <th>C</th>\n      <td>2.154846</td>\n      <td>-0.346419</td>\n    </tr>\n    <tr>\n      <th>D</th>\n      <td>0.147027</td>\n      <td>1.024810</td>\n    </tr>\n    <tr>\n      <th>E</th>\n      <td>-0.925874</td>\n      <td>0.610478</td>\n    </tr>\n  </tbody>\n</table>\n</div>"
     },
     "metadata": {},
     "execution_count": 17
    }
   ],
   "source": [
    "df[[\"W\",\"Z\"]]"
   ]
  },
  {
   "cell_type": "code",
   "execution_count": 16,
   "metadata": {},
   "outputs": [
    {
     "output_type": "execute_result",
     "data": {
      "text/plain": "          W         X         Y         Z\nA -0.993263  0.196800 -1.136645  0.000366\nB  1.025984 -0.156598 -0.031579  0.649826\nC  2.154846 -0.610259 -0.755325 -0.346419\nD  0.147027 -0.479448  0.558769  1.024810\nE -0.925874  1.862864 -1.133817  0.610478",
      "text/html": "<div>\n<style scoped>\n    .dataframe tbody tr th:only-of-type {\n        vertical-align: middle;\n    }\n\n    .dataframe tbody tr th {\n        vertical-align: top;\n    }\n\n    .dataframe thead th {\n        text-align: right;\n    }\n</style>\n<table border=\"1\" class=\"dataframe\">\n  <thead>\n    <tr style=\"text-align: right;\">\n      <th></th>\n      <th>W</th>\n      <th>X</th>\n      <th>Y</th>\n      <th>Z</th>\n    </tr>\n  </thead>\n  <tbody>\n    <tr>\n      <th>A</th>\n      <td>-0.993263</td>\n      <td>0.196800</td>\n      <td>-1.136645</td>\n      <td>0.000366</td>\n    </tr>\n    <tr>\n      <th>B</th>\n      <td>1.025984</td>\n      <td>-0.156598</td>\n      <td>-0.031579</td>\n      <td>0.649826</td>\n    </tr>\n    <tr>\n      <th>C</th>\n      <td>2.154846</td>\n      <td>-0.610259</td>\n      <td>-0.755325</td>\n      <td>-0.346419</td>\n    </tr>\n    <tr>\n      <th>D</th>\n      <td>0.147027</td>\n      <td>-0.479448</td>\n      <td>0.558769</td>\n      <td>1.024810</td>\n    </tr>\n    <tr>\n      <th>E</th>\n      <td>-0.925874</td>\n      <td>1.862864</td>\n      <td>-1.133817</td>\n      <td>0.610478</td>\n    </tr>\n  </tbody>\n</table>\n</div>"
     },
     "metadata": {},
     "execution_count": 16
    }
   ],
   "source": [
    "df"
   ]
  },
  {
   "cell_type": "code",
   "execution_count": 19,
   "metadata": {},
   "outputs": [
    {
     "output_type": "execute_result",
     "data": {
      "text/plain": "A   -0.993263\nB    1.025984\nC    2.154846\nD    0.147027\nE   -0.925874\nName: W, dtype: float64"
     },
     "metadata": {},
     "execution_count": 19
    }
   ],
   "source": [
    "df.W"
   ]
  },
  {
   "cell_type": "code",
   "execution_count": 29,
   "metadata": {},
   "outputs": [],
   "source": [
    "df[\"A\"] = df[\"Z\"]"
   ]
  },
  {
   "cell_type": "code",
   "execution_count": 33,
   "metadata": {},
   "outputs": [
    {
     "output_type": "execute_result",
     "data": {
      "text/plain": "          W         X         Y         Z       new         A\nA -0.993263  0.196800 -1.136645  0.000366  0.000366  0.000366\nB  1.025984 -0.156598 -0.031579  0.649826  0.649826  0.649826\nC  2.154846 -0.610259 -0.755325 -0.346419 -0.346419 -0.346419\nD  0.147027 -0.479448  0.558769  1.024810  1.024810  1.024810\nE -0.925874  1.862864 -1.133817  0.610478  0.610478  0.610478",
      "text/html": "<div>\n<style scoped>\n    .dataframe tbody tr th:only-of-type {\n        vertical-align: middle;\n    }\n\n    .dataframe tbody tr th {\n        vertical-align: top;\n    }\n\n    .dataframe thead th {\n        text-align: right;\n    }\n</style>\n<table border=\"1\" class=\"dataframe\">\n  <thead>\n    <tr style=\"text-align: right;\">\n      <th></th>\n      <th>W</th>\n      <th>X</th>\n      <th>Y</th>\n      <th>Z</th>\n      <th>new</th>\n      <th>A</th>\n    </tr>\n  </thead>\n  <tbody>\n    <tr>\n      <th>A</th>\n      <td>-0.993263</td>\n      <td>0.196800</td>\n      <td>-1.136645</td>\n      <td>0.000366</td>\n      <td>0.000366</td>\n      <td>0.000366</td>\n    </tr>\n    <tr>\n      <th>B</th>\n      <td>1.025984</td>\n      <td>-0.156598</td>\n      <td>-0.031579</td>\n      <td>0.649826</td>\n      <td>0.649826</td>\n      <td>0.649826</td>\n    </tr>\n    <tr>\n      <th>C</th>\n      <td>2.154846</td>\n      <td>-0.610259</td>\n      <td>-0.755325</td>\n      <td>-0.346419</td>\n      <td>-0.346419</td>\n      <td>-0.346419</td>\n    </tr>\n    <tr>\n      <th>D</th>\n      <td>0.147027</td>\n      <td>-0.479448</td>\n      <td>0.558769</td>\n      <td>1.024810</td>\n      <td>1.024810</td>\n      <td>1.024810</td>\n    </tr>\n    <tr>\n      <th>E</th>\n      <td>-0.925874</td>\n      <td>1.862864</td>\n      <td>-1.133817</td>\n      <td>0.610478</td>\n      <td>0.610478</td>\n      <td>0.610478</td>\n    </tr>\n  </tbody>\n</table>\n</div>"
     },
     "metadata": {},
     "execution_count": 33
    }
   ],
   "source": [
    "df"
   ]
  },
  {
   "cell_type": "code",
   "execution_count": 37,
   "metadata": {},
   "outputs": [],
   "source": [
    "df.drop(\"new\",axis =1,inplace=True)"
   ]
  },
  {
   "cell_type": "code",
   "execution_count": 38,
   "metadata": {},
   "outputs": [
    {
     "output_type": "execute_result",
     "data": {
      "text/plain": "          W         X         Y         Z         A\nA -0.993263  0.196800 -1.136645  0.000366  0.000366\nB  1.025984 -0.156598 -0.031579  0.649826  0.649826\nC  2.154846 -0.610259 -0.755325 -0.346419 -0.346419\nD  0.147027 -0.479448  0.558769  1.024810  1.024810\nE -0.925874  1.862864 -1.133817  0.610478  0.610478",
      "text/html": "<div>\n<style scoped>\n    .dataframe tbody tr th:only-of-type {\n        vertical-align: middle;\n    }\n\n    .dataframe tbody tr th {\n        vertical-align: top;\n    }\n\n    .dataframe thead th {\n        text-align: right;\n    }\n</style>\n<table border=\"1\" class=\"dataframe\">\n  <thead>\n    <tr style=\"text-align: right;\">\n      <th></th>\n      <th>W</th>\n      <th>X</th>\n      <th>Y</th>\n      <th>Z</th>\n      <th>A</th>\n    </tr>\n  </thead>\n  <tbody>\n    <tr>\n      <th>A</th>\n      <td>-0.993263</td>\n      <td>0.196800</td>\n      <td>-1.136645</td>\n      <td>0.000366</td>\n      <td>0.000366</td>\n    </tr>\n    <tr>\n      <th>B</th>\n      <td>1.025984</td>\n      <td>-0.156598</td>\n      <td>-0.031579</td>\n      <td>0.649826</td>\n      <td>0.649826</td>\n    </tr>\n    <tr>\n      <th>C</th>\n      <td>2.154846</td>\n      <td>-0.610259</td>\n      <td>-0.755325</td>\n      <td>-0.346419</td>\n      <td>-0.346419</td>\n    </tr>\n    <tr>\n      <th>D</th>\n      <td>0.147027</td>\n      <td>-0.479448</td>\n      <td>0.558769</td>\n      <td>1.024810</td>\n      <td>1.024810</td>\n    </tr>\n    <tr>\n      <th>E</th>\n      <td>-0.925874</td>\n      <td>1.862864</td>\n      <td>-1.133817</td>\n      <td>0.610478</td>\n      <td>0.610478</td>\n    </tr>\n  </tbody>\n</table>\n</div>"
     },
     "metadata": {},
     "execution_count": 38
    }
   ],
   "source": [
    "df"
   ]
  },
  {
   "cell_type": "code",
   "execution_count": 40,
   "metadata": {},
   "outputs": [
    {
     "output_type": "execute_result",
     "data": {
      "text/plain": "W   -0.993263\nX    0.196800\nY   -1.136645\nZ    0.000366\nA    0.000366\nName: A, dtype: float64"
     },
     "metadata": {},
     "execution_count": 40
    }
   ],
   "source": [
    "df.loc[\"A\"]"
   ]
  },
  {
   "cell_type": "code",
   "execution_count": 49,
   "metadata": {},
   "outputs": [
    {
     "output_type": "execute_result",
     "data": {
      "text/plain": "A    0.000366\nB    0.649826\nC   -0.346419\nD    1.024810\nE    0.610478\nName: A, dtype: float64"
     },
     "metadata": {},
     "execution_count": 49
    }
   ],
   "source": [
    "df.loc[\"A B C D E\".split(),\"A\"]"
   ]
  },
  {
   "cell_type": "code",
   "execution_count": 50,
   "metadata": {},
   "outputs": [
    {
     "output_type": "execute_result",
     "data": {
      "text/plain": "          X         Y         Z\nA  0.196800 -1.136645  0.000366\nB -0.156598 -0.031579  0.649826\nC -0.610259 -0.755325 -0.346419",
      "text/html": "<div>\n<style scoped>\n    .dataframe tbody tr th:only-of-type {\n        vertical-align: middle;\n    }\n\n    .dataframe tbody tr th {\n        vertical-align: top;\n    }\n\n    .dataframe thead th {\n        text-align: right;\n    }\n</style>\n<table border=\"1\" class=\"dataframe\">\n  <thead>\n    <tr style=\"text-align: right;\">\n      <th></th>\n      <th>X</th>\n      <th>Y</th>\n      <th>Z</th>\n    </tr>\n  </thead>\n  <tbody>\n    <tr>\n      <th>A</th>\n      <td>0.196800</td>\n      <td>-1.136645</td>\n      <td>0.000366</td>\n    </tr>\n    <tr>\n      <th>B</th>\n      <td>-0.156598</td>\n      <td>-0.031579</td>\n      <td>0.649826</td>\n    </tr>\n    <tr>\n      <th>C</th>\n      <td>-0.610259</td>\n      <td>-0.755325</td>\n      <td>-0.346419</td>\n    </tr>\n  </tbody>\n</table>\n</div>"
     },
     "metadata": {},
     "execution_count": 50
    }
   ],
   "source": [
    "df.loc[[\"A\",\"B\",\"C\"],[\"X\",\"Y\",\"Z\"]]"
   ]
  },
  {
   "cell_type": "code",
   "execution_count": 51,
   "metadata": {},
   "outputs": [
    {
     "output_type": "execute_result",
     "data": {
      "text/plain": "          X         Y         Z\nA  0.196800 -1.136645  0.000366\nB -0.156598 -0.031579  0.649826\nC -0.610259 -0.755325 -0.346419",
      "text/html": "<div>\n<style scoped>\n    .dataframe tbody tr th:only-of-type {\n        vertical-align: middle;\n    }\n\n    .dataframe tbody tr th {\n        vertical-align: top;\n    }\n\n    .dataframe thead th {\n        text-align: right;\n    }\n</style>\n<table border=\"1\" class=\"dataframe\">\n  <thead>\n    <tr style=\"text-align: right;\">\n      <th></th>\n      <th>X</th>\n      <th>Y</th>\n      <th>Z</th>\n    </tr>\n  </thead>\n  <tbody>\n    <tr>\n      <th>A</th>\n      <td>0.196800</td>\n      <td>-1.136645</td>\n      <td>0.000366</td>\n    </tr>\n    <tr>\n      <th>B</th>\n      <td>-0.156598</td>\n      <td>-0.031579</td>\n      <td>0.649826</td>\n    </tr>\n    <tr>\n      <th>C</th>\n      <td>-0.610259</td>\n      <td>-0.755325</td>\n      <td>-0.346419</td>\n    </tr>\n  </tbody>\n</table>\n</div>"
     },
     "metadata": {},
     "execution_count": 51
    }
   ],
   "source": [
    "df.iloc[0:3,1:4]"
   ]
  },
  {
   "cell_type": "code",
   "execution_count": null,
   "metadata": {},
   "outputs": [],
   "source": []
  }
 ],
 "metadata": {
  "language_info": {
   "codemirror_mode": {
    "name": "ipython",
    "version": 3
   },
   "file_extension": ".py",
   "mimetype": "text/x-python",
   "name": "python",
   "nbconvert_exporter": "python",
   "pygments_lexer": "ipython3",
   "version": "3.7.6-final"
  },
  "orig_nbformat": 2,
  "kernelspec": {
   "name": "python37664bittesteconda3167da889509433a89f3a602481ffa2d",
   "display_name": "Python 3.7.6 64-bit ('[teste]': conda)"
  }
 },
 "nbformat": 4,
 "nbformat_minor": 2
}